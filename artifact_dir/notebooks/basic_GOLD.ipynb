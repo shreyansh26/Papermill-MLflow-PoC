{
 "cells": [
  {
   "cell_type": "code",
   "execution_count": 1,
   "id": "e68620ab",
   "metadata": {
    "execution": {
     "iopub.execute_input": "2021-12-04T19:14:33.642669Z",
     "iopub.status.busy": "2021-12-04T19:14:33.642154Z",
     "iopub.status.idle": "2021-12-04T19:14:33.697497Z",
     "shell.execute_reply": "2021-12-04T19:14:33.697497Z"
    },
    "papermill": {
     "duration": 0.160949,
     "end_time": "2021-12-04T19:14:33.697497",
     "exception": false,
     "start_time": "2021-12-04T19:14:33.536548",
     "status": "completed"
    },
    "tags": []
   },
   "outputs": [],
   "source": [
    "%load_ext autoreload\n",
    "%autoreload 2"
   ]
  },
  {
   "cell_type": "code",
   "execution_count": 2,
   "id": "11088773",
   "metadata": {
    "execution": {
     "iopub.execute_input": "2021-12-04T19:14:34.739609Z",
     "iopub.status.busy": "2021-12-04T19:14:34.739609Z",
     "iopub.status.idle": "2021-12-04T19:14:37.465429Z",
     "shell.execute_reply": "2021-12-04T19:14:37.466364Z"
    },
    "papermill": {
     "duration": 3.672412,
     "end_time": "2021-12-04T19:14:37.466364",
     "exception": false,
     "start_time": "2021-12-04T19:14:33.793952",
     "status": "completed"
    },
    "tags": []
   },
   "outputs": [],
   "source": [
    "import pandas as pd\n",
    "import matplotlib.pyplot as plt\n",
    "import statsmodels.api as sm\n",
    "import statsmodels.formula.api as smf\n",
    "from statsmodels.tools.tools import add_constant\n",
    "from sklearn.preprocessing import StandardScaler\n",
    "from sklearn.linear_model import LogisticRegression\n",
    "from sklearn.svm import SVC\n",
    "from sklearn.neighbors import KNeighborsClassifier\n",
    "from sklearn.ensemble import GradientBoostingClassifier, ExtraTreesClassifier\n",
    "from joblib import load\n",
    "\n",
    "from config import EXPERIMENT, RUN_NAME, ARTIFACT_DIR\n",
    "from logger import logger\n",
    "from mlflow_utils import evaluate_binary, log_mlflow"
   ]
  },
  {
   "cell_type": "code",
   "execution_count": 3,
   "id": "976ee9d2",
   "metadata": {
    "execution": {
     "iopub.execute_input": "2021-12-04T19:14:37.661104Z",
     "iopub.status.busy": "2021-12-04T19:14:37.661104Z",
     "iopub.status.idle": "2021-12-04T19:14:37.747084Z",
     "shell.execute_reply": "2021-12-04T19:14:37.748055Z"
    },
    "papermill": {
     "duration": 0.185977,
     "end_time": "2021-12-04T19:14:37.748055",
     "exception": false,
     "start_time": "2021-12-04T19:14:37.562078",
     "status": "completed"
    },
    "tags": [
     "parameters"
    ]
   },
   "outputs": [],
   "source": [
    "# Tag this cell as 'parameters'\n",
    "INDEX = 'SNP'"
   ]
  },
  {
   "cell_type": "code",
   "execution_count": 4,
   "id": "c6aa1a9b",
   "metadata": {
    "execution": {
     "iopub.execute_input": "2021-12-04T19:14:37.951972Z",
     "iopub.status.busy": "2021-12-04T19:14:37.951972Z",
     "iopub.status.idle": "2021-12-04T19:14:38.029974Z",
     "shell.execute_reply": "2021-12-04T19:14:38.030974Z"
    },
    "papermill": {
     "duration": 0.185221,
     "end_time": "2021-12-04T19:14:38.030974",
     "exception": false,
     "start_time": "2021-12-04T19:14:37.845753",
     "status": "completed"
    },
    "tags": [
     "injected-parameters"
    ]
   },
   "outputs": [],
   "source": [
    "# Parameters\n",
    "INDEX = \"GOLD\"\n"
   ]
  },
  {
   "cell_type": "code",
   "execution_count": 5,
   "id": "fb2e602e",
   "metadata": {
    "execution": {
     "iopub.execute_input": "2021-12-04T19:14:38.230972Z",
     "iopub.status.busy": "2021-12-04T19:14:38.230972Z",
     "iopub.status.idle": "2021-12-04T19:14:38.314521Z",
     "shell.execute_reply": "2021-12-04T19:14:38.315564Z"
    },
    "papermill": {
     "duration": 0.188592,
     "end_time": "2021-12-04T19:14:38.315564",
     "exception": false,
     "start_time": "2021-12-04T19:14:38.126972",
     "status": "completed"
    },
    "tags": []
   },
   "outputs": [],
   "source": [
    "# Wrap all this is a parameter dict\n",
    "run_params = {'experiment': EXPERIMENT,\n",
    "              'iteration': RUN_NAME,\n",
    "              'index': INDEX,\n",
    "              'artifact_dir': ARTIFACT_DIR}"
   ]
  },
  {
   "cell_type": "markdown",
   "id": "dfb0ac08",
   "metadata": {
    "papermill": {
     "duration": 0.100108,
     "end_time": "2021-12-04T19:14:38.512630",
     "exception": false,
     "start_time": "2021-12-04T19:14:38.412522",
     "status": "completed"
    },
    "tags": []
   },
   "source": [
    "### Import data"
   ]
  },
  {
   "cell_type": "code",
   "execution_count": 6,
   "id": "164d507e",
   "metadata": {
    "execution": {
     "iopub.execute_input": "2021-12-04T19:14:38.720692Z",
     "iopub.status.busy": "2021-12-04T19:14:38.719690Z",
     "iopub.status.idle": "2021-12-04T19:14:38.850260Z",
     "shell.execute_reply": "2021-12-04T19:14:38.849253Z"
    },
    "papermill": {
     "duration": 0.232569,
     "end_time": "2021-12-04T19:14:38.850260",
     "exception": false,
     "start_time": "2021-12-04T19:14:38.617691",
     "status": "completed"
    },
    "tags": []
   },
   "outputs": [],
   "source": [
    "df = pd.read_csv('../datadir/{}.csv'.format(INDEX))"
   ]
  },
  {
   "cell_type": "markdown",
   "id": "b0bbd710",
   "metadata": {
    "papermill": {
     "duration": 0.104046,
     "end_time": "2021-12-04T19:14:39.058301",
     "exception": false,
     "start_time": "2021-12-04T19:14:38.954255",
     "status": "completed"
    },
    "tags": []
   },
   "source": [
    "### Data prep"
   ]
  },
  {
   "cell_type": "code",
   "execution_count": 7,
   "id": "c1564134",
   "metadata": {
    "execution": {
     "iopub.execute_input": "2021-12-04T19:14:39.270392Z",
     "iopub.status.busy": "2021-12-04T19:14:39.269392Z",
     "iopub.status.idle": "2021-12-04T19:14:39.355038Z",
     "shell.execute_reply": "2021-12-04T19:14:39.355038Z"
    },
    "papermill": {
     "duration": 0.190599,
     "end_time": "2021-12-04T19:14:39.356037",
     "exception": false,
     "start_time": "2021-12-04T19:14:39.165438",
     "status": "completed"
    },
    "tags": []
   },
   "outputs": [],
   "source": [
    "df.columns = [col.lower().replace(' ', '_') for col in df.columns]"
   ]
  },
  {
   "cell_type": "code",
   "execution_count": 8,
   "id": "1e79ad76",
   "metadata": {
    "execution": {
     "iopub.execute_input": "2021-12-04T19:14:39.566397Z",
     "iopub.status.busy": "2021-12-04T19:14:39.566397Z",
     "iopub.status.idle": "2021-12-04T19:14:39.653495Z",
     "shell.execute_reply": "2021-12-04T19:14:39.652496Z"
    },
    "papermill": {
     "duration": 0.19412,
     "end_time": "2021-12-04T19:14:39.653601",
     "exception": false,
     "start_time": "2021-12-04T19:14:39.459481",
     "status": "completed"
    },
    "tags": []
   },
   "outputs": [],
   "source": [
    "df.sort_values(by='date', ascending=True, inplace=True)  # Have to sort ascending for rolling to work correctly"
   ]
  },
  {
   "cell_type": "markdown",
   "id": "87130d68",
   "metadata": {
    "papermill": {
     "duration": 0.104854,
     "end_time": "2021-12-04T19:14:39.868340",
     "exception": false,
     "start_time": "2021-12-04T19:14:39.763486",
     "status": "completed"
    },
    "tags": []
   },
   "source": [
    "### Create basic features"
   ]
  },
  {
   "cell_type": "code",
   "execution_count": 9,
   "id": "fc6d8e75",
   "metadata": {
    "execution": {
     "iopub.execute_input": "2021-12-04T19:14:40.091960Z",
     "iopub.status.busy": "2021-12-04T19:14:40.090901Z",
     "iopub.status.idle": "2021-12-04T19:14:40.189900Z",
     "shell.execute_reply": "2021-12-04T19:14:40.188900Z"
    },
    "papermill": {
     "duration": 0.220001,
     "end_time": "2021-12-04T19:14:40.189900",
     "exception": false,
     "start_time": "2021-12-04T19:14:39.969899",
     "status": "completed"
    },
    "tags": []
   },
   "outputs": [],
   "source": [
    "df = df[['date', 'open', 'adj_close']].copy()"
   ]
  },
  {
   "cell_type": "code",
   "execution_count": 10,
   "id": "d6e3b882",
   "metadata": {
    "execution": {
     "iopub.execute_input": "2021-12-04T19:14:40.425901Z",
     "iopub.status.busy": "2021-12-04T19:14:40.425901Z",
     "iopub.status.idle": "2021-12-04T19:14:40.520945Z",
     "shell.execute_reply": "2021-12-04T19:14:40.519898Z"
    },
    "papermill": {
     "duration": 0.213988,
     "end_time": "2021-12-04T19:14:40.520945",
     "exception": false,
     "start_time": "2021-12-04T19:14:40.306957",
     "status": "completed"
    },
    "tags": []
   },
   "outputs": [],
   "source": [
    "df['prev'] = df['adj_close'].shift(1)"
   ]
  },
  {
   "cell_type": "code",
   "execution_count": 11,
   "id": "0f03f3e2",
   "metadata": {
    "execution": {
     "iopub.execute_input": "2021-12-04T19:14:40.757901Z",
     "iopub.status.busy": "2021-12-04T19:14:40.755903Z",
     "iopub.status.idle": "2021-12-04T19:14:40.866899Z",
     "shell.execute_reply": "2021-12-04T19:14:40.866899Z"
    },
    "papermill": {
     "duration": 0.241998,
     "end_time": "2021-12-04T19:14:40.866899",
     "exception": false,
     "start_time": "2021-12-04T19:14:40.624901",
     "status": "completed"
    },
    "tags": []
   },
   "outputs": [],
   "source": [
    "df['sma2'] = df['prev'].rolling(window=2).mean()\n",
    "df['sma5'] = df['prev'].rolling(window=5).mean()\n",
    "df['sma10'] = df['prev'].rolling(window=10).mean()\n",
    "df['sma20'] = df['prev'].rolling(window=20).mean()"
   ]
  },
  {
   "cell_type": "code",
   "execution_count": 12,
   "id": "e7265e82",
   "metadata": {
    "execution": {
     "iopub.execute_input": "2021-12-04T19:14:41.112898Z",
     "iopub.status.busy": "2021-12-04T19:14:41.112898Z",
     "iopub.status.idle": "2021-12-04T19:14:41.192951Z",
     "shell.execute_reply": "2021-12-04T19:14:41.192951Z"
    },
    "papermill": {
     "duration": 0.197989,
     "end_time": "2021-12-04T19:14:41.192951",
     "exception": false,
     "start_time": "2021-12-04T19:14:40.994962",
     "status": "completed"
    },
    "tags": []
   },
   "outputs": [],
   "source": [
    "assert round(df['prev'].tail(5).mean(), 4) == round(df['sma5'].tail(1).item(), 4), 'Expected sma5 to be same as mean of past 5 items'\n",
    "assert round(df['prev'].tail(10).mean(), 4) == round(df['sma10'].tail(1).item(), 4), 'Expected sma10 to be same as mean of past 10 items'\n",
    "assert round(df['prev'].tail(20).mean(), 4) == round(df['sma20'].tail(1).item(), 4), 'Expected sma20 to be same as mean of past 20 items'"
   ]
  },
  {
   "cell_type": "code",
   "execution_count": 13,
   "id": "6628cd0b",
   "metadata": {
    "execution": {
     "iopub.execute_input": "2021-12-04T19:14:41.416943Z",
     "iopub.status.busy": "2021-12-04T19:14:41.415963Z",
     "iopub.status.idle": "2021-12-04T19:14:41.504846Z",
     "shell.execute_reply": "2021-12-04T19:14:41.504846Z"
    },
    "papermill": {
     "duration": 0.200919,
     "end_time": "2021-12-04T19:14:41.505817",
     "exception": false,
     "start_time": "2021-12-04T19:14:41.304898",
     "status": "completed"
    },
    "tags": []
   },
   "outputs": [],
   "source": [
    "df['ema12'] = df['prev'].ewm(span=12, min_periods=12, adjust=False).mean()\n",
    "df['ema26'] = df['prev'].ewm(span=26, min_periods=26, adjust=False).mean()"
   ]
  },
  {
   "cell_type": "code",
   "execution_count": 14,
   "id": "cdeb81b8",
   "metadata": {
    "execution": {
     "iopub.execute_input": "2021-12-04T19:14:41.703803Z",
     "iopub.status.busy": "2021-12-04T19:14:41.703803Z",
     "iopub.status.idle": "2021-12-04T19:14:41.789276Z",
     "shell.execute_reply": "2021-12-04T19:14:41.790277Z"
    },
    "papermill": {
     "duration": 0.184472,
     "end_time": "2021-12-04T19:14:41.790277",
     "exception": false,
     "start_time": "2021-12-04T19:14:41.605805",
     "status": "completed"
    },
    "tags": []
   },
   "outputs": [],
   "source": [
    "def difference(prev_price, moving_average):\n",
    "    return (prev_price - moving_average) / prev_price"
   ]
  },
  {
   "cell_type": "code",
   "execution_count": 15,
   "id": "44dae7e0",
   "metadata": {
    "execution": {
     "iopub.execute_input": "2021-12-04T19:14:41.993276Z",
     "iopub.status.busy": "2021-12-04T19:14:41.993276Z",
     "iopub.status.idle": "2021-12-04T19:14:42.076536Z",
     "shell.execute_reply": "2021-12-04T19:14:42.076536Z"
    },
    "papermill": {
     "duration": 0.187302,
     "end_time": "2021-12-04T19:14:42.077579",
     "exception": false,
     "start_time": "2021-12-04T19:14:41.890277",
     "status": "completed"
    },
    "tags": []
   },
   "outputs": [],
   "source": [
    "for col in ['sma2', 'sma5', 'sma10', 'sma20', 'ema12', 'ema26']:\n",
    "    df['{}_diff'.format(col)] = difference(df['prev'], df[col])"
   ]
  },
  {
   "cell_type": "code",
   "execution_count": 16,
   "id": "0d4b8c16",
   "metadata": {
    "execution": {
     "iopub.execute_input": "2021-12-04T19:14:42.282535Z",
     "iopub.status.busy": "2021-12-04T19:14:42.282535Z",
     "iopub.status.idle": "2021-12-04T19:14:42.362570Z",
     "shell.execute_reply": "2021-12-04T19:14:42.361519Z"
    },
    "papermill": {
     "duration": 0.17799,
     "end_time": "2021-12-04T19:14:42.362570",
     "exception": false,
     "start_time": "2021-12-04T19:14:42.184580",
     "status": "completed"
    },
    "tags": []
   },
   "outputs": [],
   "source": [
    "df.dropna(inplace=True)"
   ]
  },
  {
   "cell_type": "code",
   "execution_count": 17,
   "id": "e2be1b8c",
   "metadata": {
    "execution": {
     "iopub.execute_input": "2021-12-04T19:14:42.561947Z",
     "iopub.status.busy": "2021-12-04T19:14:42.561947Z",
     "iopub.status.idle": "2021-12-04T19:14:42.637744Z",
     "shell.execute_reply": "2021-12-04T19:14:42.638747Z"
    },
    "papermill": {
     "duration": 0.179254,
     "end_time": "2021-12-04T19:14:42.638747",
     "exception": false,
     "start_time": "2021-12-04T19:14:42.459493",
     "status": "completed"
    },
    "tags": []
   },
   "outputs": [
    {
     "data": {
      "text/plain": [
       "(216, 16)"
      ]
     },
     "execution_count": 17,
     "metadata": {},
     "output_type": "execute_result"
    }
   ],
   "source": [
    "df.shape"
   ]
  },
  {
   "cell_type": "code",
   "execution_count": 18,
   "id": "e8dfe296",
   "metadata": {
    "execution": {
     "iopub.execute_input": "2021-12-04T19:14:42.849323Z",
     "iopub.status.busy": "2021-12-04T19:14:42.849323Z",
     "iopub.status.idle": "2021-12-04T19:14:42.937151Z",
     "shell.execute_reply": "2021-12-04T19:14:42.937151Z"
    },
    "papermill": {
     "duration": 0.186411,
     "end_time": "2021-12-04T19:14:42.937151",
     "exception": false,
     "start_time": "2021-12-04T19:14:42.750740",
     "status": "completed"
    },
    "tags": []
   },
   "outputs": [],
   "source": [
    "df.drop(columns=['date', 'open'], inplace=True)"
   ]
  },
  {
   "cell_type": "markdown",
   "id": "ca0f059b",
   "metadata": {
    "papermill": {
     "duration": 0.098,
     "end_time": "2021-12-04T19:14:43.136948",
     "exception": false,
     "start_time": "2021-12-04T19:14:43.038948",
     "status": "completed"
    },
    "tags": []
   },
   "source": [
    "### Create label"
   ]
  },
  {
   "cell_type": "code",
   "execution_count": 19,
   "id": "9017ebc8",
   "metadata": {
    "execution": {
     "iopub.execute_input": "2021-12-04T19:14:43.338947Z",
     "iopub.status.busy": "2021-12-04T19:14:43.338947Z",
     "iopub.status.idle": "2021-12-04T19:14:43.418953Z",
     "shell.execute_reply": "2021-12-04T19:14:43.417959Z"
    },
    "papermill": {
     "duration": 0.184001,
     "end_time": "2021-12-04T19:14:43.419948",
     "exception": false,
     "start_time": "2021-12-04T19:14:43.235947",
     "status": "completed"
    },
    "tags": []
   },
   "outputs": [],
   "source": [
    "df['label'] = (df['adj_close'] > df['prev']).astype(int)"
   ]
  },
  {
   "cell_type": "markdown",
   "id": "d0e918c3",
   "metadata": {
    "papermill": {
     "duration": 0.099488,
     "end_time": "2021-12-04T19:14:43.626932",
     "exception": false,
     "start_time": "2021-12-04T19:14:43.527444",
     "status": "completed"
    },
    "tags": []
   },
   "source": [
    "### Train-val split"
   ]
  },
  {
   "cell_type": "code",
   "execution_count": 20,
   "id": "73989af4",
   "metadata": {
    "execution": {
     "iopub.execute_input": "2021-12-04T19:14:43.826668Z",
     "iopub.status.busy": "2021-12-04T19:14:43.826668Z",
     "iopub.status.idle": "2021-12-04T19:14:43.905010Z",
     "shell.execute_reply": "2021-12-04T19:14:43.905010Z"
    },
    "papermill": {
     "duration": 0.181465,
     "end_time": "2021-12-04T19:14:43.905010",
     "exception": false,
     "start_time": "2021-12-04T19:14:43.723545",
     "status": "completed"
    },
    "tags": []
   },
   "outputs": [],
   "source": [
    "# Keep most recent 20 days as validation set"
   ]
  },
  {
   "cell_type": "code",
   "execution_count": 21,
   "id": "1aa32a89",
   "metadata": {
    "execution": {
     "iopub.execute_input": "2021-12-04T19:14:44.106179Z",
     "iopub.status.busy": "2021-12-04T19:14:44.106179Z",
     "iopub.status.idle": "2021-12-04T19:14:44.183989Z",
     "shell.execute_reply": "2021-12-04T19:14:44.183989Z"
    },
    "papermill": {
     "duration": 0.180795,
     "end_time": "2021-12-04T19:14:44.184984",
     "exception": false,
     "start_time": "2021-12-04T19:14:44.004189",
     "status": "completed"
    },
    "tags": []
   },
   "outputs": [
    {
     "name": "stdout",
     "output_type": "stream",
     "text": [
      "[05/Dec/2021 00:44:44] INFO - No. of days - Train: 196, Val: 20\n"
     ]
    }
   ],
   "source": [
    "validation_days = 20\n",
    "train = df.iloc[:-validation_days].copy()\n",
    "val = df.iloc[-validation_days:].copy()\n",
    "logger.info('No. of days - Train: {}, Val: {}'.format(train.shape[0], val.shape[0]))"
   ]
  },
  {
   "cell_type": "markdown",
   "id": "f8f8796b",
   "metadata": {
    "papermill": {
     "duration": 0.102101,
     "end_time": "2021-12-04T19:14:44.382755",
     "exception": false,
     "start_time": "2021-12-04T19:14:44.280654",
     "status": "completed"
    },
    "tags": []
   },
   "source": [
    "### Basic visualizations"
   ]
  },
  {
   "cell_type": "code",
   "execution_count": 22,
   "id": "404c0a1a",
   "metadata": {
    "execution": {
     "iopub.execute_input": "2021-12-04T19:14:44.587002Z",
     "iopub.status.busy": "2021-12-04T19:14:44.585991Z",
     "iopub.status.idle": "2021-12-04T19:14:44.813001Z",
     "shell.execute_reply": "2021-12-04T19:14:44.813001Z"
    },
    "papermill": {
     "duration": 0.328203,
     "end_time": "2021-12-04T19:14:44.813001",
     "exception": false,
     "start_time": "2021-12-04T19:14:44.484798",
     "status": "completed"
    },
    "tags": []
   },
   "outputs": [
    {
     "data": {
      "text/plain": [
       "<matplotlib.legend.Legend at 0x1639924b1f0>"
      ]
     },
     "execution_count": 22,
     "metadata": {},
     "output_type": "execute_result"
    },
    {
     "data": {
      "image/png": "[encoded data removed]",
      "text/plain": [
       "<Figure size 1080x360 with 1 Axes>"
      ]
     },
     "metadata": {
      "needs_background": "light"
     },
     "output_type": "display_data"
    }
   ],
   "source": [
    "plt.figure(figsize=(15, 5))\n",
    "plt.grid()\n",
    "plt.plot(train['adj_close'], label='price')\n",
    "plt.plot(train['sma20'], label='simple moving average 20')\n",
    "plt.plot(train['ema12'], label='exponential moving average 12')\n",
    "plt.plot(train['ema26'], label='exponential moving average 26')\n",
    "plt.legend()"
   ]
  },
  {
   "cell_type": "markdown",
   "id": "18bef791",
   "metadata": {
    "papermill": {
     "duration": 0.102042,
     "end_time": "2021-12-04T19:14:45.022001",
     "exception": false,
     "start_time": "2021-12-04T19:14:44.919959",
     "status": "completed"
    },
    "tags": []
   },
   "source": [
    "### Feature transformations"
   ]
  },
  {
   "cell_type": "code",
   "execution_count": 23,
   "id": "9735f7a6",
   "metadata": {
    "execution": {
     "iopub.execute_input": "2021-12-04T19:14:45.292419Z",
     "iopub.status.busy": "2021-12-04T19:14:45.292121Z",
     "iopub.status.idle": "2021-12-04T19:14:45.392597Z",
     "shell.execute_reply": "2021-12-04T19:14:45.392597Z"
    },
    "papermill": {
     "duration": 0.264595,
     "end_time": "2021-12-04T19:14:45.392597",
     "exception": false,
     "start_time": "2021-12-04T19:14:45.128002",
     "status": "completed"
    },
    "tags": []
   },
   "outputs": [],
   "source": [
    "scaler = StandardScaler()"
   ]
  },
  {
   "cell_type": "code",
   "execution_count": 24,
   "id": "f5ffcd19",
   "metadata": {
    "execution": {
     "iopub.execute_input": "2021-12-04T19:14:45.605986Z",
     "iopub.status.busy": "2021-12-04T19:14:45.604986Z",
     "iopub.status.idle": "2021-12-04T19:14:45.694603Z",
     "shell.execute_reply": "2021-12-04T19:14:45.693569Z"
    },
    "papermill": {
     "duration": 0.194572,
     "end_time": "2021-12-04T19:14:45.694603",
     "exception": false,
     "start_time": "2021-12-04T19:14:45.500031",
     "status": "completed"
    },
    "tags": []
   },
   "outputs": [],
   "source": [
    "COLS_TO_SCALE = ['prev', 'sma2', 'sma5', 'sma10', 'sma20', 'ema12', 'ema26']"
   ]
  },
  {
   "cell_type": "code",
   "execution_count": 25,
   "id": "917066a1",
   "metadata": {
    "execution": {
     "iopub.execute_input": "2021-12-04T19:14:45.917301Z",
     "iopub.status.busy": "2021-12-04T19:14:45.916299Z",
     "iopub.status.idle": "2021-12-04T19:14:45.998257Z",
     "shell.execute_reply": "2021-12-04T19:14:45.998257Z"
    },
    "papermill": {
     "duration": 0.185998,
     "end_time": "2021-12-04T19:14:45.998257",
     "exception": false,
     "start_time": "2021-12-04T19:14:45.812259",
     "status": "completed"
    },
    "tags": []
   },
   "outputs": [
    {
     "data": {
      "text/plain": [
       "StandardScaler()"
      ]
     },
     "execution_count": 25,
     "metadata": {},
     "output_type": "execute_result"
    }
   ],
   "source": [
    "scaler.fit(train[COLS_TO_SCALE])"
   ]
  },
  {
   "cell_type": "code",
   "execution_count": 26,
   "id": "b1baebc4",
   "metadata": {
    "execution": {
     "iopub.execute_input": "2021-12-04T19:14:46.207300Z",
     "iopub.status.busy": "2021-12-04T19:14:46.206256Z",
     "iopub.status.idle": "2021-12-04T19:14:46.286257Z",
     "shell.execute_reply": "2021-12-04T19:14:46.286257Z"
    },
    "papermill": {
     "duration": 0.184998,
     "end_time": "2021-12-04T19:14:46.286257",
     "exception": false,
     "start_time": "2021-12-04T19:14:46.101259",
     "status": "completed"
    },
    "tags": []
   },
   "outputs": [],
   "source": [
    "train[COLS_TO_SCALE] = scaler.transform(train[COLS_TO_SCALE])\n",
    "val[COLS_TO_SCALE] = scaler.transform(val[COLS_TO_SCALE])"
   ]
  },
  {
   "cell_type": "markdown",
   "id": "e21521ee",
   "metadata": {
    "papermill": {
     "duration": 0.102699,
     "end_time": "2021-12-04T19:14:46.493195",
     "exception": false,
     "start_time": "2021-12-04T19:14:46.390496",
     "status": "completed"
    },
    "tags": []
   },
   "source": [
    "### Linear regression coefficients"
   ]
  },
  {
   "cell_type": "code",
   "execution_count": 27,
   "id": "3aec6a38",
   "metadata": {
    "execution": {
     "iopub.execute_input": "2021-12-04T19:14:46.727485Z",
     "iopub.status.busy": "2021-12-04T19:14:46.726513Z",
     "iopub.status.idle": "2021-12-04T19:14:46.812310Z",
     "shell.execute_reply": "2021-12-04T19:14:46.811330Z"
    },
    "papermill": {
     "duration": 0.219018,
     "end_time": "2021-12-04T19:14:46.812310",
     "exception": false,
     "start_time": "2021-12-04T19:14:46.593292",
     "status": "completed"
    },
    "tags": []
   },
   "outputs": [
    {
     "name": "stdout",
     "output_type": "stream",
     "text": [
      "[05/Dec/2021 00:44:46] INFO - x variables: prev+sma2+sma5+sma10+sma20+ema12+ema26+sma2_diff+sma5_diff+sma10_diff+sma20_diff+ema12_diff+ema26_diff\n"
     ]
    }
   ],
   "source": [
    "x_variables = '+'.join(list(train.columns[1:-1]))\n",
    "logger.info('x variables: {}'.format(x_variables))"
   ]
  },
  {
   "cell_type": "code",
   "execution_count": 28,
   "id": "45666b77",
   "metadata": {
    "execution": {
     "iopub.execute_input": "2021-12-04T19:14:47.026194Z",
     "iopub.status.busy": "2021-12-04T19:14:47.025195Z",
     "iopub.status.idle": "2021-12-04T19:14:47.130187Z",
     "shell.execute_reply": "2021-12-04T19:14:47.129193Z"
    },
    "papermill": {
     "duration": 0.214036,
     "end_time": "2021-12-04T19:14:47.131188",
     "exception": false,
     "start_time": "2021-12-04T19:14:46.917152",
     "status": "completed"
    },
    "tags": []
   },
   "outputs": [],
   "source": [
    "results = smf.ols('adj_close ~ {}'.format(x_variables), data=train).fit()"
   ]
  },
  {
   "cell_type": "code",
   "execution_count": 29,
   "id": "9591050e",
   "metadata": {
    "execution": {
     "iopub.execute_input": "2021-12-04T19:14:47.346193Z",
     "iopub.status.busy": "2021-12-04T19:14:47.346193Z",
     "iopub.status.idle": "2021-12-04T19:14:47.445153Z",
     "shell.execute_reply": "2021-12-04T19:14:47.445153Z"
    },
    "papermill": {
     "duration": 0.205953,
     "end_time": "2021-12-04T19:14:47.446152",
     "exception": false,
     "start_time": "2021-12-04T19:14:47.240199",
     "status": "completed"
    },
    "scrolled": false,
    "tags": []
   },
   "outputs": [
    {
     "name": "stdout",
     "output_type": "stream",
     "text": [
      "                            OLS Regression Results                            \n",
      "==============================================================================\n",
      "Dep. Variable:              adj_close   R-squared:                       0.989\n",
      "Model:                            OLS   Adj. R-squared:                  0.988\n",
      "Method:                 Least Squares   F-statistic:                     1238.\n",
      "Date:                Sun, 05 Dec 2021   Prob (F-statistic):          6.22e-170\n",
      "Time:                        00:44:47   Log-Likelihood:                -742.93\n",
      "No. Observations:                 196   AIC:                             1514.\n",
      "Df Residuals:                     182   BIC:                             1560.\n",
      "Df Model:                          13                                         \n",
      "Covariance Type:            nonrobust                                         \n",
      "==============================================================================\n",
      "                 coef    std err          t      P>|t|      [0.025      0.975]\n",
      "------------------------------------------------------------------------------\n",
      "Intercept   1413.1773     10.631    132.932      0.000    1392.202    1434.153\n",
      "prev         -42.8879    280.687     -0.153      0.879    -596.707     510.931\n",
      "sma2        -205.2115    459.256     -0.447      0.656   -1111.361     700.938\n",
      "sma5         -22.9379    770.804     -0.030      0.976   -1543.800    1497.924\n",
      "sma10       -701.7504   1235.132     -0.568      0.571   -3138.771    1735.270\n",
      "sma20       -353.3180    843.868     -0.419      0.676   -2018.341    1311.705\n",
      "ema12       1324.5330   3393.701      0.390      0.697   -5371.525    8020.591\n",
      "ema26         91.5897    465.805      0.197      0.844    -827.483    1010.662\n",
      "sma2_diff  -2669.3844   6628.782     -0.403      0.688   -1.57e+04    1.04e+04\n",
      "sma5_diff   1312.9230   1.09e+04      0.120      0.905   -2.03e+04    2.29e+04\n",
      "sma10_diff -7514.0442   1.76e+04     -0.427      0.670   -4.22e+04    2.72e+04\n",
      "sma20_diff -3864.3166   1.21e+04     -0.319      0.750   -2.77e+04       2e+04\n",
      "ema12_diff  1.164e+04   4.87e+04      0.239      0.811   -8.44e+04    1.08e+05\n",
      "ema26_diff  2707.6570   6889.260      0.393      0.695   -1.09e+04    1.63e+04\n",
      "==============================================================================\n",
      "Omnibus:                       11.308   Durbin-Watson:                   1.983\n",
      "Prob(Omnibus):                  0.004   Jarque-Bera (JB):               26.725\n",
      "Skew:                          -0.055   Prob(JB):                     1.57e-06\n",
      "Kurtosis:                       4.806   Cond. No.                     1.80e+05\n",
      "==============================================================================\n",
      "\n",
      "Notes:\n",
      "[1] Standard Errors assume that the covariance matrix of the errors is correctly specified.\n",
      "[2] The condition number is large, 1.8e+05. This might indicate that there are\n",
      "strong multicollinearity or other numerical problems.\n"
     ]
    }
   ],
   "source": [
    "print(results.summary())"
   ]
  },
  {
   "cell_type": "markdown",
   "id": "c705f129",
   "metadata": {
    "papermill": {
     "duration": 0.104044,
     "end_time": "2021-12-04T19:14:47.664194",
     "exception": false,
     "start_time": "2021-12-04T19:14:47.560150",
     "status": "completed"
    },
    "tags": []
   },
   "source": [
    "### Drop label col"
   ]
  },
  {
   "cell_type": "code",
   "execution_count": 30,
   "id": "8426e5e1",
   "metadata": {
    "execution": {
     "iopub.execute_input": "2021-12-04T19:14:47.883193Z",
     "iopub.status.busy": "2021-12-04T19:14:47.883193Z",
     "iopub.status.idle": "2021-12-04T19:14:47.969194Z",
     "shell.execute_reply": "2021-12-04T19:14:47.968192Z"
    },
    "papermill": {
     "duration": 0.195999,
     "end_time": "2021-12-04T19:14:47.969194",
     "exception": false,
     "start_time": "2021-12-04T19:14:47.773195",
     "status": "completed"
    },
    "tags": []
   },
   "outputs": [],
   "source": [
    "train.drop(columns=['adj_close'], inplace=True)\n",
    "val.drop(columns=['adj_close'], inplace=True)"
   ]
  },
  {
   "cell_type": "markdown",
   "id": "8eb514b5",
   "metadata": {
    "papermill": {
     "duration": 0.125,
     "end_time": "2021-12-04T19:14:48.201407",
     "exception": false,
     "start_time": "2021-12-04T19:14:48.076407",
     "status": "completed"
    },
    "tags": []
   },
   "source": [
    "### Logistic Regression Coefficients"
   ]
  },
  {
   "cell_type": "code",
   "execution_count": 31,
   "id": "a3043b49",
   "metadata": {
    "execution": {
     "iopub.execute_input": "2021-12-04T19:14:48.419425Z",
     "iopub.status.busy": "2021-12-04T19:14:48.419425Z",
     "iopub.status.idle": "2021-12-04T19:14:48.508478Z",
     "shell.execute_reply": "2021-12-04T19:14:48.508478Z"
    },
    "papermill": {
     "duration": 0.202048,
     "end_time": "2021-12-04T19:14:48.508478",
     "exception": false,
     "start_time": "2021-12-04T19:14:48.306430",
     "status": "completed"
    },
    "tags": []
   },
   "outputs": [],
   "source": [
    "y = train['label'].values\n",
    "X = train.drop(columns=['label'])"
   ]
  },
  {
   "cell_type": "code",
   "execution_count": 32,
   "id": "e065366f",
   "metadata": {
    "execution": {
     "iopub.execute_input": "2021-12-04T19:14:48.722678Z",
     "iopub.status.busy": "2021-12-04T19:14:48.722678Z",
     "iopub.status.idle": "2021-12-04T19:14:48.825095Z",
     "shell.execute_reply": "2021-12-04T19:14:48.825095Z"
    },
    "papermill": {
     "duration": 0.211459,
     "end_time": "2021-12-04T19:14:48.825095",
     "exception": false,
     "start_time": "2021-12-04T19:14:48.613636",
     "status": "completed"
    },
    "tags": []
   },
   "outputs": [],
   "source": [
    "X = add_constant(X)"
   ]
  },
  {
   "cell_type": "code",
   "execution_count": 33,
   "id": "6963dbfa",
   "metadata": {
    "execution": {
     "iopub.execute_input": "2021-12-04T19:14:49.049815Z",
     "iopub.status.busy": "2021-12-04T19:14:49.049815Z",
     "iopub.status.idle": "2021-12-04T19:14:49.130681Z",
     "shell.execute_reply": "2021-12-04T19:14:49.130681Z"
    },
    "papermill": {
     "duration": 0.19083,
     "end_time": "2021-12-04T19:14:49.130681",
     "exception": false,
     "start_time": "2021-12-04T19:14:48.939851",
     "status": "completed"
    },
    "tags": []
   },
   "outputs": [],
   "source": [
    "logit = sm.Logit(y, X)"
   ]
  },
  {
   "cell_type": "code",
   "execution_count": 34,
   "id": "af750f47",
   "metadata": {
    "execution": {
     "iopub.execute_input": "2021-12-04T19:14:49.344722Z",
     "iopub.status.busy": "2021-12-04T19:14:49.344722Z",
     "iopub.status.idle": "2021-12-04T19:14:49.441764Z",
     "shell.execute_reply": "2021-12-04T19:14:49.441764Z"
    },
    "papermill": {
     "duration": 0.207101,
     "end_time": "2021-12-04T19:14:49.442824",
     "exception": false,
     "start_time": "2021-12-04T19:14:49.235723",
     "status": "completed"
    },
    "tags": []
   },
   "outputs": [
    {
     "name": "stdout",
     "output_type": "stream",
     "text": [
      "Warning: Maximum number of iterations has been exceeded.\n",
      "         Current function value: 7.564462\n",
      "         Iterations: 35\n",
      "                           Logit Regression Results                           \n",
      "==============================================================================\n",
      "Dep. Variable:                      y   No. Observations:                  196\n",
      "Model:                          Logit   Df Residuals:                      182\n",
      "Method:                           MLE   Df Model:                           13\n",
      "Date:                Sun, 05 Dec 2021   Pseudo R-squ.:                  -10.03\n",
      "Time:                        00:44:49   Log-Likelihood:                -1482.6\n",
      "converged:                      False   LL-Null:                       -134.38\n",
      "Covariance Type:            nonrobust   LLR p-value:                     1.000\n",
      "==============================================================================\n",
      "                 coef    std err          z      P>|z|      [0.025      0.975]\n",
      "------------------------------------------------------------------------------\n",
      "const         62.7397     19.043      3.295      0.001      25.415     100.064\n",
      "prev       -3096.5983    813.745     -3.805      0.000   -4691.509   -1501.688\n",
      "sma2       -7165.2280   1877.803     -3.816      0.000   -1.08e+04   -3484.802\n",
      "sma5       -1.914e+04   5134.663     -3.727      0.000   -2.92e+04   -9072.776\n",
      "sma10      -3.236e+04   8616.628     -3.755      0.000   -4.92e+04   -1.55e+04\n",
      "sma20      -2.231e+04   5877.903     -3.796      0.000   -3.38e+04   -1.08e+04\n",
      "ema12       9.352e+04   2.48e+04      3.777      0.000     4.5e+04    1.42e+05\n",
      "ema26      -9744.7075   2602.242     -3.745      0.000   -1.48e+04   -4644.407\n",
      "sma2_diff  -1.039e+05   2.72e+04     -3.817      0.000   -1.57e+05   -5.05e+04\n",
      "sma5_diff  -2.741e+05   7.36e+04     -3.723      0.000   -4.18e+05    -1.3e+05\n",
      "sma10_diff -4.648e+05   1.24e+05     -3.752      0.000   -7.08e+05   -2.22e+05\n",
      "sma20_diff -3.218e+05   8.49e+04     -3.791      0.000   -4.88e+05   -1.55e+05\n",
      "ema12_diff  1.352e+06   3.58e+05      3.774      0.000     6.5e+05    2.05e+06\n",
      "ema26_diff -1.436e+05   3.84e+04     -3.744      0.000   -2.19e+05   -6.84e+04\n",
      "==============================================================================\n",
      "\n",
      "Possibly complete quasi-separation: A fraction 0.28 of observations can be\n",
      "perfectly predicted. This might indicate that there is complete\n",
      "quasi-separation. In this case some parameters will not be identified.\n"
     ]
    },
    {
     "name": "stderr",
     "output_type": "stream",
     "text": [
      "D:\\Softwares\\miniconda3\\envs\\mlops\\lib\\site-packages\\statsmodels\\base\\model.py:604: ConvergenceWarning: Maximum Likelihood optimization failed to converge. Check mle_retvals\n",
      "  warnings.warn(\"Maximum Likelihood optimization failed to \"\n"
     ]
    }
   ],
   "source": [
    "result = logit.fit()\n",
    "print(result.summary())"
   ]
  },
  {
   "cell_type": "markdown",
   "id": "06c0d11a",
   "metadata": {
    "papermill": {
     "duration": 0.107902,
     "end_time": "2021-12-04T19:14:49.662407",
     "exception": false,
     "start_time": "2021-12-04T19:14:49.554505",
     "status": "completed"
    },
    "tags": []
   },
   "source": [
    "### Train some basic models"
   ]
  },
  {
   "cell_type": "code",
   "execution_count": 35,
   "id": "cae4b590",
   "metadata": {
    "execution": {
     "iopub.execute_input": "2021-12-04T19:14:49.885679Z",
     "iopub.status.busy": "2021-12-04T19:14:49.885679Z",
     "iopub.status.idle": "2021-12-04T19:14:49.972728Z",
     "shell.execute_reply": "2021-12-04T19:14:49.971717Z"
    },
    "papermill": {
     "duration": 0.203274,
     "end_time": "2021-12-04T19:14:49.972728",
     "exception": false,
     "start_time": "2021-12-04T19:14:49.769454",
     "status": "completed"
    },
    "tags": []
   },
   "outputs": [],
   "source": [
    "y_train = train['label'].values\n",
    "X_train = train.drop(columns='label').values\n",
    "\n",
    "y_val = val['label'].values\n",
    "X_val = val.drop(columns='label').values"
   ]
  },
  {
   "cell_type": "code",
   "execution_count": 36,
   "id": "89bfd5a4",
   "metadata": {
    "execution": {
     "iopub.execute_input": "2021-12-04T19:14:50.198722Z",
     "iopub.status.busy": "2021-12-04T19:14:50.198722Z",
     "iopub.status.idle": "2021-12-04T19:14:51.241190Z",
     "shell.execute_reply": "2021-12-04T19:14:51.241190Z"
    },
    "papermill": {
     "duration": 1.152485,
     "end_time": "2021-12-04T19:14:51.241190",
     "exception": false,
     "start_time": "2021-12-04T19:14:50.088705",
     "status": "completed"
    },
    "tags": []
   },
   "outputs": [
    {
     "name": "stdout",
     "output_type": "stream",
     "text": [
      "[05/Dec/2021 00:44:50] INFO - AUC: 0.690 | Recall: 0.000 | Precision: 0.000 | F1: 0.000\n"
     ]
    },
    {
     "name": "stdout",
     "output_type": "stream",
     "text": [
      "[05/Dec/2021 00:44:50] INFO - ROC curve saved to: ../artifact_dir/plots/roc_curve_Logistic Regression (auc = 0.69).png\n"
     ]
    },
    {
     "name": "stdout",
     "output_type": "stream",
     "text": [
      "[05/Dec/2021 00:44:50] INFO - Precision-recall curve saved to: ../artifact_dir/plots/precision_recall_Logistic Regression (prec = 0.00, recall = 0.00).png\n"
     ]
    },
    {
     "name": "stderr",
     "output_type": "stream",
     "text": [
      "D:\\Softwares\\miniconda3\\envs\\mlops\\lib\\site-packages\\sklearn\\metrics\\_classification.py:1308: UndefinedMetricWarning: Precision is ill-defined and being set to 0.0 due to no predicted samples. Use `zero_division` parameter to control this behavior.\n",
      "  _warn_prf(average, modifier, msg_start, len(result))\n"
     ]
    },
    {
     "name": "stdout",
     "output_type": "stream",
     "text": [
      "[05/Dec/2021 00:44:50] INFO - Model saved to: ../artifact_dir/models/Logistic Regression.pickle\n"
     ]
    },
    {
     "data": {
      "image/png": "[encoded data removed]",
      "text/plain": [
       "<Figure size 360x360 with 1 Axes>"
      ]
     },
     "metadata": {
      "needs_background": "light"
     },
     "output_type": "display_data"
    },
    {
     "data": {
      "image/png": "[encoded data removed]",
      "text/plain": [
       "<Figure size 1080x360 with 1 Axes>"
      ]
     },
     "metadata": {
      "needs_background": "light"
     },
     "output_type": "display_data"
    }
   ],
   "source": [
    "# Logistic regression\n",
    "model_name = 'Logistic Regression'\n",
    "model = LogisticRegression(fit_intercept=False).fit(X_train, y_train)\n",
    "pred = model.predict_proba(X_val)[:, 1]\n",
    "log_mlflow(run_params, model, model_name, y_val, pred)"
   ]
  },
  {
   "cell_type": "code",
   "execution_count": 37,
   "id": "06b1a219",
   "metadata": {
    "execution": {
     "iopub.execute_input": "2021-12-04T19:14:51.494995Z",
     "iopub.status.busy": "2021-12-04T19:14:51.494995Z",
     "iopub.status.idle": "2021-12-04T19:14:52.089295Z",
     "shell.execute_reply": "2021-12-04T19:14:52.088295Z"
    },
    "papermill": {
     "duration": 0.719284,
     "end_time": "2021-12-04T19:14:52.089295",
     "exception": false,
     "start_time": "2021-12-04T19:14:51.370011",
     "status": "completed"
    },
    "tags": []
   },
   "outputs": [
    {
     "name": "stdout",
     "output_type": "stream",
     "text": [
      "[05/Dec/2021 00:44:51] INFO - AUC: 0.643 | Recall: 1.000 | Precision: 0.700 | F1: 0.824\n"
     ]
    },
    {
     "name": "stdout",
     "output_type": "stream",
     "text": [
      "[05/Dec/2021 00:44:51] INFO - ROC curve saved to: ../artifact_dir/plots/roc_curve_Support Vector Classifier (auc = 0.64).png\n"
     ]
    },
    {
     "name": "stdout",
     "output_type": "stream",
     "text": [
      "[05/Dec/2021 00:44:51] INFO - Precision-recall curve saved to: ../artifact_dir/plots/precision_recall_Support Vector Classifier (prec = 0.70, recall = 1.00).png\n"
     ]
    },
    {
     "name": "stdout",
     "output_type": "stream",
     "text": [
      "[05/Dec/2021 00:44:51] INFO - Model saved to: ../artifact_dir/models/Support Vector Classifier.pickle\n"
     ]
    },
    {
     "data": {
      "image/png": "[encoded data removed]",
      "text/plain": [
       "<Figure size 360x360 with 1 Axes>"
      ]
     },
     "metadata": {
      "needs_background": "light"
     },
     "output_type": "display_data"
    },
    {
     "data": {
      "image/png": "[encoded data removed]",
      "text/plain": [
       "<Figure size 1080x360 with 1 Axes>"
      ]
     },
     "metadata": {
      "needs_background": "light"
     },
     "output_type": "display_data"
    }
   ],
   "source": [
    "# Support vector classifier\n",
    "model_name = 'Support Vector Classifier'\n",
    "model = SVC(gamma=2, C=1, probability=True).fit(X_train, y_train)\n",
    "pred = model.predict_proba(X_val)[:, 1]\n",
    "log_mlflow(run_params, model, model_name, y_val, pred)"
   ]
  },
  {
   "cell_type": "code",
   "execution_count": 38,
   "id": "f67fa8dc",
   "metadata": {
    "execution": {
     "iopub.execute_input": "2021-12-04T19:14:52.384318Z",
     "iopub.status.busy": "2021-12-04T19:14:52.383318Z",
     "iopub.status.idle": "2021-12-04T19:14:53.024390Z",
     "shell.execute_reply": "2021-12-04T19:14:53.024390Z"
    },
    "papermill": {
     "duration": 0.795075,
     "end_time": "2021-12-04T19:14:53.024390",
     "exception": false,
     "start_time": "2021-12-04T19:14:52.229315",
     "status": "completed"
    },
    "tags": []
   },
   "outputs": [
    {
     "name": "stdout",
     "output_type": "stream",
     "text": [
      "[05/Dec/2021 00:44:52] INFO - AUC: 0.506 | Recall: 0.286 | Precision: 0.667 | F1: 0.400\n"
     ]
    },
    {
     "name": "stdout",
     "output_type": "stream",
     "text": [
      "[05/Dec/2021 00:44:52] INFO - ROC curve saved to: ../artifact_dir/plots/roc_curve_K-nearest Neighbours (auc = 0.51).png\n"
     ]
    },
    {
     "name": "stdout",
     "output_type": "stream",
     "text": [
      "[05/Dec/2021 00:44:52] INFO - Precision-recall curve saved to: ../artifact_dir/plots/precision_recall_K-nearest Neighbours (prec = 0.67, recall = 0.29).png\n"
     ]
    },
    {
     "name": "stdout",
     "output_type": "stream",
     "text": [
      "[05/Dec/2021 00:44:52] INFO - Model saved to: ../artifact_dir/models/K-nearest Neighbours.pickle\n"
     ]
    },
    {
     "data": {
      "image/png": "[encoded data removed]",
      "text/plain": [
       "<Figure size 360x360 with 1 Axes>"
      ]
     },
     "metadata": {
      "needs_background": "light"
     },
     "output_type": "display_data"
    },
    {
     "data": {
      "image/png": "[encoded data removed]",
      "text/plain": [
       "<Figure size 1080x360 with 1 Axes>"
      ]
     },
     "metadata": {
      "needs_background": "light"
     },
     "output_type": "display_data"
    }
   ],
   "source": [
    "# K-neighbours\n",
    "model_name = 'K-nearest Neighbours'\n",
    "model = KNeighborsClassifier(5).fit(X_train, y_train)\n",
    "pred = model.predict_proba(X_val)[:, 1]\n",
    "log_mlflow(run_params, model, model_name, y_val, pred)"
   ]
  },
  {
   "cell_type": "code",
   "execution_count": 39,
   "id": "1d3ad176",
   "metadata": {
    "execution": {
     "iopub.execute_input": "2021-12-04T19:14:53.342388Z",
     "iopub.status.busy": "2021-12-04T19:14:53.342388Z",
     "iopub.status.idle": "2021-12-04T19:14:53.925246Z",
     "shell.execute_reply": "2021-12-04T19:14:53.925246Z"
    },
    "papermill": {
     "duration": 0.734859,
     "end_time": "2021-12-04T19:14:53.925246",
     "exception": false,
     "start_time": "2021-12-04T19:14:53.190387",
     "status": "completed"
    },
    "tags": []
   },
   "outputs": [
    {
     "name": "stdout",
     "output_type": "stream",
     "text": [
      "[05/Dec/2021 00:44:53] INFO - AUC: 0.655 | Recall: 0.571 | Precision: 0.889 | F1: 0.696\n"
     ]
    },
    {
     "name": "stdout",
     "output_type": "stream",
     "text": [
      "[05/Dec/2021 00:44:53] INFO - ROC curve saved to: ../artifact_dir/plots/roc_curve_Gradient Boosting Machine (auc = 0.65).png\n"
     ]
    },
    {
     "name": "stdout",
     "output_type": "stream",
     "text": [
      "[05/Dec/2021 00:44:53] INFO - Precision-recall curve saved to: ../artifact_dir/plots/precision_recall_Gradient Boosting Machine (prec = 0.89, recall = 0.57).png\n"
     ]
    },
    {
     "name": "stdout",
     "output_type": "stream",
     "text": [
      "[05/Dec/2021 00:44:53] INFO - Model saved to: ../artifact_dir/models/Gradient Boosting Machine.pickle\n"
     ]
    },
    {
     "data": {
      "image/png": "[encoded data removed]",
      "text/plain": [
       "<Figure size 360x360 with 1 Axes>"
      ]
     },
     "metadata": {
      "needs_background": "light"
     },
     "output_type": "display_data"
    },
    {
     "data": {
      "image/png": "[encoded data removed]",
      "text/plain": [
       "<Figure size 1080x360 with 1 Axes>"
      ]
     },
     "metadata": {
      "needs_background": "light"
     },
     "output_type": "display_data"
    }
   ],
   "source": [
    "# Gradient Boosting\n",
    "model_name = 'Gradient Boosting Machine'\n",
    "model = GradientBoostingClassifier().fit(X_train, y_train)\n",
    "pred = model.predict_proba(X_val)[:, 1]\n",
    "log_mlflow(run_params, model, model_name, y_val, pred)"
   ]
  },
  {
   "cell_type": "code",
   "execution_count": 40,
   "id": "50f10a07",
   "metadata": {
    "execution": {
     "iopub.execute_input": "2021-12-04T19:14:54.240467Z",
     "iopub.status.busy": "2021-12-04T19:14:54.239463Z",
     "iopub.status.idle": "2021-12-04T19:14:54.912933Z",
     "shell.execute_reply": "2021-12-04T19:14:54.912933Z"
    },
    "papermill": {
     "duration": 0.837731,
     "end_time": "2021-12-04T19:14:54.912933",
     "exception": false,
     "start_time": "2021-12-04T19:14:54.075202",
     "status": "completed"
    },
    "tags": []
   },
   "outputs": [
    {
     "name": "stdout",
     "output_type": "stream",
     "text": [
      "[05/Dec/2021 00:44:54] INFO - AUC: 0.554 | Recall: 0.571 | Precision: 0.727 | F1: 0.640\n"
     ]
    },
    {
     "name": "stdout",
     "output_type": "stream",
     "text": [
      "[05/Dec/2021 00:44:54] INFO - ROC curve saved to: ../artifact_dir/plots/roc_curve_Extra Trees (auc = 0.55).png\n"
     ]
    },
    {
     "name": "stdout",
     "output_type": "stream",
     "text": [
      "[05/Dec/2021 00:44:54] INFO - Precision-recall curve saved to: ../artifact_dir/plots/precision_recall_Extra Trees (prec = 0.73, recall = 0.57).png\n"
     ]
    },
    {
     "name": "stdout",
     "output_type": "stream",
     "text": [
      "[05/Dec/2021 00:44:54] INFO - Model saved to: ../artifact_dir/models/Extra Trees.pickle\n"
     ]
    },
    {
     "data": {
      "image/png": "[encoded data removed]",
      "text/plain": [
       "<Figure size 360x360 with 1 Axes>"
      ]
     },
     "metadata": {
      "needs_background": "light"
     },
     "output_type": "display_data"
    },
    {
     "data": {
      "image/png": "[encoded data removed]",
      "text/plain": [
       "<Figure size 1080x360 with 1 Axes>"
      ]
     },
     "metadata": {
      "needs_background": "light"
     },
     "output_type": "display_data"
    }
   ],
   "source": [
    "# Bagged trees\n",
    "model_name = 'Extra Trees'\n",
    "model = ExtraTreesClassifier().fit(X_train, y_train)\n",
    "pred = model.predict_proba(X_val)[:, 1]\n",
    "log_mlflow(run_params, model, model_name, y_val, pred)"
   ]
  },
  {
   "cell_type": "markdown",
   "id": "8b066410",
   "metadata": {
    "papermill": {
     "duration": 0.159213,
     "end_time": "2021-12-04T19:14:55.241103",
     "exception": false,
     "start_time": "2021-12-04T19:14:55.081890",
     "status": "completed"
    },
    "tags": []
   },
   "source": [
    "### Test loading model"
   ]
  },
  {
   "cell_type": "code",
   "execution_count": 41,
   "id": "56920998",
   "metadata": {
    "execution": {
     "iopub.execute_input": "2021-12-04T19:14:55.566410Z",
     "iopub.status.busy": "2021-12-04T19:14:55.550776Z",
     "iopub.status.idle": "2021-12-04T19:14:55.668449Z",
     "shell.execute_reply": "2021-12-04T19:14:55.668449Z"
    },
    "papermill": {
     "duration": 0.266388,
     "end_time": "2021-12-04T19:14:55.668449",
     "exception": false,
     "start_time": "2021-12-04T19:14:55.402061",
     "status": "completed"
    },
    "tags": []
   },
   "outputs": [],
   "source": [
    "model_name = 'Support Vector Classifier'\n",
    "check_model = load('{}/models/{}.pickle'.format(ARTIFACT_DIR, model_name))"
   ]
  },
  {
   "cell_type": "code",
   "execution_count": 42,
   "id": "3fb91b83",
   "metadata": {
    "execution": {
     "iopub.execute_input": "2021-12-04T19:14:56.014530Z",
     "iopub.status.busy": "2021-12-04T19:14:56.014530Z",
     "iopub.status.idle": "2021-12-04T19:14:56.117525Z",
     "shell.execute_reply": "2021-12-04T19:14:56.116482Z"
    },
    "papermill": {
     "duration": 0.276042,
     "end_time": "2021-12-04T19:14:56.117525",
     "exception": false,
     "start_time": "2021-12-04T19:14:55.841483",
     "status": "completed"
    },
    "tags": []
   },
   "outputs": [
    {
     "data": {
      "text/plain": [
       "SVC(C=1, gamma=2, probability=True)"
      ]
     },
     "execution_count": 42,
     "metadata": {},
     "output_type": "execute_result"
    }
   ],
   "source": [
    "check_model"
   ]
  },
  {
   "cell_type": "code",
   "execution_count": 43,
   "id": "cc541801",
   "metadata": {
    "execution": {
     "iopub.execute_input": "2021-12-04T19:14:56.437481Z",
     "iopub.status.busy": "2021-12-04T19:14:56.437481Z",
     "iopub.status.idle": "2021-12-04T19:14:56.526524Z",
     "shell.execute_reply": "2021-12-04T19:14:56.526524Z"
    },
    "papermill": {
     "duration": 0.248996,
     "end_time": "2021-12-04T19:14:56.526524",
     "exception": false,
     "start_time": "2021-12-04T19:14:56.277528",
     "status": "completed"
    },
    "tags": []
   },
   "outputs": [],
   "source": [
    "pred = check_model.predict_proba(X_val)[:, 1]"
   ]
  },
  {
   "cell_type": "code",
   "execution_count": 44,
   "id": "dc5fbf60",
   "metadata": {
    "execution": {
     "iopub.execute_input": "2021-12-04T19:14:56.850739Z",
     "iopub.status.busy": "2021-12-04T19:14:56.849697Z",
     "iopub.status.idle": "2021-12-04T19:14:56.937079Z",
     "shell.execute_reply": "2021-12-04T19:14:56.937079Z"
    },
    "papermill": {
     "duration": 0.244597,
     "end_time": "2021-12-04T19:14:56.937079",
     "exception": false,
     "start_time": "2021-12-04T19:14:56.692482",
     "status": "completed"
    },
    "tags": []
   },
   "outputs": [
    {
     "name": "stdout",
     "output_type": "stream",
     "text": [
      "[05/Dec/2021 00:44:56] INFO - AUC: 0.643 | Recall: 1.000 | Precision: 0.700 | F1: 0.824\n"
     ]
    },
    {
     "data": {
      "text/plain": [
       "(0.6428571428571429, 1.0, 0.7, 0.8235294117647058)"
      ]
     },
     "execution_count": 44,
     "metadata": {},
     "output_type": "execute_result"
    }
   ],
   "source": [
    "evaluate_binary(y_val, pred)"
   ]
  },
  {
   "cell_type": "code",
   "execution_count": null,
   "id": "d449e872",
   "metadata": {
    "papermill": {
     "duration": 0.151996,
     "end_time": "2021-12-04T19:14:57.247027",
     "exception": false,
     "start_time": "2021-12-04T19:14:57.095031",
     "status": "completed"
    },
    "tags": []
   },
   "outputs": [],
   "source": []
  }
 ],
 "metadata": {
  "celltoolbar": "Tags",
  "interpreter": {
   "hash": "59e91c191c97324b2a36152b56cdd66e3729b4be830ea7b7f3cc1c1764fb3478"
  },
  "kernelspec": {
   "display_name": "Python 3",
   "language": "python",
   "name": "python3"
  },
  "language_info": {
   "codemirror_mode": {
    "name": "ipython",
    "version": 3
   },
   "file_extension": ".py",
   "mimetype": "text/x-python",
   "name": "python",
   "nbconvert_exporter": "python",
   "pygments_lexer": "ipython3",
   "version": "3.8.12"
  },
  "papermill": {
   "default_parameters": {},
   "duration": 26.167617,
   "end_time": "2021-12-04T19:14:57.830664",
   "environment_variables": {},
   "exception": null,
   "input_path": "basic.ipynb",
   "output_path": "../artifact_dir/notebooks/basic_GOLD.ipynb",
   "parameters": {
    "INDEX": "GOLD"
   },
   "start_time": "2021-12-04T19:14:31.663047",
   "version": "2.3.3"
  }
 },
 "nbformat": 4,
 "nbformat_minor": 5
}