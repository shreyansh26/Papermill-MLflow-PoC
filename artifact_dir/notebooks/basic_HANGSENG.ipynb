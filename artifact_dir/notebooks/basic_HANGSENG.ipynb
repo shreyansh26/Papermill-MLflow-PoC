{
 "cells": [
  {
   "cell_type": "code",
   "execution_count": 1,
   "id": "c6382c04",
   "metadata": {
    "execution": {
     "iopub.execute_input": "2021-12-04T19:15:25.816695Z",
     "iopub.status.busy": "2021-12-04T19:15:25.815700Z",
     "iopub.status.idle": "2021-12-04T19:15:25.864593Z",
     "shell.execute_reply": "2021-12-04T19:15:25.863588Z"
    },
    "papermill": {
     "duration": 0.160483,
     "end_time": "2021-12-04T19:15:25.864593",
     "exception": false,
     "start_time": "2021-12-04T19:15:25.704110",
     "status": "completed"
    },
    "tags": []
   },
   "outputs": [],
   "source": [
    "%load_ext autoreload\n",
    "%autoreload 2"
   ]
  },
  {
   "cell_type": "code",
   "execution_count": 2,
   "id": "f519ca89",
   "metadata": {
    "execution": {
     "iopub.execute_input": "2021-12-04T19:15:26.069795Z",
     "iopub.status.busy": "2021-12-04T19:15:26.068747Z",
     "iopub.status.idle": "2021-12-04T19:15:28.564724Z",
     "shell.execute_reply": "2021-12-04T19:15:28.562689Z"
    },
    "papermill": {
     "duration": 2.595975,
     "end_time": "2021-12-04T19:15:28.564724",
     "exception": false,
     "start_time": "2021-12-04T19:15:25.968749",
     "status": "completed"
    },
    "tags": []
   },
   "outputs": [],
   "source": [
    "import pandas as pd\n",
    "import matplotlib.pyplot as plt\n",
    "import statsmodels.api as sm\n",
    "import statsmodels.formula.api as smf\n",
    "from statsmodels.tools.tools import add_constant\n",
    "from sklearn.preprocessing import StandardScaler\n",
    "from sklearn.linear_model import LogisticRegression\n",
    "from sklearn.svm import SVC\n",
    "from sklearn.neighbors import KNeighborsClassifier\n",
    "from sklearn.ensemble import GradientBoostingClassifier, ExtraTreesClassifier\n",
    "from joblib import load\n",
    "\n",
    "from config import EXPERIMENT, RUN_NAME, ARTIFACT_DIR\n",
    "from logger import logger\n",
    "from mlflow_utils import evaluate_binary, log_mlflow"
   ]
  },
  {
   "cell_type": "code",
   "execution_count": 3,
   "id": "c31a7608",
   "metadata": {
    "execution": {
     "iopub.execute_input": "2021-12-04T19:15:28.815516Z",
     "iopub.status.busy": "2021-12-04T19:15:28.815516Z",
     "iopub.status.idle": "2021-12-04T19:15:28.923034Z",
     "shell.execute_reply": "2021-12-04T19:15:28.922032Z"
    },
    "papermill": {
     "duration": 0.247373,
     "end_time": "2021-12-04T19:15:28.924033",
     "exception": false,
     "start_time": "2021-12-04T19:15:28.676660",
     "status": "completed"
    },
    "tags": [
     "parameters"
    ]
   },
   "outputs": [],
   "source": [
    "# Tag this cell as 'parameters'\n",
    "INDEX = 'SNP'"
   ]
  },
  {
   "cell_type": "code",
   "execution_count": 4,
   "id": "004b2f92",
   "metadata": {
    "execution": {
     "iopub.execute_input": "2021-12-04T19:15:29.173036Z",
     "iopub.status.busy": "2021-12-04T19:15:29.172035Z",
     "iopub.status.idle": "2021-12-04T19:15:29.271033Z",
     "shell.execute_reply": "2021-12-04T19:15:29.270034Z"
    },
    "papermill": {
     "duration": 0.219994,
     "end_time": "2021-12-04T19:15:29.271033",
     "exception": false,
     "start_time": "2021-12-04T19:15:29.051039",
     "status": "completed"
    },
    "tags": [
     "injected-parameters"
    ]
   },
   "outputs": [],
   "source": [
    "# Parameters\n",
    "INDEX = \"HANGSENG\"\n"
   ]
  },
  {
   "cell_type": "code",
   "execution_count": 5,
   "id": "7709da0b",
   "metadata": {
    "execution": {
     "iopub.execute_input": "2021-12-04T19:15:29.492032Z",
     "iopub.status.busy": "2021-12-04T19:15:29.492032Z",
     "iopub.status.idle": "2021-12-04T19:15:29.590033Z",
     "shell.execute_reply": "2021-12-04T19:15:29.590033Z"
    },
    "papermill": {
     "duration": 0.206996,
     "end_time": "2021-12-04T19:15:29.590033",
     "exception": false,
     "start_time": "2021-12-04T19:15:29.383037",
     "status": "completed"
    },
    "tags": []
   },
   "outputs": [],
   "source": [
    "# Wrap all this is a parameter dict\n",
    "run_params = {'experiment': EXPERIMENT,\n",
    "              'iteration': RUN_NAME,\n",
    "              'index': INDEX,\n",
    "              'artifact_dir': ARTIFACT_DIR}"
   ]
  },
  {
   "cell_type": "markdown",
   "id": "d8eba8a8",
   "metadata": {
    "papermill": {
     "duration": 0.102001,
     "end_time": "2021-12-04T19:15:29.804035",
     "exception": false,
     "start_time": "2021-12-04T19:15:29.702034",
     "status": "completed"
    },
    "tags": []
   },
   "source": [
    "### Import data"
   ]
  },
  {
   "cell_type": "code",
   "execution_count": 6,
   "id": "0886769a",
   "metadata": {
    "execution": {
     "iopub.execute_input": "2021-12-04T19:15:30.007571Z",
     "iopub.status.busy": "2021-12-04T19:15:30.007571Z",
     "iopub.status.idle": "2021-12-04T19:15:30.130590Z",
     "shell.execute_reply": "2021-12-04T19:15:30.128589Z"
    },
    "papermill": {
     "duration": 0.220559,
     "end_time": "2021-12-04T19:15:30.130590",
     "exception": false,
     "start_time": "2021-12-04T19:15:29.910031",
     "status": "completed"
    },
    "tags": []
   },
   "outputs": [],
   "source": [
    "df = pd.read_csv('../datadir/{}.csv'.format(INDEX))"
   ]
  },
  {
   "cell_type": "markdown",
   "id": "ab2aa9f6",
   "metadata": {
    "papermill": {
     "duration": 0.07702,
     "end_time": "2021-12-04T19:15:30.329330",
     "exception": false,
     "start_time": "2021-12-04T19:15:30.252310",
     "status": "completed"
    },
    "tags": []
   },
   "source": [
    "### Data prep"
   ]
  },
  {
   "cell_type": "code",
   "execution_count": 7,
   "id": "9ce9027c",
   "metadata": {
    "execution": {
     "iopub.execute_input": "2021-12-04T19:15:30.545730Z",
     "iopub.status.busy": "2021-12-04T19:15:30.544678Z",
     "iopub.status.idle": "2021-12-04T19:15:30.631378Z",
     "shell.execute_reply": "2021-12-04T19:15:30.632407Z"
    },
    "papermill": {
     "duration": 0.205035,
     "end_time": "2021-12-04T19:15:30.632407",
     "exception": false,
     "start_time": "2021-12-04T19:15:30.427372",
     "status": "completed"
    },
    "tags": []
   },
   "outputs": [],
   "source": [
    "df.columns = [col.lower().replace(' ', '_') for col in df.columns]"
   ]
  },
  {
   "cell_type": "code",
   "execution_count": 8,
   "id": "c2480667",
   "metadata": {
    "execution": {
     "iopub.execute_input": "2021-12-04T19:15:30.828089Z",
     "iopub.status.busy": "2021-12-04T19:15:30.828089Z",
     "iopub.status.idle": "2021-12-04T19:15:30.927801Z",
     "shell.execute_reply": "2021-12-04T19:15:30.926802Z"
    },
    "papermill": {
     "duration": 0.201591,
     "end_time": "2021-12-04T19:15:30.927801",
     "exception": false,
     "start_time": "2021-12-04T19:15:30.726210",
     "status": "completed"
    },
    "tags": []
   },
   "outputs": [],
   "source": [
    "df.sort_values(by='date', ascending=True, inplace=True)  # Have to sort ascending for rolling to work correctly"
   ]
  },
  {
   "cell_type": "markdown",
   "id": "35adf0be",
   "metadata": {
    "papermill": {
     "duration": 0.104044,
     "end_time": "2021-12-04T19:15:31.142843",
     "exception": false,
     "start_time": "2021-12-04T19:15:31.038799",
     "status": "completed"
    },
    "tags": []
   },
   "source": [
    "### Create basic features"
   ]
  },
  {
   "cell_type": "code",
   "execution_count": 9,
   "id": "b757d9c4",
   "metadata": {
    "execution": {
     "iopub.execute_input": "2021-12-04T19:15:31.352842Z",
     "iopub.status.busy": "2021-12-04T19:15:31.351801Z",
     "iopub.status.idle": "2021-12-04T19:15:31.433820Z",
     "shell.execute_reply": "2021-12-04T19:15:31.433820Z"
    },
    "papermill": {
     "duration": 0.181022,
     "end_time": "2021-12-04T19:15:31.433820",
     "exception": false,
     "start_time": "2021-12-04T19:15:31.252798",
     "status": "completed"
    },
    "tags": []
   },
   "outputs": [],
   "source": [
    "df = df[['date', 'open', 'adj_close']].copy()"
   ]
  },
  {
   "cell_type": "code",
   "execution_count": 10,
   "id": "10f1c567",
   "metadata": {
    "execution": {
     "iopub.execute_input": "2021-12-04T19:15:31.627593Z",
     "iopub.status.busy": "2021-12-04T19:15:31.627593Z",
     "iopub.status.idle": "2021-12-04T19:15:31.729294Z",
     "shell.execute_reply": "2021-12-04T19:15:31.729294Z"
    },
    "papermill": {
     "duration": 0.200136,
     "end_time": "2021-12-04T19:15:31.729294",
     "exception": false,
     "start_time": "2021-12-04T19:15:31.529158",
     "status": "completed"
    },
    "tags": []
   },
   "outputs": [],
   "source": [
    "df['prev'] = df['adj_close'].shift(1)"
   ]
  },
  {
   "cell_type": "code",
   "execution_count": 11,
   "id": "9c056f27",
   "metadata": {
    "execution": {
     "iopub.execute_input": "2021-12-04T19:15:31.956611Z",
     "iopub.status.busy": "2021-12-04T19:15:31.956611Z",
     "iopub.status.idle": "2021-12-04T19:15:32.047650Z",
     "shell.execute_reply": "2021-12-04T19:15:32.048649Z"
    },
    "papermill": {
     "duration": 0.199774,
     "end_time": "2021-12-04T19:15:32.048649",
     "exception": false,
     "start_time": "2021-12-04T19:15:31.848875",
     "status": "completed"
    },
    "tags": []
   },
   "outputs": [],
   "source": [
    "df['sma2'] = df['prev'].rolling(window=2).mean()\n",
    "df['sma5'] = df['prev'].rolling(window=5).mean()\n",
    "df['sma10'] = df['prev'].rolling(window=10).mean()\n",
    "df['sma20'] = df['prev'].rolling(window=20).mean()"
   ]
  },
  {
   "cell_type": "code",
   "execution_count": 12,
   "id": "eb1cf862",
   "metadata": {
    "execution": {
     "iopub.execute_input": "2021-12-04T19:15:32.242665Z",
     "iopub.status.busy": "2021-12-04T19:15:32.242665Z",
     "iopub.status.idle": "2021-12-04T19:15:32.320649Z",
     "shell.execute_reply": "2021-12-04T19:15:32.319649Z"
    },
    "papermill": {
     "duration": 0.174999,
     "end_time": "2021-12-04T19:15:32.320649",
     "exception": false,
     "start_time": "2021-12-04T19:15:32.145650",
     "status": "completed"
    },
    "tags": []
   },
   "outputs": [],
   "source": [
    "assert round(df['prev'].tail(5).mean(), 4) == round(df['sma5'].tail(1).item(), 4), 'Expected sma5 to be same as mean of past 5 items'\n",
    "assert round(df['prev'].tail(10).mean(), 4) == round(df['sma10'].tail(1).item(), 4), 'Expected sma10 to be same as mean of past 10 items'\n",
    "assert round(df['prev'].tail(20).mean(), 4) == round(df['sma20'].tail(1).item(), 4), 'Expected sma20 to be same as mean of past 20 items'"
   ]
  },
  {
   "cell_type": "code",
   "execution_count": 13,
   "id": "9f9e4b84",
   "metadata": {
    "execution": {
     "iopub.execute_input": "2021-12-04T19:15:32.512650Z",
     "iopub.status.busy": "2021-12-04T19:15:32.511649Z",
     "iopub.status.idle": "2021-12-04T19:15:32.589931Z",
     "shell.execute_reply": "2021-12-04T19:15:32.589931Z"
    },
    "papermill": {
     "duration": 0.176282,
     "end_time": "2021-12-04T19:15:32.589931",
     "exception": false,
     "start_time": "2021-12-04T19:15:32.413649",
     "status": "completed"
    },
    "tags": []
   },
   "outputs": [],
   "source": [
    "df['ema12'] = df['prev'].ewm(span=12, min_periods=12, adjust=False).mean()\n",
    "df['ema26'] = df['prev'].ewm(span=26, min_periods=26, adjust=False).mean()"
   ]
  },
  {
   "cell_type": "code",
   "execution_count": 14,
   "id": "adc47ebd",
   "metadata": {
    "execution": {
     "iopub.execute_input": "2021-12-04T19:15:32.777707Z",
     "iopub.status.busy": "2021-12-04T19:15:32.777707Z",
     "iopub.status.idle": "2021-12-04T19:15:32.864935Z",
     "shell.execute_reply": "2021-12-04T19:15:32.864935Z"
    },
    "papermill": {
     "duration": 0.182055,
     "end_time": "2021-12-04T19:15:32.864935",
     "exception": false,
     "start_time": "2021-12-04T19:15:32.682880",
     "status": "completed"
    },
    "tags": []
   },
   "outputs": [],
   "source": [
    "def difference(prev_price, moving_average):\n",
    "    return (prev_price - moving_average) / prev_price"
   ]
  },
  {
   "cell_type": "code",
   "execution_count": 15,
   "id": "fd3bdf78",
   "metadata": {
    "execution": {
     "iopub.execute_input": "2021-12-04T19:15:33.122516Z",
     "iopub.status.busy": "2021-12-04T19:15:33.120494Z",
     "iopub.status.idle": "2021-12-04T19:15:33.213498Z",
     "shell.execute_reply": "2021-12-04T19:15:33.212498Z"
    },
    "papermill": {
     "duration": 0.252809,
     "end_time": "2021-12-04T19:15:33.213498",
     "exception": false,
     "start_time": "2021-12-04T19:15:32.960689",
     "status": "completed"
    },
    "tags": []
   },
   "outputs": [],
   "source": [
    "for col in ['sma2', 'sma5', 'sma10', 'sma20', 'ema12', 'ema26']:\n",
    "    df['{}_diff'.format(col)] = difference(df['prev'], df[col])"
   ]
  },
  {
   "cell_type": "code",
   "execution_count": 16,
   "id": "33f3ca9c",
   "metadata": {
    "execution": {
     "iopub.execute_input": "2021-12-04T19:15:33.397321Z",
     "iopub.status.busy": "2021-12-04T19:15:33.397321Z",
     "iopub.status.idle": "2021-12-04T19:15:33.481310Z",
     "shell.execute_reply": "2021-12-04T19:15:33.481310Z"
    },
    "papermill": {
     "duration": 0.175134,
     "end_time": "2021-12-04T19:15:33.481310",
     "exception": false,
     "start_time": "2021-12-04T19:15:33.306176",
     "status": "completed"
    },
    "tags": []
   },
   "outputs": [],
   "source": [
    "df.dropna(inplace=True)"
   ]
  },
  {
   "cell_type": "code",
   "execution_count": 17,
   "id": "f16df60d",
   "metadata": {
    "execution": {
     "iopub.execute_input": "2021-12-04T19:15:33.683042Z",
     "iopub.status.busy": "2021-12-04T19:15:33.682072Z",
     "iopub.status.idle": "2021-12-04T19:15:33.766252Z",
     "shell.execute_reply": "2021-12-04T19:15:33.761238Z"
    },
    "papermill": {
     "duration": 0.183557,
     "end_time": "2021-12-04T19:15:33.766252",
     "exception": false,
     "start_time": "2021-12-04T19:15:33.582695",
     "status": "completed"
    },
    "tags": []
   },
   "outputs": [
    {
     "data": {
      "text/plain": [
       "(223, 16)"
      ]
     },
     "execution_count": 17,
     "metadata": {},
     "output_type": "execute_result"
    }
   ],
   "source": [
    "df.shape"
   ]
  },
  {
   "cell_type": "code",
   "execution_count": 18,
   "id": "75ce2486",
   "metadata": {
    "execution": {
     "iopub.execute_input": "2021-12-04T19:15:33.967419Z",
     "iopub.status.busy": "2021-12-04T19:15:33.967419Z",
     "iopub.status.idle": "2021-12-04T19:15:34.054426Z",
     "shell.execute_reply": "2021-12-04T19:15:34.054426Z"
    },
    "papermill": {
     "duration": 0.184081,
     "end_time": "2021-12-04T19:15:34.055410",
     "exception": false,
     "start_time": "2021-12-04T19:15:33.871329",
     "status": "completed"
    },
    "tags": []
   },
   "outputs": [],
   "source": [
    "df.drop(columns=['date', 'open'], inplace=True)"
   ]
  },
  {
   "cell_type": "markdown",
   "id": "222985cb",
   "metadata": {
    "papermill": {
     "duration": 0.094044,
     "end_time": "2021-12-04T19:15:34.245458",
     "exception": false,
     "start_time": "2021-12-04T19:15:34.151414",
     "status": "completed"
    },
    "tags": []
   },
   "source": [
    "### Create label"
   ]
  },
  {
   "cell_type": "code",
   "execution_count": 19,
   "id": "e7ad57fe",
   "metadata": {
    "execution": {
     "iopub.execute_input": "2021-12-04T19:15:34.431885Z",
     "iopub.status.busy": "2021-12-04T19:15:34.431885Z",
     "iopub.status.idle": "2021-12-04T19:15:34.532754Z",
     "shell.execute_reply": "2021-12-04T19:15:34.532754Z"
    },
    "papermill": {
     "duration": 0.200647,
     "end_time": "2021-12-04T19:15:34.532754",
     "exception": false,
     "start_time": "2021-12-04T19:15:34.332107",
     "status": "completed"
    },
    "tags": []
   },
   "outputs": [],
   "source": [
    "df['label'] = (df['adj_close'] > df['prev']).astype(int)"
   ]
  },
  {
   "cell_type": "markdown",
   "id": "a22ffe20",
   "metadata": {
    "papermill": {
     "duration": 0.098242,
     "end_time": "2021-12-04T19:15:34.733119",
     "exception": false,
     "start_time": "2021-12-04T19:15:34.634877",
     "status": "completed"
    },
    "tags": []
   },
   "source": [
    "### Train-val split"
   ]
  },
  {
   "cell_type": "code",
   "execution_count": 20,
   "id": "f204513a",
   "metadata": {
    "execution": {
     "iopub.execute_input": "2021-12-04T19:15:34.939175Z",
     "iopub.status.busy": "2021-12-04T19:15:34.938182Z",
     "iopub.status.idle": "2021-12-04T19:15:35.028174Z",
     "shell.execute_reply": "2021-12-04T19:15:35.027170Z"
    },
    "papermill": {
     "duration": 0.19425,
     "end_time": "2021-12-04T19:15:35.028174",
     "exception": false,
     "start_time": "2021-12-04T19:15:34.833924",
     "status": "completed"
    },
    "tags": []
   },
   "outputs": [],
   "source": [
    "# Keep most recent 20 days as validation set"
   ]
  },
  {
   "cell_type": "code",
   "execution_count": 21,
   "id": "60b8755e",
   "metadata": {
    "execution": {
     "iopub.execute_input": "2021-12-04T19:15:35.229176Z",
     "iopub.status.busy": "2021-12-04T19:15:35.228176Z",
     "iopub.status.idle": "2021-12-04T19:15:35.311464Z",
     "shell.execute_reply": "2021-12-04T19:15:35.310411Z"
    },
    "papermill": {
     "duration": 0.181332,
     "end_time": "2021-12-04T19:15:35.311464",
     "exception": false,
     "start_time": "2021-12-04T19:15:35.130132",
     "status": "completed"
    },
    "tags": []
   },
   "outputs": [
    {
     "name": "stdout",
     "output_type": "stream",
     "text": [
      "[05/Dec/2021 00:45:35] INFO - No. of days - Train: 203, Val: 20\n"
     ]
    }
   ],
   "source": [
    "validation_days = 20\n",
    "train = df.iloc[:-validation_days].copy()\n",
    "val = df.iloc[-validation_days:].copy()\n",
    "logger.info('No. of days - Train: {}, Val: {}'.format(train.shape[0], val.shape[0]))"
   ]
  },
  {
   "cell_type": "markdown",
   "id": "90dfde8d",
   "metadata": {
    "papermill": {
     "duration": 0.098675,
     "end_time": "2021-12-04T19:15:35.508150",
     "exception": false,
     "start_time": "2021-12-04T19:15:35.409475",
     "status": "completed"
    },
    "tags": []
   },
   "source": [
    "### Basic visualizations"
   ]
  },
  {
   "cell_type": "code",
   "execution_count": 22,
   "id": "dbbb7bdf",
   "metadata": {
    "execution": {
     "iopub.execute_input": "2021-12-04T19:15:35.706148Z",
     "iopub.status.busy": "2021-12-04T19:15:35.706148Z",
     "iopub.status.idle": "2021-12-04T19:15:35.943616Z",
     "shell.execute_reply": "2021-12-04T19:15:35.943616Z"
    },
    "papermill": {
     "duration": 0.340463,
     "end_time": "2021-12-04T19:15:35.944615",
     "exception": false,
     "start_time": "2021-12-04T19:15:35.604152",
     "status": "completed"
    },
    "tags": []
   },
   "outputs": [
    {
     "data": {
      "text/plain": [
       "<matplotlib.legend.Legend at 0x1c29152c1f0>"
      ]
     },
     "execution_count": 22,
     "metadata": {},
     "output_type": "execute_result"
    },
    {
     "data": {
      "image/png": "[encoded data removed]",
      "text/plain": [
       "<Figure size 1080x360 with 1 Axes>"
      ]
     },
     "metadata": {
      "needs_background": "light"
     },
     "output_type": "display_data"
    }
   ],
   "source": [
    "plt.figure(figsize=(15, 5))\n",
    "plt.grid()\n",
    "plt.plot(train['adj_close'], label='price')\n",
    "plt.plot(train['sma20'], label='simple moving average 20')\n",
    "plt.plot(train['ema12'], label='exponential moving average 12')\n",
    "plt.plot(train['ema26'], label='exponential moving average 26')\n",
    "plt.legend()"
   ]
  },
  {
   "cell_type": "markdown",
   "id": "ebba75e9",
   "metadata": {
    "papermill": {
     "duration": 0.10095,
     "end_time": "2021-12-04T19:15:36.148616",
     "exception": false,
     "start_time": "2021-12-04T19:15:36.047666",
     "status": "completed"
    },
    "tags": []
   },
   "source": [
    "### Feature transformations"
   ]
  },
  {
   "cell_type": "code",
   "execution_count": 23,
   "id": "c618fef2",
   "metadata": {
    "execution": {
     "iopub.execute_input": "2021-12-04T19:15:36.359900Z",
     "iopub.status.busy": "2021-12-04T19:15:36.359900Z",
     "iopub.status.idle": "2021-12-04T19:15:36.444794Z",
     "shell.execute_reply": "2021-12-04T19:15:36.444794Z"
    },
    "papermill": {
     "duration": 0.191649,
     "end_time": "2021-12-04T19:15:36.444794",
     "exception": false,
     "start_time": "2021-12-04T19:15:36.253145",
     "status": "completed"
    },
    "tags": []
   },
   "outputs": [],
   "source": [
    "scaler = StandardScaler()"
   ]
  },
  {
   "cell_type": "code",
   "execution_count": 24,
   "id": "faf17877",
   "metadata": {
    "execution": {
     "iopub.execute_input": "2021-12-04T19:15:36.656753Z",
     "iopub.status.busy": "2021-12-04T19:15:36.655749Z",
     "iopub.status.idle": "2021-12-04T19:15:36.745329Z",
     "shell.execute_reply": "2021-12-04T19:15:36.745329Z"
    },
    "papermill": {
     "duration": 0.197579,
     "end_time": "2021-12-04T19:15:36.745329",
     "exception": false,
     "start_time": "2021-12-04T19:15:36.547750",
     "status": "completed"
    },
    "tags": []
   },
   "outputs": [],
   "source": [
    "COLS_TO_SCALE = ['prev', 'sma2', 'sma5', 'sma10', 'sma20', 'ema12', 'ema26']"
   ]
  },
  {
   "cell_type": "code",
   "execution_count": 25,
   "id": "e636275b",
   "metadata": {
    "execution": {
     "iopub.execute_input": "2021-12-04T19:15:36.972646Z",
     "iopub.status.busy": "2021-12-04T19:15:36.971675Z",
     "iopub.status.idle": "2021-12-04T19:15:37.062681Z",
     "shell.execute_reply": "2021-12-04T19:15:37.061723Z"
    },
    "papermill": {
     "duration": 0.211373,
     "end_time": "2021-12-04T19:15:37.063687",
     "exception": false,
     "start_time": "2021-12-04T19:15:36.852314",
     "status": "completed"
    },
    "tags": []
   },
   "outputs": [
    {
     "data": {
      "text/plain": [
       "StandardScaler()"
      ]
     },
     "execution_count": 25,
     "metadata": {},
     "output_type": "execute_result"
    }
   ],
   "source": [
    "scaler.fit(train[COLS_TO_SCALE])"
   ]
  },
  {
   "cell_type": "code",
   "execution_count": 26,
   "id": "38a59284",
   "metadata": {
    "execution": {
     "iopub.execute_input": "2021-12-04T19:15:37.281665Z",
     "iopub.status.busy": "2021-12-04T19:15:37.281665Z",
     "iopub.status.idle": "2021-12-04T19:15:37.361686Z",
     "shell.execute_reply": "2021-12-04T19:15:37.360688Z"
    },
    "papermill": {
     "duration": 0.183044,
     "end_time": "2021-12-04T19:15:37.361686",
     "exception": false,
     "start_time": "2021-12-04T19:15:37.178642",
     "status": "completed"
    },
    "tags": []
   },
   "outputs": [],
   "source": [
    "train[COLS_TO_SCALE] = scaler.transform(train[COLS_TO_SCALE])\n",
    "val[COLS_TO_SCALE] = scaler.transform(val[COLS_TO_SCALE])"
   ]
  },
  {
   "cell_type": "markdown",
   "id": "275b61df",
   "metadata": {
    "papermill": {
     "duration": 0.099963,
     "end_time": "2021-12-04T19:15:37.564806",
     "exception": false,
     "start_time": "2021-12-04T19:15:37.464843",
     "status": "completed"
    },
    "tags": []
   },
   "source": [
    "### Linear regression coefficients"
   ]
  },
  {
   "cell_type": "code",
   "execution_count": 27,
   "id": "0b99556e",
   "metadata": {
    "execution": {
     "iopub.execute_input": "2021-12-04T19:15:37.770696Z",
     "iopub.status.busy": "2021-12-04T19:15:37.770696Z",
     "iopub.status.idle": "2021-12-04T19:15:37.868172Z",
     "shell.execute_reply": "2021-12-04T19:15:37.868172Z"
    },
    "papermill": {
     "duration": 0.202266,
     "end_time": "2021-12-04T19:15:37.868172",
     "exception": false,
     "start_time": "2021-12-04T19:15:37.665906",
     "status": "completed"
    },
    "tags": []
   },
   "outputs": [
    {
     "name": "stdout",
     "output_type": "stream",
     "text": [
      "[05/Dec/2021 00:45:37] INFO - x variables: prev+sma2+sma5+sma10+sma20+ema12+ema26+sma2_diff+sma5_diff+sma10_diff+sma20_diff+ema12_diff+ema26_diff\n"
     ]
    }
   ],
   "source": [
    "x_variables = '+'.join(list(train.columns[1:-1]))\n",
    "logger.info('x variables: {}'.format(x_variables))"
   ]
  },
  {
   "cell_type": "code",
   "execution_count": 28,
   "id": "b241d5c7",
   "metadata": {
    "execution": {
     "iopub.execute_input": "2021-12-04T19:15:38.087668Z",
     "iopub.status.busy": "2021-12-04T19:15:38.086627Z",
     "iopub.status.idle": "2021-12-04T19:15:38.188670Z",
     "shell.execute_reply": "2021-12-04T19:15:38.186642Z"
    },
    "papermill": {
     "duration": 0.208045,
     "end_time": "2021-12-04T19:15:38.188670",
     "exception": false,
     "start_time": "2021-12-04T19:15:37.980625",
     "status": "completed"
    },
    "tags": []
   },
   "outputs": [],
   "source": [
    "results = smf.ols('adj_close ~ {}'.format(x_variables), data=train).fit()"
   ]
  },
  {
   "cell_type": "code",
   "execution_count": 29,
   "id": "ec215c1e",
   "metadata": {
    "execution": {
     "iopub.execute_input": "2021-12-04T19:15:38.405715Z",
     "iopub.status.busy": "2021-12-04T19:15:38.404693Z",
     "iopub.status.idle": "2021-12-04T19:15:38.504670Z",
     "shell.execute_reply": "2021-12-04T19:15:38.504670Z"
    },
    "papermill": {
     "duration": 0.209045,
     "end_time": "2021-12-04T19:15:38.504670",
     "exception": false,
     "start_time": "2021-12-04T19:15:38.295625",
     "status": "completed"
    },
    "scrolled": false,
    "tags": []
   },
   "outputs": [
    {
     "name": "stdout",
     "output_type": "stream",
     "text": [
      "                            OLS Regression Results                            \n",
      "==============================================================================\n",
      "Dep. Variable:              adj_close   R-squared:                       0.949\n",
      "Model:                            OLS   Adj. R-squared:                  0.945\n",
      "Method:                 Least Squares   F-statistic:                     268.3\n",
      "Date:                Sun, 05 Dec 2021   Prob (F-statistic):          3.55e-114\n",
      "Time:                        00:45:38   Log-Likelihood:                -1423.8\n",
      "No. Observations:                 203   AIC:                             2876.\n",
      "Df Residuals:                     189   BIC:                             2922.\n",
      "Df Model:                          13                                         \n",
      "Covariance Type:            nonrobust                                         \n",
      "==============================================================================\n",
      "                 coef    std err          t      P>|t|      [0.025      0.975]\n",
      "------------------------------------------------------------------------------\n",
      "Intercept   2.751e+04    130.619    210.624      0.000    2.73e+04    2.78e+04\n",
      "prev       -6944.0392   4929.762     -1.409      0.161   -1.67e+04    2780.386\n",
      "sma2        1.143e+04   7132.159      1.602      0.111   -2643.464    2.55e+04\n",
      "sma5        1405.5361   1.22e+04      0.115      0.908   -2.26e+04    2.54e+04\n",
      "sma10        1.19e+04   1.71e+04      0.698      0.486   -2.17e+04    4.55e+04\n",
      "sma20        361.6405   1.07e+04      0.034      0.973   -2.08e+04    2.15e+04\n",
      "ema12      -2.003e+04   4.57e+04     -0.438      0.662    -1.1e+05    7.02e+04\n",
      "ema26       3619.2112   5812.103      0.623      0.534   -7845.714    1.51e+04\n",
      "sma2_diff   2.659e+05   1.63e+05      1.628      0.105   -5.64e+04    5.88e+05\n",
      "sma5_diff   4.986e+04   2.78e+05      0.179      0.858   -4.99e+05    5.99e+05\n",
      "sma10_diff  2.992e+05   3.99e+05      0.749      0.455   -4.89e+05    1.09e+06\n",
      "sma20_diff  3.259e+04   2.63e+05      0.124      0.902   -4.87e+05    5.52e+05\n",
      "ema12_diff -5.629e+05   1.13e+06     -0.500      0.618   -2.78e+06    1.66e+06\n",
      "ema26_diff  9.938e+04   1.56e+05      0.639      0.524   -2.07e+05    4.06e+05\n",
      "==============================================================================\n",
      "Omnibus:                        4.053   Durbin-Watson:                   2.046\n",
      "Prob(Omnibus):                  0.132   Jarque-Bera (JB):                4.353\n",
      "Skew:                          -0.164   Prob(JB):                        0.113\n",
      "Kurtosis:                       3.638   Cond. No.                     1.63e+05\n",
      "==============================================================================\n",
      "\n",
      "Notes:\n",
      "[1] Standard Errors assume that the covariance matrix of the errors is correctly specified.\n",
      "[2] The condition number is large, 1.63e+05. This might indicate that there are\n",
      "strong multicollinearity or other numerical problems.\n"
     ]
    }
   ],
   "source": [
    "print(results.summary())"
   ]
  },
  {
   "cell_type": "markdown",
   "id": "fd9dbfd6",
   "metadata": {
    "papermill": {
     "duration": 0.107493,
     "end_time": "2021-12-04T19:15:38.736160",
     "exception": false,
     "start_time": "2021-12-04T19:15:38.628667",
     "status": "completed"
    },
    "tags": []
   },
   "source": [
    "### Drop label col"
   ]
  },
  {
   "cell_type": "code",
   "execution_count": 30,
   "id": "f4282c74",
   "metadata": {
    "execution": {
     "iopub.execute_input": "2021-12-04T19:15:38.947326Z",
     "iopub.status.busy": "2021-12-04T19:15:38.947326Z",
     "iopub.status.idle": "2021-12-04T19:15:39.033333Z",
     "shell.execute_reply": "2021-12-04T19:15:39.032329Z"
    },
    "papermill": {
     "duration": 0.20862,
     "end_time": "2021-12-04T19:15:39.034334",
     "exception": false,
     "start_time": "2021-12-04T19:15:38.825714",
     "status": "completed"
    },
    "tags": []
   },
   "outputs": [],
   "source": [
    "train.drop(columns=['adj_close'], inplace=True)\n",
    "val.drop(columns=['adj_close'], inplace=True)"
   ]
  },
  {
   "cell_type": "markdown",
   "id": "8ed8a5e0",
   "metadata": {
    "papermill": {
     "duration": 0.108956,
     "end_time": "2021-12-04T19:15:39.257325",
     "exception": false,
     "start_time": "2021-12-04T19:15:39.148369",
     "status": "completed"
    },
    "tags": []
   },
   "source": [
    "### Logistic Regression Coefficients"
   ]
  },
  {
   "cell_type": "code",
   "execution_count": 31,
   "id": "d5997b41",
   "metadata": {
    "execution": {
     "iopub.execute_input": "2021-12-04T19:15:39.471506Z",
     "iopub.status.busy": "2021-12-04T19:15:39.471506Z",
     "iopub.status.idle": "2021-12-04T19:15:39.582528Z",
     "shell.execute_reply": "2021-12-04T19:15:39.582528Z"
    },
    "papermill": {
     "duration": 0.220196,
     "end_time": "2021-12-04T19:15:39.583549",
     "exception": false,
     "start_time": "2021-12-04T19:15:39.363353",
     "status": "completed"
    },
    "tags": []
   },
   "outputs": [],
   "source": [
    "y = train['label'].values\n",
    "X = train.drop(columns=['label'])"
   ]
  },
  {
   "cell_type": "code",
   "execution_count": 32,
   "id": "5c2a5d4c",
   "metadata": {
    "execution": {
     "iopub.execute_input": "2021-12-04T19:15:39.820549Z",
     "iopub.status.busy": "2021-12-04T19:15:39.819505Z",
     "iopub.status.idle": "2021-12-04T19:15:39.906156Z",
     "shell.execute_reply": "2021-12-04T19:15:39.905151Z"
    },
    "papermill": {
     "duration": 0.194639,
     "end_time": "2021-12-04T19:15:39.906156",
     "exception": false,
     "start_time": "2021-12-04T19:15:39.711517",
     "status": "completed"
    },
    "tags": []
   },
   "outputs": [],
   "source": [
    "X = add_constant(X)"
   ]
  },
  {
   "cell_type": "code",
   "execution_count": 33,
   "id": "36453db5",
   "metadata": {
    "execution": {
     "iopub.execute_input": "2021-12-04T19:15:40.130157Z",
     "iopub.status.busy": "2021-12-04T19:15:40.130157Z",
     "iopub.status.idle": "2021-12-04T19:15:40.219115Z",
     "shell.execute_reply": "2021-12-04T19:15:40.219115Z"
    },
    "papermill": {
     "duration": 0.201001,
     "end_time": "2021-12-04T19:15:40.220158",
     "exception": false,
     "start_time": "2021-12-04T19:15:40.019157",
     "status": "completed"
    },
    "tags": []
   },
   "outputs": [],
   "source": [
    "logit = sm.Logit(y, X)"
   ]
  },
  {
   "cell_type": "code",
   "execution_count": 34,
   "id": "d3455bfb",
   "metadata": {
    "execution": {
     "iopub.execute_input": "2021-12-04T19:15:40.429116Z",
     "iopub.status.busy": "2021-12-04T19:15:40.429116Z",
     "iopub.status.idle": "2021-12-04T19:15:40.517391Z",
     "shell.execute_reply": "2021-12-04T19:15:40.517391Z"
    },
    "papermill": {
     "duration": 0.194226,
     "end_time": "2021-12-04T19:15:40.517391",
     "exception": false,
     "start_time": "2021-12-04T19:15:40.323165",
     "status": "completed"
    },
    "tags": []
   },
   "outputs": [
    {
     "name": "stdout",
     "output_type": "stream",
     "text": [
      "Warning: Maximum number of iterations has been exceeded.\n",
      "         Current function value: 7.346979\n",
      "         Iterations: 35\n",
      "                           Logit Regression Results                           \n",
      "==============================================================================\n",
      "Dep. Variable:                      y   No. Observations:                  203\n",
      "Model:                          Logit   Df Residuals:                      189\n",
      "Method:                           MLE   Df Model:                           13\n",
      "Date:                Sun, 05 Dec 2021   Pseudo R-squ.:                  -9.600\n",
      "Time:                        00:45:40   Log-Likelihood:                -1491.4\n",
      "converged:                      False   LL-Null:                       -140.71\n",
      "Covariance Type:            nonrobust   LLR p-value:                     1.000\n",
      "==============================================================================\n",
      "                 coef    std err          z      P>|z|      [0.025      0.975]\n",
      "------------------------------------------------------------------------------\n",
      "const        -81.2685     19.130     -4.248      0.000    -118.762     -43.775\n",
      "prev       -2850.2138    654.893     -4.352      0.000   -4133.780   -1566.648\n",
      "sma2       -1830.5790    466.424     -3.925      0.000   -2744.754    -916.404\n",
      "sma5       -1.404e+04   3239.756     -4.335      0.000   -2.04e+04   -7693.753\n",
      "sma10      -1.985e+04   4584.902     -4.330      0.000   -2.88e+04   -1.09e+04\n",
      "sma20      -1.277e+04   2944.758     -4.338      0.000   -1.85e+04   -7001.941\n",
      "ema12       5.562e+04   1.28e+04      4.330      0.000    3.04e+04    8.08e+04\n",
      "ema26      -6027.2096   1403.605     -4.294      0.000   -8778.224   -3276.195\n",
      "sma2_diff  -4.168e+04   1.06e+04     -3.936      0.000   -6.24e+04   -2.09e+04\n",
      "sma5_diff  -3.166e+05   7.31e+04     -4.333      0.000    -4.6e+05   -1.73e+05\n",
      "sma10_diff -4.559e+05   1.05e+05     -4.329      0.000   -6.62e+05   -2.49e+05\n",
      "sma20_diff -3.084e+05   7.11e+04     -4.338      0.000   -4.48e+05   -1.69e+05\n",
      "ema12_diff  1.345e+06   3.11e+05      4.329      0.000    7.36e+05    1.95e+06\n",
      "ema26_diff -1.586e+05   3.69e+04     -4.292      0.000   -2.31e+05   -8.62e+04\n",
      "==============================================================================\n",
      "\n",
      "Possibly complete quasi-separation: A fraction 0.29 of observations can be\n",
      "perfectly predicted. This might indicate that there is complete\n",
      "quasi-separation. In this case some parameters will not be identified.\n"
     ]
    },
    {
     "name": "stderr",
     "output_type": "stream",
     "text": [
      "D:\\Softwares\\miniconda3\\envs\\mlops\\lib\\site-packages\\statsmodels\\base\\model.py:604: ConvergenceWarning: Maximum Likelihood optimization failed to converge. Check mle_retvals\n",
      "  warnings.warn(\"Maximum Likelihood optimization failed to \"\n"
     ]
    }
   ],
   "source": [
    "result = logit.fit()\n",
    "print(result.summary())"
   ]
  },
  {
   "cell_type": "markdown",
   "id": "9025915a",
   "metadata": {
    "papermill": {
     "duration": 0.117768,
     "end_time": "2021-12-04T19:15:40.736162",
     "exception": false,
     "start_time": "2021-12-04T19:15:40.618394",
     "status": "completed"
    },
    "tags": []
   },
   "source": [
    "### Train some basic models"
   ]
  },
  {
   "cell_type": "code",
   "execution_count": 35,
   "id": "aaef4983",
   "metadata": {
    "execution": {
     "iopub.execute_input": "2021-12-04T19:15:40.968101Z",
     "iopub.status.busy": "2021-12-04T19:15:40.968101Z",
     "iopub.status.idle": "2021-12-04T19:15:41.045103Z",
     "shell.execute_reply": "2021-12-04T19:15:41.045103Z"
    },
    "papermill": {
     "duration": 0.189073,
     "end_time": "2021-12-04T19:15:41.045103",
     "exception": false,
     "start_time": "2021-12-04T19:15:40.856030",
     "status": "completed"
    },
    "tags": []
   },
   "outputs": [],
   "source": [
    "y_train = train['label'].values\n",
    "X_train = train.drop(columns='label').values\n",
    "\n",
    "y_val = val['label'].values\n",
    "X_val = val.drop(columns='label').values"
   ]
  },
  {
   "cell_type": "code",
   "execution_count": 36,
   "id": "003cb275",
   "metadata": {
    "execution": {
     "iopub.execute_input": "2021-12-04T19:15:41.263121Z",
     "iopub.status.busy": "2021-12-04T19:15:41.263121Z",
     "iopub.status.idle": "2021-12-04T19:15:41.914277Z",
     "shell.execute_reply": "2021-12-04T19:15:41.914277Z"
    },
    "papermill": {
     "duration": 0.761176,
     "end_time": "2021-12-04T19:15:41.914277",
     "exception": false,
     "start_time": "2021-12-04T19:15:41.153101",
     "status": "completed"
    },
    "tags": []
   },
   "outputs": [
    {
     "name": "stdout",
     "output_type": "stream",
     "text": [
      "[05/Dec/2021 00:45:41] INFO - AUC: 0.616 | Recall: 0.667 | Precision: 0.545 | F1: 0.600\n"
     ]
    },
    {
     "name": "stdout",
     "output_type": "stream",
     "text": [
      "[05/Dec/2021 00:45:41] INFO - ROC curve saved to: ../artifact_dir/plots/roc_curve_Logistic Regression (auc = 0.62).png\n"
     ]
    },
    {
     "name": "stdout",
     "output_type": "stream",
     "text": [
      "[05/Dec/2021 00:45:41] INFO - Precision-recall curve saved to: ../artifact_dir/plots/precision_recall_Logistic Regression (prec = 0.55, recall = 0.67).png\n"
     ]
    },
    {
     "name": "stdout",
     "output_type": "stream",
     "text": [
      "[05/Dec/2021 00:45:41] INFO - Model saved to: ../artifact_dir/models/Logistic Regression.pickle\n"
     ]
    },
    {
     "data": {
      "image/png": "[encoded data removed]",
      "text/plain": [
       "<Figure size 360x360 with 1 Axes>"
      ]
     },
     "metadata": {
      "needs_background": "light"
     },
     "output_type": "display_data"
    },
    {
     "data": {
      "image/png": "[encoded data removed]",
      "text/plain": [
       "<Figure size 1080x360 with 1 Axes>"
      ]
     },
     "metadata": {
      "needs_background": "light"
     },
     "output_type": "display_data"
    }
   ],
   "source": [
    "# Logistic regression\n",
    "model_name = 'Logistic Regression'\n",
    "model = LogisticRegression(fit_intercept=False).fit(X_train, y_train)\n",
    "pred = model.predict_proba(X_val)[:, 1]\n",
    "log_mlflow(run_params, model, model_name, y_val, pred)"
   ]
  },
  {
   "cell_type": "code",
   "execution_count": 37,
   "id": "618c3cd8",
   "metadata": {
    "execution": {
     "iopub.execute_input": "2021-12-04T19:15:42.158257Z",
     "iopub.status.busy": "2021-12-04T19:15:42.158257Z",
     "iopub.status.idle": "2021-12-04T19:15:42.788742Z",
     "shell.execute_reply": "2021-12-04T19:15:42.788742Z"
    },
    "papermill": {
     "duration": 0.759472,
     "end_time": "2021-12-04T19:15:42.788742",
     "exception": false,
     "start_time": "2021-12-04T19:15:42.029270",
     "status": "completed"
    },
    "tags": []
   },
   "outputs": [
    {
     "name": "stdout",
     "output_type": "stream",
     "text": [
      "[05/Dec/2021 00:45:42] INFO - AUC: 0.566 | Recall: 0.000 | Precision: 0.000 | F1: 0.000\n"
     ]
    },
    {
     "name": "stdout",
     "output_type": "stream",
     "text": [
      "[05/Dec/2021 00:45:42] INFO - ROC curve saved to: ../artifact_dir/plots/roc_curve_Support Vector Classifier (auc = 0.57).png\n"
     ]
    },
    {
     "name": "stderr",
     "output_type": "stream",
     "text": [
      "D:\\Softwares\\miniconda3\\envs\\mlops\\lib\\site-packages\\sklearn\\metrics\\_classification.py:1308: UndefinedMetricWarning: Precision is ill-defined and being set to 0.0 due to no predicted samples. Use `zero_division` parameter to control this behavior.\n",
      "  _warn_prf(average, modifier, msg_start, len(result))\n"
     ]
    },
    {
     "name": "stdout",
     "output_type": "stream",
     "text": [
      "[05/Dec/2021 00:45:42] INFO - Precision-recall curve saved to: ../artifact_dir/plots/precision_recall_Support Vector Classifier (prec = 0.00, recall = 0.00).png\n"
     ]
    },
    {
     "name": "stdout",
     "output_type": "stream",
     "text": [
      "[05/Dec/2021 00:45:42] INFO - Model saved to: ../artifact_dir/models/Support Vector Classifier.pickle\n"
     ]
    },
    {
     "data": {
      "image/png": "[encoded data removed]",
      "text/plain": [
       "<Figure size 360x360 with 1 Axes>"
      ]
     },
     "metadata": {
      "needs_background": "light"
     },
     "output_type": "display_data"
    },
    {
     "data": {
      "image/png": "[encoded data removed]",
      "text/plain": [
       "<Figure size 1080x360 with 1 Axes>"
      ]
     },
     "metadata": {
      "needs_background": "light"
     },
     "output_type": "display_data"
    }
   ],
   "source": [
    "# Support vector classifier\n",
    "model_name = 'Support Vector Classifier'\n",
    "model = SVC(gamma=2, C=1, probability=True).fit(X_train, y_train)\n",
    "pred = model.predict_proba(X_val)[:, 1]\n",
    "log_mlflow(run_params, model, model_name, y_val, pred)"
   ]
  },
  {
   "cell_type": "code",
   "execution_count": 38,
   "id": "30c24f61",
   "metadata": {
    "execution": {
     "iopub.execute_input": "2021-12-04T19:15:43.085699Z",
     "iopub.status.busy": "2021-12-04T19:15:43.085699Z",
     "iopub.status.idle": "2021-12-04T19:15:43.743891Z",
     "shell.execute_reply": "2021-12-04T19:15:43.743891Z"
    },
    "papermill": {
     "duration": 0.798191,
     "end_time": "2021-12-04T19:15:43.743891",
     "exception": false,
     "start_time": "2021-12-04T19:15:42.945700",
     "status": "completed"
    },
    "tags": []
   },
   "outputs": [
    {
     "name": "stdout",
     "output_type": "stream",
     "text": [
      "[05/Dec/2021 00:45:43] INFO - AUC: 0.480 | Recall: 0.667 | Precision: 0.375 | F1: 0.480\n"
     ]
    },
    {
     "name": "stdout",
     "output_type": "stream",
     "text": [
      "[05/Dec/2021 00:45:43] INFO - ROC curve saved to: ../artifact_dir/plots/roc_curve_K-nearest Neighbours (auc = 0.48).png\n"
     ]
    },
    {
     "name": "stdout",
     "output_type": "stream",
     "text": [
      "[05/Dec/2021 00:45:43] INFO - Precision-recall curve saved to: ../artifact_dir/plots/precision_recall_K-nearest Neighbours (prec = 0.38, recall = 0.67).png\n"
     ]
    },
    {
     "name": "stdout",
     "output_type": "stream",
     "text": [
      "[05/Dec/2021 00:45:43] INFO - Model saved to: ../artifact_dir/models/K-nearest Neighbours.pickle\n"
     ]
    },
    {
     "data": {
      "image/png": "[encoded data removed]",
      "text/plain": [
       "<Figure size 360x360 with 1 Axes>"
      ]
     },
     "metadata": {
      "needs_background": "light"
     },
     "output_type": "display_data"
    },
    {
     "data": {
      "image/png": "[encoded data removed]",
      "text/plain": [
       "<Figure size 1080x360 with 1 Axes>"
      ]
     },
     "metadata": {
      "needs_background": "light"
     },
     "output_type": "display_data"
    }
   ],
   "source": [
    "# K-neighbours\n",
    "model_name = 'K-nearest Neighbours'\n",
    "model = KNeighborsClassifier(5).fit(X_train, y_train)\n",
    "pred = model.predict_proba(X_val)[:, 1]\n",
    "log_mlflow(run_params, model, model_name, y_val, pred)"
   ]
  },
  {
   "cell_type": "code",
   "execution_count": 39,
   "id": "0f009971",
   "metadata": {
    "execution": {
     "iopub.execute_input": "2021-12-04T19:15:44.114628Z",
     "iopub.status.busy": "2021-12-04T19:15:44.113627Z",
     "iopub.status.idle": "2021-12-04T19:15:44.944188Z",
     "shell.execute_reply": "2021-12-04T19:15:44.945188Z"
    },
    "papermill": {
     "duration": 1.024191,
     "end_time": "2021-12-04T19:15:44.945188",
     "exception": false,
     "start_time": "2021-12-04T19:15:43.920997",
     "status": "completed"
    },
    "tags": []
   },
   "outputs": [
    {
     "name": "stdout",
     "output_type": "stream",
     "text": [
      "[05/Dec/2021 00:45:44] INFO - AUC: 0.697 | Recall: 0.667 | Precision: 0.500 | F1: 0.571\n"
     ]
    },
    {
     "name": "stdout",
     "output_type": "stream",
     "text": [
      "[05/Dec/2021 00:45:44] INFO - ROC curve saved to: ../artifact_dir/plots/roc_curve_Gradient Boosting Machine (auc = 0.70).png\n"
     ]
    },
    {
     "name": "stdout",
     "output_type": "stream",
     "text": [
      "[05/Dec/2021 00:45:44] INFO - Precision-recall curve saved to: ../artifact_dir/plots/precision_recall_Gradient Boosting Machine (prec = 0.50, recall = 0.67).png\n"
     ]
    },
    {
     "name": "stdout",
     "output_type": "stream",
     "text": [
      "[05/Dec/2021 00:45:44] INFO - Model saved to: ../artifact_dir/models/Gradient Boosting Machine.pickle\n"
     ]
    },
    {
     "data": {
      "image/png": "[encoded data removed]",
      "text/plain": [
       "<Figure size 360x360 with 1 Axes>"
      ]
     },
     "metadata": {
      "needs_background": "light"
     },
     "output_type": "display_data"
    },
    {
     "data": {
      "image/png": "[encoded data removed]",
      "text/plain": [
       "<Figure size 1080x360 with 1 Axes>"
      ]
     },
     "metadata": {
      "needs_background": "light"
     },
     "output_type": "display_data"
    }
   ],
   "source": [
    "# Gradient Boosting\n",
    "model_name = 'Gradient Boosting Machine'\n",
    "model = GradientBoostingClassifier().fit(X_train, y_train)\n",
    "pred = model.predict_proba(X_val)[:, 1]\n",
    "log_mlflow(run_params, model, model_name, y_val, pred)"
   ]
  },
  {
   "cell_type": "code",
   "execution_count": 40,
   "id": "d31e4460",
   "metadata": {
    "execution": {
     "iopub.execute_input": "2021-12-04T19:15:45.407527Z",
     "iopub.status.busy": "2021-12-04T19:15:45.407527Z",
     "iopub.status.idle": "2021-12-04T19:15:46.172738Z",
     "shell.execute_reply": "2021-12-04T19:15:46.172738Z"
    },
    "papermill": {
     "duration": 1.015925,
     "end_time": "2021-12-04T19:15:46.172738",
     "exception": false,
     "start_time": "2021-12-04T19:15:45.156813",
     "status": "completed"
    },
    "tags": []
   },
   "outputs": [
    {
     "name": "stdout",
     "output_type": "stream",
     "text": [
      "[05/Dec/2021 00:45:45] INFO - AUC: 0.338 | Recall: 0.556 | Precision: 0.357 | F1: 0.435\n"
     ]
    },
    {
     "name": "stdout",
     "output_type": "stream",
     "text": [
      "[05/Dec/2021 00:45:45] INFO - ROC curve saved to: ../artifact_dir/plots/roc_curve_Extra Trees (auc = 0.34).png\n"
     ]
    },
    {
     "name": "stdout",
     "output_type": "stream",
     "text": [
      "[05/Dec/2021 00:45:45] INFO - Precision-recall curve saved to: ../artifact_dir/plots/precision_recall_Extra Trees (prec = 0.36, recall = 0.56).png\n"
     ]
    },
    {
     "name": "stdout",
     "output_type": "stream",
     "text": [
      "[05/Dec/2021 00:45:45] INFO - Model saved to: ../artifact_dir/models/Extra Trees.pickle\n"
     ]
    },
    {
     "data": {
      "image/png": "[encoded data removed]",
      "text/plain": [
       "<Figure size 360x360 with 1 Axes>"
      ]
     },
     "metadata": {
      "needs_background": "light"
     },
     "output_type": "display_data"
    },
    {
     "data": {
      "image/png": "[encoded data removed]",
      "text/plain": [
       "<Figure size 1080x360 with 1 Axes>"
      ]
     },
     "metadata": {
      "needs_background": "light"
     },
     "output_type": "display_data"
    }
   ],
   "source": [
    "# Bagged trees\n",
    "model_name = 'Extra Trees'\n",
    "model = ExtraTreesClassifier().fit(X_train, y_train)\n",
    "pred = model.predict_proba(X_val)[:, 1]\n",
    "log_mlflow(run_params, model, model_name, y_val, pred)"
   ]
  },
  {
   "cell_type": "markdown",
   "id": "4da988df",
   "metadata": {
    "papermill": {
     "duration": 0.153356,
     "end_time": "2021-12-04T19:15:46.505654",
     "exception": false,
     "start_time": "2021-12-04T19:15:46.352298",
     "status": "completed"
    },
    "tags": []
   },
   "source": [
    "### Test loading model"
   ]
  },
  {
   "cell_type": "code",
   "execution_count": 41,
   "id": "7fa1e13d",
   "metadata": {
    "execution": {
     "iopub.execute_input": "2021-12-04T19:15:46.872447Z",
     "iopub.status.busy": "2021-12-04T19:15:46.872447Z",
     "iopub.status.idle": "2021-12-04T19:15:46.969399Z",
     "shell.execute_reply": "2021-12-04T19:15:46.968399Z"
    },
    "papermill": {
     "duration": 0.296144,
     "end_time": "2021-12-04T19:15:46.969399",
     "exception": false,
     "start_time": "2021-12-04T19:15:46.673255",
     "status": "completed"
    },
    "tags": []
   },
   "outputs": [],
   "source": [
    "model_name = 'Support Vector Classifier'\n",
    "check_model = load('{}/models/{}.pickle'.format(ARTIFACT_DIR, model_name))"
   ]
  },
  {
   "cell_type": "code",
   "execution_count": 42,
   "id": "b8524dd6",
   "metadata": {
    "execution": {
     "iopub.execute_input": "2021-12-04T19:15:47.326399Z",
     "iopub.status.busy": "2021-12-04T19:15:47.325398Z",
     "iopub.status.idle": "2021-12-04T19:15:47.426399Z",
     "shell.execute_reply": "2021-12-04T19:15:47.426399Z"
    },
    "papermill": {
     "duration": 0.283,
     "end_time": "2021-12-04T19:15:47.426399",
     "exception": false,
     "start_time": "2021-12-04T19:15:47.143399",
     "status": "completed"
    },
    "tags": []
   },
   "outputs": [
    {
     "data": {
      "text/plain": [
       "SVC(C=1, gamma=2, probability=True)"
      ]
     },
     "execution_count": 42,
     "metadata": {},
     "output_type": "execute_result"
    }
   ],
   "source": [
    "check_model"
   ]
  },
  {
   "cell_type": "code",
   "execution_count": 43,
   "id": "594de02d",
   "metadata": {
    "execution": {
     "iopub.execute_input": "2021-12-04T19:15:47.807827Z",
     "iopub.status.busy": "2021-12-04T19:15:47.806699Z",
     "iopub.status.idle": "2021-12-04T19:15:47.907859Z",
     "shell.execute_reply": "2021-12-04T19:15:47.907859Z"
    },
    "papermill": {
     "duration": 0.261705,
     "end_time": "2021-12-04T19:15:47.907859",
     "exception": false,
     "start_time": "2021-12-04T19:15:47.646154",
     "status": "completed"
    },
    "tags": []
   },
   "outputs": [],
   "source": [
    "pred = check_model.predict_proba(X_val)[:, 1]"
   ]
  },
  {
   "cell_type": "code",
   "execution_count": 44,
   "id": "3d3afbf0",
   "metadata": {
    "execution": {
     "iopub.execute_input": "2021-12-04T19:15:48.217504Z",
     "iopub.status.busy": "2021-12-04T19:15:48.217504Z",
     "iopub.status.idle": "2021-12-04T19:15:48.303029Z",
     "shell.execute_reply": "2021-12-04T19:15:48.302031Z"
    },
    "papermill": {
     "duration": 0.232569,
     "end_time": "2021-12-04T19:15:48.303029",
     "exception": false,
     "start_time": "2021-12-04T19:15:48.070460",
     "status": "completed"
    },
    "tags": []
   },
   "outputs": [
    {
     "name": "stdout",
     "output_type": "stream",
     "text": [
      "[05/Dec/2021 00:45:48] INFO - AUC: 0.566 | Recall: 0.000 | Precision: 0.000 | F1: 0.000\n"
     ]
    },
    {
     "name": "stderr",
     "output_type": "stream",
     "text": [
      "D:\\Softwares\\miniconda3\\envs\\mlops\\lib\\site-packages\\sklearn\\metrics\\_classification.py:1308: UndefinedMetricWarning: Precision is ill-defined and being set to 0.0 due to no predicted samples. Use `zero_division` parameter to control this behavior.\n",
      "  _warn_prf(average, modifier, msg_start, len(result))\n"
     ]
    },
    {
     "data": {
      "text/plain": [
       "(0.5656565656565656, 0.0, 0.0, 0.0)"
      ]
     },
     "execution_count": 44,
     "metadata": {},
     "output_type": "execute_result"
    }
   ],
   "source": [
    "evaluate_binary(y_val, pred)"
   ]
  },
  {
   "cell_type": "code",
   "execution_count": null,
   "id": "a5d1fc7b",
   "metadata": {
    "papermill": {
     "duration": 0.146812,
     "end_time": "2021-12-04T19:15:48.604967",
     "exception": false,
     "start_time": "2021-12-04T19:15:48.458155",
     "status": "completed"
    },
    "tags": []
   },
   "outputs": [],
   "source": []
  }
 ],
 "metadata": {
  "celltoolbar": "Tags",
  "interpreter": {
   "hash": "59e91c191c97324b2a36152b56cdd66e3729b4be830ea7b7f3cc1c1764fb3478"
  },
  "kernelspec": {
   "display_name": "Python 3",
   "language": "python",
   "name": "python3"
  },
  "language_info": {
   "codemirror_mode": {
    "name": "ipython",
    "version": 3
   },
   "file_extension": ".py",
   "mimetype": "text/x-python",
   "name": "python",
   "nbconvert_exporter": "python",
   "pygments_lexer": "ipython3",
   "version": "3.8.12"
  },
  "papermill": {
   "default_parameters": {},
   "duration": 25.369056,
   "end_time": "2021-12-04T19:15:49.191327",
   "environment_variables": {},
   "exception": null,
   "input_path": "basic.ipynb",
   "output_path": "../artifact_dir/notebooks/basic_HANGSENG.ipynb",
   "parameters": {
    "INDEX": "HANGSENG"
   },
   "start_time": "2021-12-04T19:15:23.822271",
   "version": "2.3.3"
  }
 },
 "nbformat": 4,
 "nbformat_minor": 5
}