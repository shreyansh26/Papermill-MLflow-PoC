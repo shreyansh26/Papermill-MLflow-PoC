{
 "cells": [
  {
   "cell_type": "code",
   "execution_count": 1,
   "id": "75844378",
   "metadata": {
    "execution": {
     "iopub.execute_input": "2021-12-04T19:15:51.599881Z",
     "iopub.status.busy": "2021-12-04T19:15:51.598880Z",
     "iopub.status.idle": "2021-12-04T19:15:51.634323Z",
     "shell.execute_reply": "2021-12-04T19:15:51.634323Z"
    },
    "papermill": {
     "duration": 0.142984,
     "end_time": "2021-12-04T19:15:51.635374",
     "exception": false,
     "start_time": "2021-12-04T19:15:51.492390",
     "status": "completed"
    },
    "tags": []
   },
   "outputs": [],
   "source": [
    "%load_ext autoreload\n",
    "%autoreload 2"
   ]
  },
  {
   "cell_type": "code",
   "execution_count": 2,
   "id": "6cf1b519",
   "metadata": {
    "execution": {
     "iopub.execute_input": "2021-12-04T19:15:51.828592Z",
     "iopub.status.busy": "2021-12-04T19:15:51.828592Z",
     "iopub.status.idle": "2021-12-04T19:15:54.380834Z",
     "shell.execute_reply": "2021-12-04T19:15:54.379835Z"
    },
    "papermill": {
     "duration": 2.652323,
     "end_time": "2021-12-04T19:15:54.381833",
     "exception": false,
     "start_time": "2021-12-04T19:15:51.729510",
     "status": "completed"
    },
    "tags": []
   },
   "outputs": [],
   "source": [
    "import pandas as pd\n",
    "import matplotlib.pyplot as plt\n",
    "import statsmodels.api as sm\n",
    "import statsmodels.formula.api as smf\n",
    "from statsmodels.tools.tools import add_constant\n",
    "from sklearn.preprocessing import StandardScaler\n",
    "from sklearn.linear_model import LogisticRegression\n",
    "from sklearn.svm import SVC\n",
    "from sklearn.neighbors import KNeighborsClassifier\n",
    "from sklearn.ensemble import GradientBoostingClassifier, ExtraTreesClassifier\n",
    "from joblib import load\n",
    "\n",
    "from config import EXPERIMENT, RUN_NAME, ARTIFACT_DIR\n",
    "from logger import logger\n",
    "from mlflow_utils import evaluate_binary, log_mlflow"
   ]
  },
  {
   "cell_type": "code",
   "execution_count": 3,
   "id": "6c836bb7",
   "metadata": {
    "execution": {
     "iopub.execute_input": "2021-12-04T19:15:54.592380Z",
     "iopub.status.busy": "2021-12-04T19:15:54.592380Z",
     "iopub.status.idle": "2021-12-04T19:15:54.678082Z",
     "shell.execute_reply": "2021-12-04T19:15:54.678082Z"
    },
    "papermill": {
     "duration": 0.183624,
     "end_time": "2021-12-04T19:15:54.678082",
     "exception": false,
     "start_time": "2021-12-04T19:15:54.494458",
     "status": "completed"
    },
    "tags": [
     "parameters"
    ]
   },
   "outputs": [],
   "source": [
    "# Tag this cell as 'parameters'\n",
    "INDEX = 'SNP'"
   ]
  },
  {
   "cell_type": "code",
   "execution_count": 4,
   "id": "367feaa5",
   "metadata": {
    "execution": {
     "iopub.execute_input": "2021-12-04T19:15:54.872906Z",
     "iopub.status.busy": "2021-12-04T19:15:54.872906Z",
     "iopub.status.idle": "2021-12-04T19:15:54.959173Z",
     "shell.execute_reply": "2021-12-04T19:15:54.959173Z"
    },
    "papermill": {
     "duration": 0.183966,
     "end_time": "2021-12-04T19:15:54.959173",
     "exception": false,
     "start_time": "2021-12-04T19:15:54.775207",
     "status": "completed"
    },
    "tags": [
     "injected-parameters"
    ]
   },
   "outputs": [],
   "source": [
    "# Parameters\n",
    "INDEX = \"NIKKEI\"\n"
   ]
  },
  {
   "cell_type": "code",
   "execution_count": 5,
   "id": "84f1e1bf",
   "metadata": {
    "execution": {
     "iopub.execute_input": "2021-12-04T19:15:55.154219Z",
     "iopub.status.busy": "2021-12-04T19:15:55.153229Z",
     "iopub.status.idle": "2021-12-04T19:15:55.240177Z",
     "shell.execute_reply": "2021-12-04T19:15:55.239176Z"
    },
    "papermill": {
     "duration": 0.184959,
     "end_time": "2021-12-04T19:15:55.241175",
     "exception": false,
     "start_time": "2021-12-04T19:15:55.056216",
     "status": "completed"
    },
    "tags": []
   },
   "outputs": [],
   "source": [
    "# Wrap all this is a parameter dict\n",
    "run_params = {'experiment': EXPERIMENT,\n",
    "              'iteration': RUN_NAME,\n",
    "              'index': INDEX,\n",
    "              'artifact_dir': ARTIFACT_DIR}"
   ]
  },
  {
   "cell_type": "markdown",
   "id": "9dc7f0e9",
   "metadata": {
    "papermill": {
     "duration": 0.099,
     "end_time": "2021-12-04T19:15:55.447419",
     "exception": false,
     "start_time": "2021-12-04T19:15:55.348419",
     "status": "completed"
    },
    "tags": []
   },
   "source": [
    "### Import data"
   ]
  },
  {
   "cell_type": "code",
   "execution_count": 6,
   "id": "54b86b68",
   "metadata": {
    "execution": {
     "iopub.execute_input": "2021-12-04T19:15:55.644550Z",
     "iopub.status.busy": "2021-12-04T19:15:55.643548Z",
     "iopub.status.idle": "2021-12-04T19:15:55.739549Z",
     "shell.execute_reply": "2021-12-04T19:15:55.739549Z"
    },
    "papermill": {
     "duration": 0.195043,
     "end_time": "2021-12-04T19:15:55.739549",
     "exception": false,
     "start_time": "2021-12-04T19:15:55.544506",
     "status": "completed"
    },
    "tags": []
   },
   "outputs": [],
   "source": [
    "df = pd.read_csv('../datadir/{}.csv'.format(INDEX))"
   ]
  },
  {
   "cell_type": "markdown",
   "id": "b049a4a5",
   "metadata": {
    "papermill": {
     "duration": 0.105725,
     "end_time": "2021-12-04T19:15:55.944320",
     "exception": false,
     "start_time": "2021-12-04T19:15:55.838595",
     "status": "completed"
    },
    "tags": []
   },
   "source": [
    "### Data prep"
   ]
  },
  {
   "cell_type": "code",
   "execution_count": 7,
   "id": "f5dce5ed",
   "metadata": {
    "execution": {
     "iopub.execute_input": "2021-12-04T19:15:56.214329Z",
     "iopub.status.busy": "2021-12-04T19:15:56.213331Z",
     "iopub.status.idle": "2021-12-04T19:15:56.322373Z",
     "shell.execute_reply": "2021-12-04T19:15:56.322373Z"
    },
    "papermill": {
     "duration": 0.268098,
     "end_time": "2021-12-04T19:15:56.322373",
     "exception": false,
     "start_time": "2021-12-04T19:15:56.054275",
     "status": "completed"
    },
    "tags": []
   },
   "outputs": [],
   "source": [
    "df.columns = [col.lower().replace(' ', '_') for col in df.columns]"
   ]
  },
  {
   "cell_type": "code",
   "execution_count": 8,
   "id": "e0fa042a",
   "metadata": {
    "execution": {
     "iopub.execute_input": "2021-12-04T19:15:56.523373Z",
     "iopub.status.busy": "2021-12-04T19:15:56.522357Z",
     "iopub.status.idle": "2021-12-04T19:15:56.607153Z",
     "shell.execute_reply": "2021-12-04T19:15:56.607153Z"
    },
    "papermill": {
     "duration": 0.181823,
     "end_time": "2021-12-04T19:15:56.607153",
     "exception": false,
     "start_time": "2021-12-04T19:15:56.425330",
     "status": "completed"
    },
    "tags": []
   },
   "outputs": [],
   "source": [
    "df.sort_values(by='date', ascending=True, inplace=True)  # Have to sort ascending for rolling to work correctly"
   ]
  },
  {
   "cell_type": "markdown",
   "id": "e8fc8600",
   "metadata": {
    "papermill": {
     "duration": 0.091,
     "end_time": "2021-12-04T19:15:56.796195",
     "exception": false,
     "start_time": "2021-12-04T19:15:56.705195",
     "status": "completed"
    },
    "tags": []
   },
   "source": [
    "### Create basic features"
   ]
  },
  {
   "cell_type": "code",
   "execution_count": 9,
   "id": "ab1a54e4",
   "metadata": {
    "execution": {
     "iopub.execute_input": "2021-12-04T19:15:56.993195Z",
     "iopub.status.busy": "2021-12-04T19:15:56.993195Z",
     "iopub.status.idle": "2021-12-04T19:15:57.083201Z",
     "shell.execute_reply": "2021-12-04T19:15:57.082198Z"
    },
    "papermill": {
     "duration": 0.191048,
     "end_time": "2021-12-04T19:15:57.083201",
     "exception": false,
     "start_time": "2021-12-04T19:15:56.892153",
     "status": "completed"
    },
    "tags": []
   },
   "outputs": [],
   "source": [
    "df = df[['date', 'open', 'adj_close']].copy()"
   ]
  },
  {
   "cell_type": "code",
   "execution_count": 10,
   "id": "543bb50b",
   "metadata": {
    "execution": {
     "iopub.execute_input": "2021-12-04T19:15:57.281154Z",
     "iopub.status.busy": "2021-12-04T19:15:57.281154Z",
     "iopub.status.idle": "2021-12-04T19:15:57.370159Z",
     "shell.execute_reply": "2021-12-04T19:15:57.369161Z"
    },
    "papermill": {
     "duration": 0.186003,
     "end_time": "2021-12-04T19:15:57.370159",
     "exception": false,
     "start_time": "2021-12-04T19:15:57.184156",
     "status": "completed"
    },
    "tags": []
   },
   "outputs": [],
   "source": [
    "df['prev'] = df['adj_close'].shift(1)"
   ]
  },
  {
   "cell_type": "code",
   "execution_count": 11,
   "id": "9fe3427c",
   "metadata": {
    "execution": {
     "iopub.execute_input": "2021-12-04T19:15:57.569823Z",
     "iopub.status.busy": "2021-12-04T19:15:57.569297Z",
     "iopub.status.idle": "2021-12-04T19:15:57.647077Z",
     "shell.execute_reply": "2021-12-04T19:15:57.647077Z"
    },
    "papermill": {
     "duration": 0.175767,
     "end_time": "2021-12-04T19:15:57.647077",
     "exception": false,
     "start_time": "2021-12-04T19:15:57.471310",
     "status": "completed"
    },
    "tags": []
   },
   "outputs": [],
   "source": [
    "df['sma2'] = df['prev'].rolling(window=2).mean()\n",
    "df['sma5'] = df['prev'].rolling(window=5).mean()\n",
    "df['sma10'] = df['prev'].rolling(window=10).mean()\n",
    "df['sma20'] = df['prev'].rolling(window=20).mean()"
   ]
  },
  {
   "cell_type": "code",
   "execution_count": 12,
   "id": "54fb5681",
   "metadata": {
    "execution": {
     "iopub.execute_input": "2021-12-04T19:15:57.850373Z",
     "iopub.status.busy": "2021-12-04T19:15:57.850373Z",
     "iopub.status.idle": "2021-12-04T19:15:57.929978Z",
     "shell.execute_reply": "2021-12-04T19:15:57.929978Z"
    },
    "papermill": {
     "duration": 0.181832,
     "end_time": "2021-12-04T19:15:57.929978",
     "exception": false,
     "start_time": "2021-12-04T19:15:57.748146",
     "status": "completed"
    },
    "tags": []
   },
   "outputs": [],
   "source": [
    "assert round(df['prev'].tail(5).mean(), 4) == round(df['sma5'].tail(1).item(), 4), 'Expected sma5 to be same as mean of past 5 items'\n",
    "assert round(df['prev'].tail(10).mean(), 4) == round(df['sma10'].tail(1).item(), 4), 'Expected sma10 to be same as mean of past 10 items'\n",
    "assert round(df['prev'].tail(20).mean(), 4) == round(df['sma20'].tail(1).item(), 4), 'Expected sma20 to be same as mean of past 20 items'"
   ]
  },
  {
   "cell_type": "code",
   "execution_count": 13,
   "id": "5e7e074b",
   "metadata": {
    "execution": {
     "iopub.execute_input": "2021-12-04T19:15:58.121084Z",
     "iopub.status.busy": "2021-12-04T19:15:58.120105Z",
     "iopub.status.idle": "2021-12-04T19:15:58.202056Z",
     "shell.execute_reply": "2021-12-04T19:15:58.202056Z"
    },
    "papermill": {
     "duration": 0.179973,
     "end_time": "2021-12-04T19:15:58.202056",
     "exception": false,
     "start_time": "2021-12-04T19:15:58.022083",
     "status": "completed"
    },
    "tags": []
   },
   "outputs": [],
   "source": [
    "df['ema12'] = df['prev'].ewm(span=12, min_periods=12, adjust=False).mean()\n",
    "df['ema26'] = df['prev'].ewm(span=26, min_periods=26, adjust=False).mean()"
   ]
  },
  {
   "cell_type": "code",
   "execution_count": 14,
   "id": "d0165587",
   "metadata": {
    "execution": {
     "iopub.execute_input": "2021-12-04T19:15:58.395011Z",
     "iopub.status.busy": "2021-12-04T19:15:58.395011Z",
     "iopub.status.idle": "2021-12-04T19:15:58.485013Z",
     "shell.execute_reply": "2021-12-04T19:15:58.485013Z"
    },
    "papermill": {
     "duration": 0.189001,
     "end_time": "2021-12-04T19:15:58.485013",
     "exception": false,
     "start_time": "2021-12-04T19:15:58.296012",
     "status": "completed"
    },
    "tags": []
   },
   "outputs": [],
   "source": [
    "def difference(prev_price, moving_average):\n",
    "    return (prev_price - moving_average) / prev_price"
   ]
  },
  {
   "cell_type": "code",
   "execution_count": 15,
   "id": "da25e980",
   "metadata": {
    "execution": {
     "iopub.execute_input": "2021-12-04T19:15:58.687227Z",
     "iopub.status.busy": "2021-12-04T19:15:58.687227Z",
     "iopub.status.idle": "2021-12-04T19:15:58.782844Z",
     "shell.execute_reply": "2021-12-04T19:15:58.782844Z"
    },
    "papermill": {
     "duration": 0.195581,
     "end_time": "2021-12-04T19:15:58.783886",
     "exception": false,
     "start_time": "2021-12-04T19:15:58.588305",
     "status": "completed"
    },
    "tags": []
   },
   "outputs": [],
   "source": [
    "for col in ['sma2', 'sma5', 'sma10', 'sma20', 'ema12', 'ema26']:\n",
    "    df['{}_diff'.format(col)] = difference(df['prev'], df[col])"
   ]
  },
  {
   "cell_type": "code",
   "execution_count": 16,
   "id": "e60fe4ca",
   "metadata": {
    "execution": {
     "iopub.execute_input": "2021-12-04T19:15:58.976207Z",
     "iopub.status.busy": "2021-12-04T19:15:58.976207Z",
     "iopub.status.idle": "2021-12-04T19:15:59.060251Z",
     "shell.execute_reply": "2021-12-04T19:15:59.060251Z"
    },
    "papermill": {
     "duration": 0.181809,
     "end_time": "2021-12-04T19:15:59.060251",
     "exception": false,
     "start_time": "2021-12-04T19:15:58.878442",
     "status": "completed"
    },
    "tags": []
   },
   "outputs": [],
   "source": [
    "df.dropna(inplace=True)"
   ]
  },
  {
   "cell_type": "code",
   "execution_count": 17,
   "id": "3563d9d0",
   "metadata": {
    "execution": {
     "iopub.execute_input": "2021-12-04T19:15:59.255206Z",
     "iopub.status.busy": "2021-12-04T19:15:59.254207Z",
     "iopub.status.idle": "2021-12-04T19:15:59.344206Z",
     "shell.execute_reply": "2021-12-04T19:15:59.343209Z"
    },
    "papermill": {
     "duration": 0.186981,
     "end_time": "2021-12-04T19:15:59.344206",
     "exception": false,
     "start_time": "2021-12-04T19:15:59.157225",
     "status": "completed"
    },
    "tags": []
   },
   "outputs": [
    {
     "data": {
      "text/plain": [
       "(216, 16)"
      ]
     },
     "execution_count": 17,
     "metadata": {},
     "output_type": "execute_result"
    }
   ],
   "source": [
    "df.shape"
   ]
  },
  {
   "cell_type": "code",
   "execution_count": 18,
   "id": "9dac897a",
   "metadata": {
    "execution": {
     "iopub.execute_input": "2021-12-04T19:15:59.542726Z",
     "iopub.status.busy": "2021-12-04T19:15:59.541727Z",
     "iopub.status.idle": "2021-12-04T19:15:59.627728Z",
     "shell.execute_reply": "2021-12-04T19:15:59.627728Z"
    },
    "papermill": {
     "duration": 0.185002,
     "end_time": "2021-12-04T19:15:59.627728",
     "exception": false,
     "start_time": "2021-12-04T19:15:59.442726",
     "status": "completed"
    },
    "tags": []
   },
   "outputs": [],
   "source": [
    "df.drop(columns=['date', 'open'], inplace=True)"
   ]
  },
  {
   "cell_type": "markdown",
   "id": "45e0a282",
   "metadata": {
    "papermill": {
     "duration": 0.094945,
     "end_time": "2021-12-04T19:15:59.818725",
     "exception": false,
     "start_time": "2021-12-04T19:15:59.723780",
     "status": "completed"
    },
    "tags": []
   },
   "source": [
    "### Create label"
   ]
  },
  {
   "cell_type": "code",
   "execution_count": 19,
   "id": "52936658",
   "metadata": {
    "execution": {
     "iopub.execute_input": "2021-12-04T19:16:00.025290Z",
     "iopub.status.busy": "2021-12-04T19:16:00.025290Z",
     "iopub.status.idle": "2021-12-04T19:16:00.102269Z",
     "shell.execute_reply": "2021-12-04T19:16:00.102269Z"
    },
    "papermill": {
     "duration": 0.184477,
     "end_time": "2021-12-04T19:16:00.102269",
     "exception": false,
     "start_time": "2021-12-04T19:15:59.917792",
     "status": "completed"
    },
    "tags": []
   },
   "outputs": [],
   "source": [
    "df['label'] = (df['adj_close'] > df['prev']).astype(int)"
   ]
  },
  {
   "cell_type": "markdown",
   "id": "788b62a7",
   "metadata": {
    "papermill": {
     "duration": 0.092511,
     "end_time": "2021-12-04T19:16:00.292007",
     "exception": false,
     "start_time": "2021-12-04T19:16:00.199496",
     "status": "completed"
    },
    "tags": []
   },
   "source": [
    "### Train-val split"
   ]
  },
  {
   "cell_type": "code",
   "execution_count": 20,
   "id": "b73a753c",
   "metadata": {
    "execution": {
     "iopub.execute_input": "2021-12-04T19:16:00.736076Z",
     "iopub.status.busy": "2021-12-04T19:16:00.736076Z",
     "iopub.status.idle": "2021-12-04T19:16:00.820184Z",
     "shell.execute_reply": "2021-12-04T19:16:00.820184Z"
    },
    "papermill": {
     "duration": 0.216925,
     "end_time": "2021-12-04T19:16:00.820184",
     "exception": false,
     "start_time": "2021-12-04T19:16:00.603259",
     "status": "completed"
    },
    "tags": []
   },
   "outputs": [],
   "source": [
    "# Keep most recent 20 days as validation set"
   ]
  },
  {
   "cell_type": "code",
   "execution_count": 21,
   "id": "c441d5b6",
   "metadata": {
    "execution": {
     "iopub.execute_input": "2021-12-04T19:16:01.022211Z",
     "iopub.status.busy": "2021-12-04T19:16:01.022211Z",
     "iopub.status.idle": "2021-12-04T19:16:01.119056Z",
     "shell.execute_reply": "2021-12-04T19:16:01.118102Z"
    },
    "papermill": {
     "duration": 0.196187,
     "end_time": "2021-12-04T19:16:01.119056",
     "exception": false,
     "start_time": "2021-12-04T19:16:00.922869",
     "status": "completed"
    },
    "tags": []
   },
   "outputs": [
    {
     "name": "stdout",
     "output_type": "stream",
     "text": [
      "[05/Dec/2021 00:46:01] INFO - No. of days - Train: 196, Val: 20\n"
     ]
    }
   ],
   "source": [
    "validation_days = 20\n",
    "train = df.iloc[:-validation_days].copy()\n",
    "val = df.iloc[-validation_days:].copy()\n",
    "logger.info('No. of days - Train: {}, Val: {}'.format(train.shape[0], val.shape[0]))"
   ]
  },
  {
   "cell_type": "markdown",
   "id": "bad88eb1",
   "metadata": {
    "papermill": {
     "duration": 0.096042,
     "end_time": "2021-12-04T19:16:01.316095",
     "exception": false,
     "start_time": "2021-12-04T19:16:01.220053",
     "status": "completed"
    },
    "tags": []
   },
   "source": [
    "### Basic visualizations"
   ]
  },
  {
   "cell_type": "code",
   "execution_count": 22,
   "id": "83d977d4",
   "metadata": {
    "execution": {
     "iopub.execute_input": "2021-12-04T19:16:01.502466Z",
     "iopub.status.busy": "2021-12-04T19:16:01.502466Z",
     "iopub.status.idle": "2021-12-04T19:16:01.744477Z",
     "shell.execute_reply": "2021-12-04T19:16:01.744477Z"
    },
    "papermill": {
     "duration": 0.333426,
     "end_time": "2021-12-04T19:16:01.744477",
     "exception": false,
     "start_time": "2021-12-04T19:16:01.411051",
     "status": "completed"
    },
    "tags": []
   },
   "outputs": [
    {
     "data": {
      "text/plain": [
       "<matplotlib.legend.Legend at 0x14015a2b1f0>"
      ]
     },
     "execution_count": 22,
     "metadata": {},
     "output_type": "execute_result"
    },
    {
     "data": {
      "image/png": "[encoded data removed]",
      "text/plain": [
       "<Figure size 1080x360 with 1 Axes>"
      ]
     },
     "metadata": {
      "needs_background": "light"
     },
     "output_type": "display_data"
    }
   ],
   "source": [
    "plt.figure(figsize=(15, 5))\n",
    "plt.grid()\n",
    "plt.plot(train['adj_close'], label='price')\n",
    "plt.plot(train['sma20'], label='simple moving average 20')\n",
    "plt.plot(train['ema12'], label='exponential moving average 12')\n",
    "plt.plot(train['ema26'], label='exponential moving average 26')\n",
    "plt.legend()"
   ]
  },
  {
   "cell_type": "markdown",
   "id": "def94fd7",
   "metadata": {
    "papermill": {
     "duration": 0.101008,
     "end_time": "2021-12-04T19:16:01.958389",
     "exception": false,
     "start_time": "2021-12-04T19:16:01.857381",
     "status": "completed"
    },
    "tags": []
   },
   "source": [
    "### Feature transformations"
   ]
  },
  {
   "cell_type": "code",
   "execution_count": 23,
   "id": "0d8704b3",
   "metadata": {
    "execution": {
     "iopub.execute_input": "2021-12-04T19:16:02.169456Z",
     "iopub.status.busy": "2021-12-04T19:16:02.168483Z",
     "iopub.status.idle": "2021-12-04T19:16:02.251868Z",
     "shell.execute_reply": "2021-12-04T19:16:02.251868Z"
    },
    "papermill": {
     "duration": 0.188435,
     "end_time": "2021-12-04T19:16:02.251868",
     "exception": false,
     "start_time": "2021-12-04T19:16:02.063433",
     "status": "completed"
    },
    "tags": []
   },
   "outputs": [],
   "source": [
    "scaler = StandardScaler()"
   ]
  },
  {
   "cell_type": "code",
   "execution_count": 24,
   "id": "73b9b138",
   "metadata": {
    "execution": {
     "iopub.execute_input": "2021-12-04T19:16:02.467767Z",
     "iopub.status.busy": "2021-12-04T19:16:02.466773Z",
     "iopub.status.idle": "2021-12-04T19:16:02.551721Z",
     "shell.execute_reply": "2021-12-04T19:16:02.551721Z"
    },
    "papermill": {
     "duration": 0.193769,
     "end_time": "2021-12-04T19:16:02.551721",
     "exception": false,
     "start_time": "2021-12-04T19:16:02.357952",
     "status": "completed"
    },
    "tags": []
   },
   "outputs": [],
   "source": [
    "COLS_TO_SCALE = ['prev', 'sma2', 'sma5', 'sma10', 'sma20', 'ema12', 'ema26']"
   ]
  },
  {
   "cell_type": "code",
   "execution_count": 25,
   "id": "3c686337",
   "metadata": {
    "execution": {
     "iopub.execute_input": "2021-12-04T19:16:02.768764Z",
     "iopub.status.busy": "2021-12-04T19:16:02.767755Z",
     "iopub.status.idle": "2021-12-04T19:16:02.853550Z",
     "shell.execute_reply": "2021-12-04T19:16:02.853550Z"
    },
    "papermill": {
     "duration": 0.197806,
     "end_time": "2021-12-04T19:16:02.853550",
     "exception": false,
     "start_time": "2021-12-04T19:16:02.655744",
     "status": "completed"
    },
    "tags": []
   },
   "outputs": [
    {
     "data": {
      "text/plain": [
       "StandardScaler()"
      ]
     },
     "execution_count": 25,
     "metadata": {},
     "output_type": "execute_result"
    }
   ],
   "source": [
    "scaler.fit(train[COLS_TO_SCALE])"
   ]
  },
  {
   "cell_type": "code",
   "execution_count": 26,
   "id": "2d5bab3a",
   "metadata": {
    "execution": {
     "iopub.execute_input": "2021-12-04T19:16:03.069738Z",
     "iopub.status.busy": "2021-12-04T19:16:03.068693Z",
     "iopub.status.idle": "2021-12-04T19:16:03.165692Z",
     "shell.execute_reply": "2021-12-04T19:16:03.165692Z"
    },
    "papermill": {
     "duration": 0.206986,
     "end_time": "2021-12-04T19:16:03.166692",
     "exception": false,
     "start_time": "2021-12-04T19:16:02.959706",
     "status": "completed"
    },
    "tags": []
   },
   "outputs": [],
   "source": [
    "train[COLS_TO_SCALE] = scaler.transform(train[COLS_TO_SCALE])\n",
    "val[COLS_TO_SCALE] = scaler.transform(val[COLS_TO_SCALE])"
   ]
  },
  {
   "cell_type": "markdown",
   "id": "98cc6ef8",
   "metadata": {
    "papermill": {
     "duration": 0.130087,
     "end_time": "2021-12-04T19:16:03.402779",
     "exception": false,
     "start_time": "2021-12-04T19:16:03.272692",
     "status": "completed"
    },
    "tags": []
   },
   "source": [
    "### Linear regression coefficients"
   ]
  },
  {
   "cell_type": "code",
   "execution_count": 27,
   "id": "b8ef7af9",
   "metadata": {
    "execution": {
     "iopub.execute_input": "2021-12-04T19:16:03.625972Z",
     "iopub.status.busy": "2021-12-04T19:16:03.624973Z",
     "iopub.status.idle": "2021-12-04T19:16:03.703712Z",
     "shell.execute_reply": "2021-12-04T19:16:03.703712Z"
    },
    "papermill": {
     "duration": 0.183935,
     "end_time": "2021-12-04T19:16:03.703712",
     "exception": false,
     "start_time": "2021-12-04T19:16:03.519777",
     "status": "completed"
    },
    "tags": []
   },
   "outputs": [
    {
     "name": "stdout",
     "output_type": "stream",
     "text": [
      "[05/Dec/2021 00:46:03] INFO - x variables: prev+sma2+sma5+sma10+sma20+ema12+ema26+sma2_diff+sma5_diff+sma10_diff+sma20_diff+ema12_diff+ema26_diff\n"
     ]
    }
   ],
   "source": [
    "x_variables = '+'.join(list(train.columns[1:-1]))\n",
    "logger.info('x variables: {}'.format(x_variables))"
   ]
  },
  {
   "cell_type": "code",
   "execution_count": 28,
   "id": "acb3d490",
   "metadata": {
    "execution": {
     "iopub.execute_input": "2021-12-04T19:16:03.922489Z",
     "iopub.status.busy": "2021-12-04T19:16:03.922489Z",
     "iopub.status.idle": "2021-12-04T19:16:04.028545Z",
     "shell.execute_reply": "2021-12-04T19:16:04.027541Z"
    },
    "papermill": {
     "duration": 0.213516,
     "end_time": "2021-12-04T19:16:04.029537",
     "exception": false,
     "start_time": "2021-12-04T19:16:03.816021",
     "status": "completed"
    },
    "tags": []
   },
   "outputs": [],
   "source": [
    "results = smf.ols('adj_close ~ {}'.format(x_variables), data=train).fit()"
   ]
  },
  {
   "cell_type": "code",
   "execution_count": 29,
   "id": "9aa62794",
   "metadata": {
    "execution": {
     "iopub.execute_input": "2021-12-04T19:16:04.246515Z",
     "iopub.status.busy": "2021-12-04T19:16:04.246515Z",
     "iopub.status.idle": "2021-12-04T19:16:04.343490Z",
     "shell.execute_reply": "2021-12-04T19:16:04.344534Z"
    },
    "papermill": {
     "duration": 0.206044,
     "end_time": "2021-12-04T19:16:04.344534",
     "exception": false,
     "start_time": "2021-12-04T19:16:04.138490",
     "status": "completed"
    },
    "scrolled": false,
    "tags": []
   },
   "outputs": [
    {
     "name": "stdout",
     "output_type": "stream",
     "text": [
      "                            OLS Regression Results                            \n",
      "==============================================================================\n",
      "Dep. Variable:              adj_close   R-squared:                       0.974\n",
      "Model:                            OLS   Adj. R-squared:                  0.972\n",
      "Method:                 Least Squares   F-statistic:                     528.1\n",
      "Date:                Sun, 05 Dec 2021   Prob (F-statistic):          6.85e-137\n",
      "Time:                        00:46:04   Log-Likelihood:                -1293.2\n",
      "No. Observations:                 196   AIC:                             2614.\n",
      "Df Residuals:                     182   BIC:                             2660.\n",
      "Df Model:                          13                                         \n",
      "Covariance Type:            nonrobust                                         \n",
      "==============================================================================\n",
      "                 coef    std err          t      P>|t|      [0.025      0.975]\n",
      "------------------------------------------------------------------------------\n",
      "Intercept   2.214e+04    148.906    148.716      0.000    2.19e+04    2.24e+04\n",
      "prev       -1427.3647   3551.122     -0.402      0.688   -8434.026    5579.297\n",
      "sma2        4724.3090   5371.595      0.879      0.380   -5874.300    1.53e+04\n",
      "sma5        5482.2576   9159.572      0.599      0.550   -1.26e+04    2.36e+04\n",
      "sma10       5798.4233   1.47e+04      0.394      0.694   -2.33e+04    3.49e+04\n",
      "sma20       1.049e+04   9065.998      1.157      0.249   -7395.729    2.84e+04\n",
      "ema12      -2.134e+04   3.97e+04     -0.538      0.591   -9.96e+04    5.69e+04\n",
      "ema26      -2201.0966   5413.856     -0.407      0.685   -1.29e+04    8480.897\n",
      "sma2_diff   9.249e+04   1.08e+05      0.856      0.393   -1.21e+05    3.06e+05\n",
      "sma5_diff   1.331e+05   1.87e+05      0.713      0.477   -2.35e+05    5.01e+05\n",
      "sma10_diff   1.52e+05   3.08e+05      0.494      0.622   -4.55e+05    7.59e+05\n",
      "sma20_diff  2.497e+05   2.01e+05      1.241      0.216   -1.47e+05    6.47e+05\n",
      "ema12_diff -5.459e+05   8.54e+05     -0.640      0.523   -2.23e+06    1.14e+06\n",
      "ema26_diff -3.872e+04   1.28e+05     -0.302      0.763   -2.92e+05    2.14e+05\n",
      "==============================================================================\n",
      "Omnibus:                        3.872   Durbin-Watson:                   1.992\n",
      "Prob(Omnibus):                  0.144   Jarque-Bera (JB):                4.411\n",
      "Skew:                           0.114   Prob(JB):                        0.110\n",
      "Kurtosis:                       3.698   Cond. No.                     1.88e+05\n",
      "==============================================================================\n",
      "\n",
      "Notes:\n",
      "[1] Standard Errors assume that the covariance matrix of the errors is correctly specified.\n",
      "[2] The condition number is large, 1.88e+05. This might indicate that there are\n",
      "strong multicollinearity or other numerical problems.\n"
     ]
    }
   ],
   "source": [
    "print(results.summary())"
   ]
  },
  {
   "cell_type": "markdown",
   "id": "21cae6ab",
   "metadata": {
    "papermill": {
     "duration": 0.109426,
     "end_time": "2021-12-04T19:16:04.560310",
     "exception": false,
     "start_time": "2021-12-04T19:16:04.450884",
     "status": "completed"
    },
    "tags": []
   },
   "source": [
    "### Drop label col"
   ]
  },
  {
   "cell_type": "code",
   "execution_count": 30,
   "id": "ccf00efe",
   "metadata": {
    "execution": {
     "iopub.execute_input": "2021-12-04T19:16:04.774791Z",
     "iopub.status.busy": "2021-12-04T19:16:04.773832Z",
     "iopub.status.idle": "2021-12-04T19:16:04.860014Z",
     "shell.execute_reply": "2021-12-04T19:16:04.858971Z"
    },
    "papermill": {
     "duration": 0.202814,
     "end_time": "2021-12-04T19:16:04.860014",
     "exception": false,
     "start_time": "2021-12-04T19:16:04.657200",
     "status": "completed"
    },
    "tags": []
   },
   "outputs": [],
   "source": [
    "train.drop(columns=['adj_close'], inplace=True)\n",
    "val.drop(columns=['adj_close'], inplace=True)"
   ]
  },
  {
   "cell_type": "markdown",
   "id": "2a6b83ef",
   "metadata": {
    "papermill": {
     "duration": 0.103949,
     "end_time": "2021-12-04T19:16:05.068513",
     "exception": false,
     "start_time": "2021-12-04T19:16:04.964564",
     "status": "completed"
    },
    "tags": []
   },
   "source": [
    "### Logistic Regression Coefficients"
   ]
  },
  {
   "cell_type": "code",
   "execution_count": 31,
   "id": "0bd666c2",
   "metadata": {
    "execution": {
     "iopub.execute_input": "2021-12-04T19:16:05.283512Z",
     "iopub.status.busy": "2021-12-04T19:16:05.282468Z",
     "iopub.status.idle": "2021-12-04T19:16:05.368506Z",
     "shell.execute_reply": "2021-12-04T19:16:05.368506Z"
    },
    "papermill": {
     "duration": 0.191041,
     "end_time": "2021-12-04T19:16:05.369509",
     "exception": false,
     "start_time": "2021-12-04T19:16:05.178468",
     "status": "completed"
    },
    "tags": []
   },
   "outputs": [],
   "source": [
    "y = train['label'].values\n",
    "X = train.drop(columns=['label'])"
   ]
  },
  {
   "cell_type": "code",
   "execution_count": 32,
   "id": "03b92ced",
   "metadata": {
    "execution": {
     "iopub.execute_input": "2021-12-04T19:16:05.577514Z",
     "iopub.status.busy": "2021-12-04T19:16:05.577514Z",
     "iopub.status.idle": "2021-12-04T19:16:05.665516Z",
     "shell.execute_reply": "2021-12-04T19:16:05.664512Z"
    },
    "papermill": {
     "duration": 0.193986,
     "end_time": "2021-12-04T19:16:05.666511",
     "exception": false,
     "start_time": "2021-12-04T19:16:05.472525",
     "status": "completed"
    },
    "tags": []
   },
   "outputs": [],
   "source": [
    "X = add_constant(X)"
   ]
  },
  {
   "cell_type": "code",
   "execution_count": 33,
   "id": "f3ad86d1",
   "metadata": {
    "execution": {
     "iopub.execute_input": "2021-12-04T19:16:05.877883Z",
     "iopub.status.busy": "2021-12-04T19:16:05.877883Z",
     "iopub.status.idle": "2021-12-04T19:16:05.968926Z",
     "shell.execute_reply": "2021-12-04T19:16:05.967925Z"
    },
    "papermill": {
     "duration": 0.197017,
     "end_time": "2021-12-04T19:16:05.968926",
     "exception": false,
     "start_time": "2021-12-04T19:16:05.771909",
     "status": "completed"
    },
    "tags": []
   },
   "outputs": [],
   "source": [
    "logit = sm.Logit(y, X)"
   ]
  },
  {
   "cell_type": "code",
   "execution_count": 34,
   "id": "9c008841",
   "metadata": {
    "execution": {
     "iopub.execute_input": "2021-12-04T19:16:06.182073Z",
     "iopub.status.busy": "2021-12-04T19:16:06.182073Z",
     "iopub.status.idle": "2021-12-04T19:16:06.275847Z",
     "shell.execute_reply": "2021-12-04T19:16:06.275847Z"
    },
    "papermill": {
     "duration": 0.199784,
     "end_time": "2021-12-04T19:16:06.275847",
     "exception": false,
     "start_time": "2021-12-04T19:16:06.076063",
     "status": "completed"
    },
    "tags": []
   },
   "outputs": [
    {
     "name": "stdout",
     "output_type": "stream",
     "text": [
      "Warning: Maximum number of iterations has been exceeded.\n",
      "         Current function value: 6.563392\n",
      "         Iterations: 35\n",
      "                           Logit Regression Results                           \n",
      "==============================================================================\n",
      "Dep. Variable:                      y   No. Observations:                  196\n",
      "Model:                          Logit   Df Residuals:                      182\n",
      "Method:                           MLE   Df Model:                           13\n",
      "Date:                Sun, 05 Dec 2021   Pseudo R-squ.:                  -8.573\n",
      "Time:                        00:46:06   Log-Likelihood:                -1286.4\n",
      "converged:                      False   LL-Null:                       -134.38\n",
      "Covariance Type:            nonrobust   LLR p-value:                     1.000\n",
      "==============================================================================\n",
      "                 coef    std err          z      P>|z|      [0.025      0.975]\n",
      "------------------------------------------------------------------------------\n",
      "const         81.6258     19.414      4.204      0.000      43.574     119.677\n",
      "prev       -2489.7887    583.875     -4.264      0.000   -3634.163   -1345.414\n",
      "sma2       -4468.2003   1032.337     -4.328      0.000   -6491.543   -2444.857\n",
      "sma5       -1.192e+04   2742.080     -4.348      0.000   -1.73e+04   -6549.289\n",
      "sma10      -2.203e+04   5039.091     -4.371      0.000   -3.19e+04   -1.21e+04\n",
      "sma20      -1.256e+04   2870.457     -4.375      0.000   -1.82e+04   -6933.432\n",
      "ema12       5.981e+04   1.37e+04      4.367      0.000     3.3e+04    8.67e+04\n",
      "ema26      -6881.0916   1586.789     -4.336      0.000   -9991.141   -3771.042\n",
      "sma2_diff  -8.903e+04   2.05e+04     -4.341      0.000   -1.29e+05   -4.88e+04\n",
      "sma5_diff  -2.392e+05   5.49e+04     -4.356      0.000   -3.47e+05   -1.32e+05\n",
      "sma10_diff -4.523e+05   1.03e+05     -4.379      0.000   -6.55e+05    -2.5e+05\n",
      "sma20_diff -2.748e+05   6.27e+04     -4.384      0.000   -3.98e+05   -1.52e+05\n",
      "ema12_diff  1.265e+06   2.89e+05      4.375      0.000    6.98e+05    1.83e+06\n",
      "ema26_diff -1.608e+05    3.7e+04     -4.344      0.000   -2.33e+05   -8.82e+04\n",
      "==============================================================================\n",
      "\n",
      "Possibly complete quasi-separation: A fraction 0.25 of observations can be\n",
      "perfectly predicted. This might indicate that there is complete\n",
      "quasi-separation. In this case some parameters will not be identified.\n"
     ]
    },
    {
     "name": "stderr",
     "output_type": "stream",
     "text": [
      "D:\\Softwares\\miniconda3\\envs\\mlops\\lib\\site-packages\\statsmodels\\base\\model.py:604: ConvergenceWarning: Maximum Likelihood optimization failed to converge. Check mle_retvals\n",
      "  warnings.warn(\"Maximum Likelihood optimization failed to \"\n"
     ]
    }
   ],
   "source": [
    "result = logit.fit()\n",
    "print(result.summary())"
   ]
  },
  {
   "cell_type": "markdown",
   "id": "35cf9603",
   "metadata": {
    "papermill": {
     "duration": 0.099146,
     "end_time": "2021-12-04T19:16:06.507663",
     "exception": false,
     "start_time": "2021-12-04T19:16:06.408517",
     "status": "completed"
    },
    "tags": []
   },
   "source": [
    "### Train some basic models"
   ]
  },
  {
   "cell_type": "code",
   "execution_count": 35,
   "id": "31f555f8",
   "metadata": {
    "execution": {
     "iopub.execute_input": "2021-12-04T19:16:06.722867Z",
     "iopub.status.busy": "2021-12-04T19:16:06.722867Z",
     "iopub.status.idle": "2021-12-04T19:16:06.809021Z",
     "shell.execute_reply": "2021-12-04T19:16:06.809021Z"
    },
    "papermill": {
     "duration": 0.184483,
     "end_time": "2021-12-04T19:16:06.809021",
     "exception": false,
     "start_time": "2021-12-04T19:16:06.624538",
     "status": "completed"
    },
    "tags": []
   },
   "outputs": [],
   "source": [
    "y_train = train['label'].values\n",
    "X_train = train.drop(columns='label').values\n",
    "\n",
    "y_val = val['label'].values\n",
    "X_val = val.drop(columns='label').values"
   ]
  },
  {
   "cell_type": "code",
   "execution_count": 36,
   "id": "2a6bbd2c",
   "metadata": {
    "execution": {
     "iopub.execute_input": "2021-12-04T19:16:07.033670Z",
     "iopub.status.busy": "2021-12-04T19:16:07.032669Z",
     "iopub.status.idle": "2021-12-04T19:16:07.682050Z",
     "shell.execute_reply": "2021-12-04T19:16:07.681049Z"
    },
    "papermill": {
     "duration": 0.758899,
     "end_time": "2021-12-04T19:16:07.682050",
     "exception": false,
     "start_time": "2021-12-04T19:16:06.923151",
     "status": "completed"
    },
    "tags": []
   },
   "outputs": [
    {
     "name": "stdout",
     "output_type": "stream",
     "text": [
      "[05/Dec/2021 00:46:07] INFO - AUC: 0.354 | Recall: 0.000 | Precision: 0.000 | F1: 0.000\n"
     ]
    },
    {
     "name": "stdout",
     "output_type": "stream",
     "text": [
      "[05/Dec/2021 00:46:07] INFO - ROC curve saved to: ../artifact_dir/plots/roc_curve_Logistic Regression (auc = 0.35).png\n"
     ]
    },
    {
     "name": "stdout",
     "output_type": "stream",
     "text": [
      "[05/Dec/2021 00:46:07] INFO - Precision-recall curve saved to: ../artifact_dir/plots/precision_recall_Logistic Regression (prec = 0.00, recall = 0.00).png\n"
     ]
    },
    {
     "name": "stdout",
     "output_type": "stream",
     "text": [
      "[05/Dec/2021 00:46:07] INFO - Model saved to: ../artifact_dir/models/Logistic Regression.pickle\n"
     ]
    },
    {
     "data": {
      "image/png": "[encoded data removed]",
      "text/plain": [
       "<Figure size 360x360 with 1 Axes>"
      ]
     },
     "metadata": {
      "needs_background": "light"
     },
     "output_type": "display_data"
    },
    {
     "data": {
      "image/png": "[encoded data removed]",
      "text/plain": [
       "<Figure size 1080x360 with 1 Axes>"
      ]
     },
     "metadata": {
      "needs_background": "light"
     },
     "output_type": "display_data"
    }
   ],
   "source": [
    "# Logistic regression\n",
    "model_name = 'Logistic Regression'\n",
    "model = LogisticRegression(fit_intercept=False).fit(X_train, y_train)\n",
    "pred = model.predict_proba(X_val)[:, 1]\n",
    "log_mlflow(run_params, model, model_name, y_val, pred)"
   ]
  },
  {
   "cell_type": "code",
   "execution_count": 37,
   "id": "4d97f969",
   "metadata": {
    "execution": {
     "iopub.execute_input": "2021-12-04T19:16:07.940329Z",
     "iopub.status.busy": "2021-12-04T19:16:07.940329Z",
     "iopub.status.idle": "2021-12-04T19:16:08.584536Z",
     "shell.execute_reply": "2021-12-04T19:16:08.584536Z"
    },
    "papermill": {
     "duration": 0.771163,
     "end_time": "2021-12-04T19:16:08.584536",
     "exception": false,
     "start_time": "2021-12-04T19:16:07.813373",
     "status": "completed"
    },
    "tags": []
   },
   "outputs": [
    {
     "name": "stdout",
     "output_type": "stream",
     "text": [
      "[05/Dec/2021 00:46:08] INFO - AUC: 0.229 | Recall: 1.000 | Precision: 0.400 | F1: 0.571\n"
     ]
    },
    {
     "name": "stdout",
     "output_type": "stream",
     "text": [
      "[05/Dec/2021 00:46:08] INFO - ROC curve saved to: ../artifact_dir/plots/roc_curve_Support Vector Classifier (auc = 0.23).png\n"
     ]
    },
    {
     "name": "stdout",
     "output_type": "stream",
     "text": [
      "[05/Dec/2021 00:46:08] INFO - Precision-recall curve saved to: ../artifact_dir/plots/precision_recall_Support Vector Classifier (prec = 0.40, recall = 1.00).png\n"
     ]
    },
    {
     "name": "stdout",
     "output_type": "stream",
     "text": [
      "[05/Dec/2021 00:46:08] INFO - Model saved to: ../artifact_dir/models/Support Vector Classifier.pickle\n"
     ]
    },
    {
     "data": {
      "image/png": "[encoded data removed]",
      "text/plain": [
       "<Figure size 360x360 with 1 Axes>"
      ]
     },
     "metadata": {
      "needs_background": "light"
     },
     "output_type": "display_data"
    },
    {
     "data": {
      "image/png": "[encoded data removed]",
      "text/plain": [
       "<Figure size 1080x360 with 1 Axes>"
      ]
     },
     "metadata": {
      "needs_background": "light"
     },
     "output_type": "display_data"
    }
   ],
   "source": [
    "# Support vector classifier\n",
    "model_name = 'Support Vector Classifier'\n",
    "model = SVC(gamma=2, C=1, probability=True).fit(X_train, y_train)\n",
    "pred = model.predict_proba(X_val)[:, 1]\n",
    "log_mlflow(run_params, model, model_name, y_val, pred)"
   ]
  },
  {
   "cell_type": "code",
   "execution_count": 38,
   "id": "e678fa48",
   "metadata": {
    "execution": {
     "iopub.execute_input": "2021-12-04T19:16:08.901518Z",
     "iopub.status.busy": "2021-12-04T19:16:08.900518Z",
     "iopub.status.idle": "2021-12-04T19:16:09.457973Z",
     "shell.execute_reply": "2021-12-04T19:16:09.457973Z"
    },
    "papermill": {
     "duration": 0.737481,
     "end_time": "2021-12-04T19:16:09.457973",
     "exception": false,
     "start_time": "2021-12-04T19:16:08.720492",
     "status": "completed"
    },
    "tags": []
   },
   "outputs": [
    {
     "name": "stdout",
     "output_type": "stream",
     "text": [
      "[05/Dec/2021 00:46:08] INFO - AUC: 0.448 | Recall: 0.625 | Precision: 0.333 | F1: 0.435\n"
     ]
    },
    {
     "name": "stdout",
     "output_type": "stream",
     "text": [
      "[05/Dec/2021 00:46:09] INFO - ROC curve saved to: ../artifact_dir/plots/roc_curve_K-nearest Neighbours (auc = 0.45).png\n"
     ]
    },
    {
     "name": "stdout",
     "output_type": "stream",
     "text": [
      "[05/Dec/2021 00:46:09] INFO - Precision-recall curve saved to: ../artifact_dir/plots/precision_recall_K-nearest Neighbours (prec = 0.33, recall = 0.62).png\n"
     ]
    },
    {
     "name": "stdout",
     "output_type": "stream",
     "text": [
      "[05/Dec/2021 00:46:09] INFO - Model saved to: ../artifact_dir/models/K-nearest Neighbours.pickle\n"
     ]
    },
    {
     "data": {
      "image/png": "[encoded data removed]",
      "text/plain": [
       "<Figure size 360x360 with 1 Axes>"
      ]
     },
     "metadata": {
      "needs_background": "light"
     },
     "output_type": "display_data"
    },
    {
     "data": {
      "image/png": "[encoded data removed]",
      "text/plain": [
       "<Figure size 1080x360 with 1 Axes>"
      ]
     },
     "metadata": {
      "needs_background": "light"
     },
     "output_type": "display_data"
    }
   ],
   "source": [
    "# K-neighbours\n",
    "model_name = 'K-nearest Neighbours'\n",
    "model = KNeighborsClassifier(5).fit(X_train, y_train)\n",
    "pred = model.predict_proba(X_val)[:, 1]\n",
    "log_mlflow(run_params, model, model_name, y_val, pred)"
   ]
  },
  {
   "cell_type": "code",
   "execution_count": 39,
   "id": "72549981",
   "metadata": {
    "execution": {
     "iopub.execute_input": "2021-12-04T19:16:09.777775Z",
     "iopub.status.busy": "2021-12-04T19:16:09.777775Z",
     "iopub.status.idle": "2021-12-04T19:16:10.823792Z",
     "shell.execute_reply": "2021-12-04T19:16:10.822747Z"
    },
    "papermill": {
     "duration": 1.205104,
     "end_time": "2021-12-04T19:16:10.823792",
     "exception": false,
     "start_time": "2021-12-04T19:16:09.618688",
     "status": "completed"
    },
    "tags": []
   },
   "outputs": [
    {
     "name": "stdout",
     "output_type": "stream",
     "text": [
      "[05/Dec/2021 00:46:09] INFO - AUC: 0.635 | Recall: 0.375 | Precision: 0.750 | F1: 0.500\n"
     ]
    },
    {
     "name": "stdout",
     "output_type": "stream",
     "text": [
      "[05/Dec/2021 00:46:10] INFO - ROC curve saved to: ../artifact_dir/plots/roc_curve_Gradient Boosting Machine (auc = 0.64).png\n"
     ]
    },
    {
     "name": "stdout",
     "output_type": "stream",
     "text": [
      "[05/Dec/2021 00:46:10] INFO - Precision-recall curve saved to: ../artifact_dir/plots/precision_recall_Gradient Boosting Machine (prec = 0.75, recall = 0.38).png\n"
     ]
    },
    {
     "name": "stdout",
     "output_type": "stream",
     "text": [
      "[05/Dec/2021 00:46:10] INFO - Model saved to: ../artifact_dir/models/Gradient Boosting Machine.pickle\n"
     ]
    },
    {
     "data": {
      "image/png": "[encoded data removed]",
      "text/plain": [
       "<Figure size 360x360 with 1 Axes>"
      ]
     },
     "metadata": {
      "needs_background": "light"
     },
     "output_type": "display_data"
    },
    {
     "data": {
      "image/png": "[encoded data removed]",
      "text/plain": [
       "<Figure size 1080x360 with 1 Axes>"
      ]
     },
     "metadata": {
      "needs_background": "light"
     },
     "output_type": "display_data"
    }
   ],
   "source": [
    "# Gradient Boosting\n",
    "model_name = 'Gradient Boosting Machine'\n",
    "model = GradientBoostingClassifier().fit(X_train, y_train)\n",
    "pred = model.predict_proba(X_val)[:, 1]\n",
    "log_mlflow(run_params, model, model_name, y_val, pred)"
   ]
  },
  {
   "cell_type": "code",
   "execution_count": 40,
   "id": "829c2ef3",
   "metadata": {
    "execution": {
     "iopub.execute_input": "2021-12-04T19:16:11.224409Z",
     "iopub.status.busy": "2021-12-04T19:16:11.223408Z",
     "iopub.status.idle": "2021-12-04T19:16:12.146322Z",
     "shell.execute_reply": "2021-12-04T19:16:12.147322Z"
    },
    "papermill": {
     "duration": 1.134459,
     "end_time": "2021-12-04T19:16:12.147322",
     "exception": false,
     "start_time": "2021-12-04T19:16:11.012863",
     "status": "completed"
    },
    "tags": []
   },
   "outputs": [
    {
     "name": "stdout",
     "output_type": "stream",
     "text": [
      "[05/Dec/2021 00:46:11] INFO - AUC: 0.505 | Recall: 0.500 | Precision: 0.500 | F1: 0.500\n"
     ]
    },
    {
     "name": "stdout",
     "output_type": "stream",
     "text": [
      "[05/Dec/2021 00:46:11] INFO - ROC curve saved to: ../artifact_dir/plots/roc_curve_Extra Trees (auc = 0.51).png\n"
     ]
    },
    {
     "name": "stdout",
     "output_type": "stream",
     "text": [
      "[05/Dec/2021 00:46:11] INFO - Precision-recall curve saved to: ../artifact_dir/plots/precision_recall_Extra Trees (prec = 0.50, recall = 0.50).png\n"
     ]
    },
    {
     "name": "stdout",
     "output_type": "stream",
     "text": [
      "[05/Dec/2021 00:46:11] INFO - Model saved to: ../artifact_dir/models/Extra Trees.pickle\n"
     ]
    },
    {
     "data": {
      "image/png": "[encoded data removed]",
      "text/plain": [
       "<Figure size 360x360 with 1 Axes>"
      ]
     },
     "metadata": {
      "needs_background": "light"
     },
     "output_type": "display_data"
    },
    {
     "data": {
      "image/png": "[encoded data removed]",
      "text/plain": [
       "<Figure size 1080x360 with 1 Axes>"
      ]
     },
     "metadata": {
      "needs_background": "light"
     },
     "output_type": "display_data"
    }
   ],
   "source": [
    "# Bagged trees\n",
    "model_name = 'Extra Trees'\n",
    "model = ExtraTreesClassifier().fit(X_train, y_train)\n",
    "pred = model.predict_proba(X_val)[:, 1]\n",
    "log_mlflow(run_params, model, model_name, y_val, pred)"
   ]
  },
  {
   "cell_type": "markdown",
   "id": "dedeab56",
   "metadata": {
    "papermill": {
     "duration": 0.165427,
     "end_time": "2021-12-04T19:16:12.542575",
     "exception": false,
     "start_time": "2021-12-04T19:16:12.377148",
     "status": "completed"
    },
    "tags": []
   },
   "source": [
    "### Test loading model"
   ]
  },
  {
   "cell_type": "code",
   "execution_count": 41,
   "id": "0ec1833f",
   "metadata": {
    "execution": {
     "iopub.execute_input": "2021-12-04T19:16:12.909251Z",
     "iopub.status.busy": "2021-12-04T19:16:12.908251Z",
     "iopub.status.idle": "2021-12-04T19:16:13.005273Z",
     "shell.execute_reply": "2021-12-04T19:16:13.005273Z"
    },
    "papermill": {
     "duration": 0.284675,
     "end_time": "2021-12-04T19:16:13.006274",
     "exception": false,
     "start_time": "2021-12-04T19:16:12.721599",
     "status": "completed"
    },
    "tags": []
   },
   "outputs": [],
   "source": [
    "model_name = 'Support Vector Classifier'\n",
    "check_model = load('{}/models/{}.pickle'.format(ARTIFACT_DIR, model_name))"
   ]
  },
  {
   "cell_type": "code",
   "execution_count": 42,
   "id": "85ee0cfc",
   "metadata": {
    "execution": {
     "iopub.execute_input": "2021-12-04T19:16:13.402274Z",
     "iopub.status.busy": "2021-12-04T19:16:13.401275Z",
     "iopub.status.idle": "2021-12-04T19:16:13.517534Z",
     "shell.execute_reply": "2021-12-04T19:16:13.517534Z"
    },
    "papermill": {
     "duration": 0.330259,
     "end_time": "2021-12-04T19:16:13.517534",
     "exception": false,
     "start_time": "2021-12-04T19:16:13.187275",
     "status": "completed"
    },
    "tags": []
   },
   "outputs": [
    {
     "data": {
      "text/plain": [
       "SVC(C=1, gamma=2, probability=True)"
      ]
     },
     "execution_count": 42,
     "metadata": {},
     "output_type": "execute_result"
    }
   ],
   "source": [
    "check_model"
   ]
  },
  {
   "cell_type": "code",
   "execution_count": 43,
   "id": "31d3c624",
   "metadata": {
    "execution": {
     "iopub.execute_input": "2021-12-04T19:16:13.897453Z",
     "iopub.status.busy": "2021-12-04T19:16:13.896405Z",
     "iopub.status.idle": "2021-12-04T19:16:13.986970Z",
     "shell.execute_reply": "2021-12-04T19:16:13.986970Z"
    },
    "papermill": {
     "duration": 0.260026,
     "end_time": "2021-12-04T19:16:13.986970",
     "exception": false,
     "start_time": "2021-12-04T19:16:13.726944",
     "status": "completed"
    },
    "tags": []
   },
   "outputs": [],
   "source": [
    "pred = check_model.predict_proba(X_val)[:, 1]"
   ]
  },
  {
   "cell_type": "code",
   "execution_count": 44,
   "id": "dd8a5064",
   "metadata": {
    "execution": {
     "iopub.execute_input": "2021-12-04T19:16:14.303970Z",
     "iopub.status.busy": "2021-12-04T19:16:14.303970Z",
     "iopub.status.idle": "2021-12-04T19:16:14.400970Z",
     "shell.execute_reply": "2021-12-04T19:16:14.399970Z"
    },
    "papermill": {
     "duration": 0.257999,
     "end_time": "2021-12-04T19:16:14.400970",
     "exception": false,
     "start_time": "2021-12-04T19:16:14.142971",
     "status": "completed"
    },
    "tags": []
   },
   "outputs": [
    {
     "name": "stdout",
     "output_type": "stream",
     "text": [
      "[05/Dec/2021 00:46:14] INFO - AUC: 0.229 | Recall: 1.000 | Precision: 0.400 | F1: 0.571\n"
     ]
    },
    {
     "data": {
      "text/plain": [
       "(0.22916666666666669, 1.0, 0.4, 0.5714285714285715)"
      ]
     },
     "execution_count": 44,
     "metadata": {},
     "output_type": "execute_result"
    }
   ],
   "source": [
    "evaluate_binary(y_val, pred)"
   ]
  },
  {
   "cell_type": "code",
   "execution_count": null,
   "id": "56ba66cd",
   "metadata": {
    "papermill": {
     "duration": 0.143096,
     "end_time": "2021-12-04T19:16:14.699065",
     "exception": false,
     "start_time": "2021-12-04T19:16:14.555969",
     "status": "completed"
    },
    "tags": []
   },
   "outputs": [],
   "source": []
  }
 ],
 "metadata": {
  "celltoolbar": "Tags",
  "interpreter": {
   "hash": "59e91c191c97324b2a36152b56cdd66e3729b4be830ea7b7f3cc1c1764fb3478"
  },
  "kernelspec": {
   "display_name": "Python 3",
   "language": "python",
   "name": "python3"
  },
  "language_info": {
   "codemirror_mode": {
    "name": "ipython",
    "version": 3
   },
   "file_extension": ".py",
   "mimetype": "text/x-python",
   "name": "python",
   "nbconvert_exporter": "python",
   "pygments_lexer": "ipython3",
   "version": "3.8.12"
  },
  "papermill": {
   "default_parameters": {},
   "duration": 25.676362,
   "end_time": "2021-12-04T19:16:15.285196",
   "environment_variables": {},
   "exception": null,
   "input_path": "basic.ipynb",
   "output_path": "../artifact_dir/notebooks/basic_NIKKEI.ipynb",
   "parameters": {
    "INDEX": "NIKKEI"
   },
   "start_time": "2021-12-04T19:15:49.608834",
   "version": "2.3.3"
  }
 },
 "nbformat": 4,
 "nbformat_minor": 5
}