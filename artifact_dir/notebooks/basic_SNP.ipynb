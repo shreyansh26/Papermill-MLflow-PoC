{
 "cells": [
  {
   "cell_type": "code",
   "execution_count": 1,
   "id": "30671893",
   "metadata": {
    "execution": {
     "iopub.execute_input": "2021-12-04T19:14:02.618616Z",
     "iopub.status.busy": "2021-12-04T19:14:02.618616Z",
     "iopub.status.idle": "2021-12-04T19:14:02.681659Z",
     "shell.execute_reply": "2021-12-04T19:14:02.680658Z"
    },
    "papermill": {
     "duration": 0.237037,
     "end_time": "2021-12-04T19:14:02.681659",
     "exception": false,
     "start_time": "2021-12-04T19:14:02.444622",
     "status": "completed"
    },
    "tags": []
   },
   "outputs": [],
   "source": [
    "%load_ext autoreload\n",
    "%autoreload 2"
   ]
  },
  {
   "cell_type": "code",
   "execution_count": 2,
   "id": "aa73f25c",
   "metadata": {
    "execution": {
     "iopub.execute_input": "2021-12-04T19:14:02.987656Z",
     "iopub.status.busy": "2021-12-04T19:14:02.987656Z",
     "iopub.status.idle": "2021-12-04T19:14:06.831792Z",
     "shell.execute_reply": "2021-12-04T19:14:06.832793Z"
    },
    "papermill": {
     "duration": 4.000175,
     "end_time": "2021-12-04T19:14:06.832793",
     "exception": false,
     "start_time": "2021-12-04T19:14:02.832618",
     "status": "completed"
    },
    "tags": []
   },
   "outputs": [],
   "source": [
    "import pandas as pd\n",
    "import matplotlib.pyplot as plt\n",
    "import statsmodels.api as sm\n",
    "import statsmodels.formula.api as smf\n",
    "from statsmodels.tools.tools import add_constant\n",
    "from sklearn.preprocessing import StandardScaler\n",
    "from sklearn.linear_model import LogisticRegression\n",
    "from sklearn.svm import SVC\n",
    "from sklearn.neighbors import KNeighborsClassifier\n",
    "from sklearn.ensemble import GradientBoostingClassifier, ExtraTreesClassifier\n",
    "from joblib import load\n",
    "\n",
    "from config import EXPERIMENT, RUN_NAME, ARTIFACT_DIR\n",
    "from logger import logger\n",
    "from mlflow_utils import evaluate_binary, log_mlflow"
   ]
  },
  {
   "cell_type": "code",
   "execution_count": 3,
   "id": "449d5680",
   "metadata": {
    "execution": {
     "iopub.execute_input": "2021-12-04T19:14:07.144860Z",
     "iopub.status.busy": "2021-12-04T19:14:07.143853Z",
     "iopub.status.idle": "2021-12-04T19:14:07.269861Z",
     "shell.execute_reply": "2021-12-04T19:14:07.268858Z"
    },
    "papermill": {
     "duration": 0.287038,
     "end_time": "2021-12-04T19:14:07.269861",
     "exception": false,
     "start_time": "2021-12-04T19:14:06.982823",
     "status": "completed"
    },
    "tags": [
     "parameters"
    ]
   },
   "outputs": [],
   "source": [
    "# Tag this cell as 'parameters'\n",
    "INDEX = 'SNP'"
   ]
  },
  {
   "cell_type": "code",
   "execution_count": 4,
   "id": "272b136a",
   "metadata": {
    "execution": {
     "iopub.execute_input": "2021-12-04T19:14:07.569886Z",
     "iopub.status.busy": "2021-12-04T19:14:07.568889Z",
     "iopub.status.idle": "2021-12-04T19:14:07.691412Z",
     "shell.execute_reply": "2021-12-04T19:14:07.692423Z"
    },
    "papermill": {
     "duration": 0.274536,
     "end_time": "2021-12-04T19:14:07.692423",
     "exception": false,
     "start_time": "2021-12-04T19:14:07.417887",
     "status": "completed"
    },
    "tags": [
     "injected-parameters"
    ]
   },
   "outputs": [],
   "source": [
    "# Parameters\n",
    "INDEX = \"SNP\"\n"
   ]
  },
  {
   "cell_type": "code",
   "execution_count": 5,
   "id": "50d37d2e",
   "metadata": {
    "execution": {
     "iopub.execute_input": "2021-12-04T19:14:07.995380Z",
     "iopub.status.busy": "2021-12-04T19:14:07.994381Z",
     "iopub.status.idle": "2021-12-04T19:14:08.119385Z",
     "shell.execute_reply": "2021-12-04T19:14:08.118385Z"
    },
    "papermill": {
     "duration": 0.279006,
     "end_time": "2021-12-04T19:14:08.119385",
     "exception": false,
     "start_time": "2021-12-04T19:14:07.840379",
     "status": "completed"
    },
    "tags": []
   },
   "outputs": [],
   "source": [
    "# Wrap all this is a parameter dict\n",
    "run_params = {'experiment': EXPERIMENT,\n",
    "              'iteration': RUN_NAME,\n",
    "              'index': INDEX,\n",
    "              'artifact_dir': ARTIFACT_DIR}"
   ]
  },
  {
   "cell_type": "markdown",
   "id": "6e829211",
   "metadata": {
    "papermill": {
     "duration": 0.154,
     "end_time": "2021-12-04T19:14:08.431383",
     "exception": false,
     "start_time": "2021-12-04T19:14:08.277383",
     "status": "completed"
    },
    "tags": []
   },
   "source": [
    "### Import data"
   ]
  },
  {
   "cell_type": "code",
   "execution_count": 6,
   "id": "ed38fc2c",
   "metadata": {
    "execution": {
     "iopub.execute_input": "2021-12-04T19:14:08.753133Z",
     "iopub.status.busy": "2021-12-04T19:14:08.752134Z",
     "iopub.status.idle": "2021-12-04T19:14:08.875133Z",
     "shell.execute_reply": "2021-12-04T19:14:08.874133Z"
    },
    "papermill": {
     "duration": 0.290005,
     "end_time": "2021-12-04T19:14:08.875133",
     "exception": false,
     "start_time": "2021-12-04T19:14:08.585128",
     "status": "completed"
    },
    "tags": []
   },
   "outputs": [],
   "source": [
    "df = pd.read_csv('../datadir/{}.csv'.format(INDEX))"
   ]
  },
  {
   "cell_type": "markdown",
   "id": "392d6d53",
   "metadata": {
    "papermill": {
     "duration": 0.147859,
     "end_time": "2021-12-04T19:14:09.183988",
     "exception": false,
     "start_time": "2021-12-04T19:14:09.036129",
     "status": "completed"
    },
    "tags": []
   },
   "source": [
    "### Data prep"
   ]
  },
  {
   "cell_type": "code",
   "execution_count": 7,
   "id": "de307f87",
   "metadata": {
    "execution": {
     "iopub.execute_input": "2021-12-04T19:14:09.538016Z",
     "iopub.status.busy": "2021-12-04T19:14:09.537010Z",
     "iopub.status.idle": "2021-12-04T19:14:09.671012Z",
     "shell.execute_reply": "2021-12-04T19:14:09.670010Z"
    },
    "papermill": {
     "duration": 0.33405,
     "end_time": "2021-12-04T19:14:09.671012",
     "exception": false,
     "start_time": "2021-12-04T19:14:09.336962",
     "status": "completed"
    },
    "tags": []
   },
   "outputs": [],
   "source": [
    "df.columns = [col.lower().replace(' ', '_') for col in df.columns]"
   ]
  },
  {
   "cell_type": "code",
   "execution_count": 8,
   "id": "43106b39",
   "metadata": {
    "execution": {
     "iopub.execute_input": "2021-12-04T19:14:10.023656Z",
     "iopub.status.busy": "2021-12-04T19:14:10.022657Z",
     "iopub.status.idle": "2021-12-04T19:14:10.171005Z",
     "shell.execute_reply": "2021-12-04T19:14:10.170005Z"
    },
    "papermill": {
     "duration": 0.333348,
     "end_time": "2021-12-04T19:14:10.171005",
     "exception": false,
     "start_time": "2021-12-04T19:14:09.837657",
     "status": "completed"
    },
    "tags": []
   },
   "outputs": [],
   "source": [
    "df.sort_values(by='date', ascending=True, inplace=True)  # Have to sort ascending for rolling to work correctly"
   ]
  },
  {
   "cell_type": "markdown",
   "id": "ff348990",
   "metadata": {
    "papermill": {
     "duration": 0.173167,
     "end_time": "2021-12-04T19:14:10.498167",
     "exception": false,
     "start_time": "2021-12-04T19:14:10.325000",
     "status": "completed"
    },
    "tags": []
   },
   "source": [
    "### Create basic features"
   ]
  },
  {
   "cell_type": "code",
   "execution_count": 9,
   "id": "38486941",
   "metadata": {
    "execution": {
     "iopub.execute_input": "2021-12-04T19:14:10.866212Z",
     "iopub.status.busy": "2021-12-04T19:14:10.866212Z",
     "iopub.status.idle": "2021-12-04T19:14:11.008211Z",
     "shell.execute_reply": "2021-12-04T19:14:11.007214Z"
    },
    "papermill": {
     "duration": 0.323002,
     "end_time": "2021-12-04T19:14:11.008211",
     "exception": false,
     "start_time": "2021-12-04T19:14:10.685209",
     "status": "completed"
    },
    "tags": []
   },
   "outputs": [],
   "source": [
    "df = df[['date', 'open', 'adj_close']].copy()"
   ]
  },
  {
   "cell_type": "code",
   "execution_count": 10,
   "id": "876823e4",
   "metadata": {
    "execution": {
     "iopub.execute_input": "2021-12-04T19:14:11.351214Z",
     "iopub.status.busy": "2021-12-04T19:14:11.350215Z",
     "iopub.status.idle": "2021-12-04T19:14:11.484211Z",
     "shell.execute_reply": "2021-12-04T19:14:11.484211Z"
    },
    "papermill": {
     "duration": 0.306003,
     "end_time": "2021-12-04T19:14:11.485212",
     "exception": false,
     "start_time": "2021-12-04T19:14:11.179209",
     "status": "completed"
    },
    "tags": []
   },
   "outputs": [],
   "source": [
    "df['prev'] = df['adj_close'].shift(1)"
   ]
  },
  {
   "cell_type": "code",
   "execution_count": 11,
   "id": "8326344f",
   "metadata": {
    "execution": {
     "iopub.execute_input": "2021-12-04T19:14:11.810213Z",
     "iopub.status.busy": "2021-12-04T19:14:11.809212Z",
     "iopub.status.idle": "2021-12-04T19:14:11.939241Z",
     "shell.execute_reply": "2021-12-04T19:14:11.940241Z"
    },
    "papermill": {
     "duration": 0.30503,
     "end_time": "2021-12-04T19:14:11.940241",
     "exception": false,
     "start_time": "2021-12-04T19:14:11.635211",
     "status": "completed"
    },
    "tags": []
   },
   "outputs": [],
   "source": [
    "df['sma2'] = df['prev'].rolling(window=2).mean()\n",
    "df['sma5'] = df['prev'].rolling(window=5).mean()\n",
    "df['sma10'] = df['prev'].rolling(window=10).mean()\n",
    "df['sma20'] = df['prev'].rolling(window=20).mean()"
   ]
  },
  {
   "cell_type": "code",
   "execution_count": 12,
   "id": "67e19ce1",
   "metadata": {
    "execution": {
     "iopub.execute_input": "2021-12-04T19:14:12.255253Z",
     "iopub.status.busy": "2021-12-04T19:14:12.253212Z",
     "iopub.status.idle": "2021-12-04T19:14:12.380214Z",
     "shell.execute_reply": "2021-12-04T19:14:12.379211Z"
    },
    "papermill": {
     "duration": 0.288973,
     "end_time": "2021-12-04T19:14:12.380214",
     "exception": false,
     "start_time": "2021-12-04T19:14:12.091241",
     "status": "completed"
    },
    "tags": []
   },
   "outputs": [],
   "source": [
    "assert round(df['prev'].tail(5).mean(), 4) == round(df['sma5'].tail(1).item(), 4), 'Expected sma5 to be same as mean of past 5 items'\n",
    "assert round(df['prev'].tail(10).mean(), 4) == round(df['sma10'].tail(1).item(), 4), 'Expected sma10 to be same as mean of past 10 items'\n",
    "assert round(df['prev'].tail(20).mean(), 4) == round(df['sma20'].tail(1).item(), 4), 'Expected sma20 to be same as mean of past 20 items'"
   ]
  },
  {
   "cell_type": "code",
   "execution_count": 13,
   "id": "ccf8feaa",
   "metadata": {
    "execution": {
     "iopub.execute_input": "2021-12-04T19:14:12.700402Z",
     "iopub.status.busy": "2021-12-04T19:14:12.700402Z",
     "iopub.status.idle": "2021-12-04T19:14:12.830401Z",
     "shell.execute_reply": "2021-12-04T19:14:12.829402Z"
    },
    "papermill": {
     "duration": 0.287779,
     "end_time": "2021-12-04T19:14:12.830401",
     "exception": false,
     "start_time": "2021-12-04T19:14:12.542622",
     "status": "completed"
    },
    "tags": []
   },
   "outputs": [],
   "source": [
    "df['ema12'] = df['prev'].ewm(span=12, min_periods=12, adjust=False).mean()\n",
    "df['ema26'] = df['prev'].ewm(span=26, min_periods=26, adjust=False).mean()"
   ]
  },
  {
   "cell_type": "code",
   "execution_count": 14,
   "id": "d5299a61",
   "metadata": {
    "execution": {
     "iopub.execute_input": "2021-12-04T19:14:13.148401Z",
     "iopub.status.busy": "2021-12-04T19:14:13.146401Z",
     "iopub.status.idle": "2021-12-04T19:14:13.271399Z",
     "shell.execute_reply": "2021-12-04T19:14:13.270402Z"
    },
    "papermill": {
     "duration": 0.286997,
     "end_time": "2021-12-04T19:14:13.272397",
     "exception": false,
     "start_time": "2021-12-04T19:14:12.985400",
     "status": "completed"
    },
    "tags": []
   },
   "outputs": [],
   "source": [
    "def difference(prev_price, moving_average):\n",
    "    return (prev_price - moving_average) / prev_price"
   ]
  },
  {
   "cell_type": "code",
   "execution_count": 15,
   "id": "e1754637",
   "metadata": {
    "execution": {
     "iopub.execute_input": "2021-12-04T19:14:13.583400Z",
     "iopub.status.busy": "2021-12-04T19:14:13.582400Z",
     "iopub.status.idle": "2021-12-04T19:14:13.725841Z",
     "shell.execute_reply": "2021-12-04T19:14:13.724489Z"
    },
    "papermill": {
     "duration": 0.299444,
     "end_time": "2021-12-04T19:14:13.725841",
     "exception": false,
     "start_time": "2021-12-04T19:14:13.426397",
     "status": "completed"
    },
    "tags": []
   },
   "outputs": [],
   "source": [
    "for col in ['sma2', 'sma5', 'sma10', 'sma20', 'ema12', 'ema26']:\n",
    "    df['{}_diff'.format(col)] = difference(df['prev'], df[col])"
   ]
  },
  {
   "cell_type": "code",
   "execution_count": 16,
   "id": "d17b1f4f",
   "metadata": {
    "execution": {
     "iopub.execute_input": "2021-12-04T19:14:14.057687Z",
     "iopub.status.busy": "2021-12-04T19:14:14.056688Z",
     "iopub.status.idle": "2021-12-04T19:14:14.193320Z",
     "shell.execute_reply": "2021-12-04T19:14:14.194321Z"
    },
    "papermill": {
     "duration": 0.29233,
     "end_time": "2021-12-04T19:14:14.194321",
     "exception": false,
     "start_time": "2021-12-04T19:14:13.901991",
     "status": "completed"
    },
    "tags": []
   },
   "outputs": [],
   "source": [
    "df.dropna(inplace=True)"
   ]
  },
  {
   "cell_type": "code",
   "execution_count": 17,
   "id": "f83bcbb0",
   "metadata": {
    "execution": {
     "iopub.execute_input": "2021-12-04T19:14:14.693955Z",
     "iopub.status.busy": "2021-12-04T19:14:14.692956Z",
     "iopub.status.idle": "2021-12-04T19:14:14.848957Z",
     "shell.execute_reply": "2021-12-04T19:14:14.849955Z"
    },
    "papermill": {
     "duration": 0.362004,
     "end_time": "2021-12-04T19:14:14.849955",
     "exception": false,
     "start_time": "2021-12-04T19:14:14.487951",
     "status": "completed"
    },
    "tags": []
   },
   "outputs": [
    {
     "data": {
      "text/plain": [
       "(227, 16)"
      ]
     },
     "execution_count": 17,
     "metadata": {},
     "output_type": "execute_result"
    }
   ],
   "source": [
    "df.shape"
   ]
  },
  {
   "cell_type": "code",
   "execution_count": 18,
   "id": "60949885",
   "metadata": {
    "execution": {
     "iopub.execute_input": "2021-12-04T19:14:15.208120Z",
     "iopub.status.busy": "2021-12-04T19:14:15.206123Z",
     "iopub.status.idle": "2021-12-04T19:14:15.341151Z",
     "shell.execute_reply": "2021-12-04T19:14:15.340120Z"
    },
    "papermill": {
     "duration": 0.314202,
     "end_time": "2021-12-04T19:14:15.341151",
     "exception": false,
     "start_time": "2021-12-04T19:14:15.026949",
     "status": "completed"
    },
    "tags": []
   },
   "outputs": [],
   "source": [
    "df.drop(columns=['date', 'open'], inplace=True)"
   ]
  },
  {
   "cell_type": "markdown",
   "id": "2f78bb38",
   "metadata": {
    "papermill": {
     "duration": 0.160038,
     "end_time": "2021-12-04T19:14:15.691161",
     "exception": false,
     "start_time": "2021-12-04T19:14:15.531123",
     "status": "completed"
    },
    "tags": []
   },
   "source": [
    "### Create label"
   ]
  },
  {
   "cell_type": "code",
   "execution_count": 19,
   "id": "5a7e374c",
   "metadata": {
    "execution": {
     "iopub.execute_input": "2021-12-04T19:14:15.971925Z",
     "iopub.status.busy": "2021-12-04T19:14:15.970925Z",
     "iopub.status.idle": "2021-12-04T19:14:16.058926Z",
     "shell.execute_reply": "2021-12-04T19:14:16.058926Z"
    },
    "papermill": {
     "duration": 0.213744,
     "end_time": "2021-12-04T19:14:16.059926",
     "exception": false,
     "start_time": "2021-12-04T19:14:15.846182",
     "status": "completed"
    },
    "tags": []
   },
   "outputs": [],
   "source": [
    "df['label'] = (df['adj_close'] > df['prev']).astype(int)"
   ]
  },
  {
   "cell_type": "markdown",
   "id": "4824363a",
   "metadata": {
    "papermill": {
     "duration": 0.097999,
     "end_time": "2021-12-04T19:14:16.281968",
     "exception": false,
     "start_time": "2021-12-04T19:14:16.183969",
     "status": "completed"
    },
    "tags": []
   },
   "source": [
    "### Train-val split"
   ]
  },
  {
   "cell_type": "code",
   "execution_count": 20,
   "id": "cb2a41af",
   "metadata": {
    "execution": {
     "iopub.execute_input": "2021-12-04T19:14:16.490926Z",
     "iopub.status.busy": "2021-12-04T19:14:16.489925Z",
     "iopub.status.idle": "2021-12-04T19:14:16.579932Z",
     "shell.execute_reply": "2021-12-04T19:14:16.580932Z"
    },
    "papermill": {
     "duration": 0.199009,
     "end_time": "2021-12-04T19:14:16.580932",
     "exception": false,
     "start_time": "2021-12-04T19:14:16.381923",
     "status": "completed"
    },
    "tags": []
   },
   "outputs": [],
   "source": [
    "# Keep most recent 20 days as validation set"
   ]
  },
  {
   "cell_type": "code",
   "execution_count": 21,
   "id": "7996f861",
   "metadata": {
    "execution": {
     "iopub.execute_input": "2021-12-04T19:14:16.789652Z",
     "iopub.status.busy": "2021-12-04T19:14:16.789652Z",
     "iopub.status.idle": "2021-12-04T19:14:16.874651Z",
     "shell.execute_reply": "2021-12-04T19:14:16.874651Z"
    },
    "papermill": {
     "duration": 0.187956,
     "end_time": "2021-12-04T19:14:16.874651",
     "exception": false,
     "start_time": "2021-12-04T19:14:16.686695",
     "status": "completed"
    },
    "tags": []
   },
   "outputs": [
    {
     "name": "stdout",
     "output_type": "stream",
     "text": [
      "[05/Dec/2021 00:44:16] INFO - No. of days - Train: 207, Val: 20\n"
     ]
    }
   ],
   "source": [
    "validation_days = 20\n",
    "train = df.iloc[:-validation_days].copy()\n",
    "val = df.iloc[-validation_days:].copy()\n",
    "logger.info('No. of days - Train: {}, Val: {}'.format(train.shape[0], val.shape[0]))"
   ]
  },
  {
   "cell_type": "markdown",
   "id": "7bafe1ee",
   "metadata": {
    "papermill": {
     "duration": 0.09704,
     "end_time": "2021-12-04T19:14:17.071695",
     "exception": false,
     "start_time": "2021-12-04T19:14:16.974655",
     "status": "completed"
    },
    "tags": []
   },
   "source": [
    "### Basic visualizations"
   ]
  },
  {
   "cell_type": "code",
   "execution_count": 22,
   "id": "07938cbc",
   "metadata": {
    "execution": {
     "iopub.execute_input": "2021-12-04T19:14:17.274654Z",
     "iopub.status.busy": "2021-12-04T19:14:17.274654Z",
     "iopub.status.idle": "2021-12-04T19:14:17.509252Z",
     "shell.execute_reply": "2021-12-04T19:14:17.510247Z"
    },
    "papermill": {
     "duration": 0.338596,
     "end_time": "2021-12-04T19:14:17.510247",
     "exception": false,
     "start_time": "2021-12-04T19:14:17.171651",
     "status": "completed"
    },
    "tags": []
   },
   "outputs": [
    {
     "data": {
      "text/plain": [
       "<matplotlib.legend.Legend at 0x2be1679b1f0>"
      ]
     },
     "execution_count": 22,
     "metadata": {},
     "output_type": "execute_result"
    },
    {
     "data": {
      "image/png": "[encoded data removed]",
      "text/plain": [
       "<Figure size 1080x360 with 1 Axes>"
      ]
     },
     "metadata": {
      "needs_background": "light"
     },
     "output_type": "display_data"
    }
   ],
   "source": [
    "plt.figure(figsize=(15, 5))\n",
    "plt.grid()\n",
    "plt.plot(train['adj_close'], label='price')\n",
    "plt.plot(train['sma20'], label='simple moving average 20')\n",
    "plt.plot(train['ema12'], label='exponential moving average 12')\n",
    "plt.plot(train['ema26'], label='exponential moving average 26')\n",
    "plt.legend()"
   ]
  },
  {
   "cell_type": "markdown",
   "id": "5ff24c8f",
   "metadata": {
    "papermill": {
     "duration": 0.110014,
     "end_time": "2021-12-04T19:14:17.731261",
     "exception": false,
     "start_time": "2021-12-04T19:14:17.621247",
     "status": "completed"
    },
    "tags": []
   },
   "source": [
    "### Feature transformations"
   ]
  },
  {
   "cell_type": "code",
   "execution_count": 23,
   "id": "d456888b",
   "metadata": {
    "execution": {
     "iopub.execute_input": "2021-12-04T19:14:17.959849Z",
     "iopub.status.busy": "2021-12-04T19:14:17.958805Z",
     "iopub.status.idle": "2021-12-04T19:14:18.044362Z",
     "shell.execute_reply": "2021-12-04T19:14:18.042423Z"
    },
    "papermill": {
     "duration": 0.192482,
     "end_time": "2021-12-04T19:14:18.044362",
     "exception": false,
     "start_time": "2021-12-04T19:14:17.851880",
     "status": "completed"
    },
    "tags": []
   },
   "outputs": [],
   "source": [
    "scaler = StandardScaler()"
   ]
  },
  {
   "cell_type": "code",
   "execution_count": 24,
   "id": "2315f5ab",
   "metadata": {
    "execution": {
     "iopub.execute_input": "2021-12-04T19:14:18.264397Z",
     "iopub.status.busy": "2021-12-04T19:14:18.264397Z",
     "iopub.status.idle": "2021-12-04T19:14:18.342087Z",
     "shell.execute_reply": "2021-12-04T19:14:18.341034Z"
    },
    "papermill": {
     "duration": 0.183687,
     "end_time": "2021-12-04T19:14:18.342087",
     "exception": false,
     "start_time": "2021-12-04T19:14:18.158400",
     "status": "completed"
    },
    "tags": []
   },
   "outputs": [],
   "source": [
    "COLS_TO_SCALE = ['prev', 'sma2', 'sma5', 'sma10', 'sma20', 'ema12', 'ema26']"
   ]
  },
  {
   "cell_type": "code",
   "execution_count": 25,
   "id": "adb47f70",
   "metadata": {
    "execution": {
     "iopub.execute_input": "2021-12-04T19:14:18.552714Z",
     "iopub.status.busy": "2021-12-04T19:14:18.552714Z",
     "iopub.status.idle": "2021-12-04T19:14:18.644716Z",
     "shell.execute_reply": "2021-12-04T19:14:18.643717Z"
    },
    "papermill": {
     "duration": 0.198671,
     "end_time": "2021-12-04T19:14:18.644716",
     "exception": false,
     "start_time": "2021-12-04T19:14:18.446045",
     "status": "completed"
    },
    "tags": []
   },
   "outputs": [
    {
     "data": {
      "text/plain": [
       "StandardScaler()"
      ]
     },
     "execution_count": 25,
     "metadata": {},
     "output_type": "execute_result"
    }
   ],
   "source": [
    "scaler.fit(train[COLS_TO_SCALE])"
   ]
  },
  {
   "cell_type": "code",
   "execution_count": 26,
   "id": "56870691",
   "metadata": {
    "execution": {
     "iopub.execute_input": "2021-12-04T19:14:18.867242Z",
     "iopub.status.busy": "2021-12-04T19:14:18.865286Z",
     "iopub.status.idle": "2021-12-04T19:14:18.962280Z",
     "shell.execute_reply": "2021-12-04T19:14:18.961280Z"
    },
    "papermill": {
     "duration": 0.205524,
     "end_time": "2021-12-04T19:14:18.962280",
     "exception": false,
     "start_time": "2021-12-04T19:14:18.756756",
     "status": "completed"
    },
    "tags": []
   },
   "outputs": [],
   "source": [
    "train[COLS_TO_SCALE] = scaler.transform(train[COLS_TO_SCALE])\n",
    "val[COLS_TO_SCALE] = scaler.transform(val[COLS_TO_SCALE])"
   ]
  },
  {
   "cell_type": "markdown",
   "id": "77443f96",
   "metadata": {
    "papermill": {
     "duration": 0.102043,
     "end_time": "2021-12-04T19:14:19.173285",
     "exception": false,
     "start_time": "2021-12-04T19:14:19.071242",
     "status": "completed"
    },
    "tags": []
   },
   "source": [
    "### Linear regression coefficients"
   ]
  },
  {
   "cell_type": "code",
   "execution_count": 27,
   "id": "3651320b",
   "metadata": {
    "execution": {
     "iopub.execute_input": "2021-12-04T19:14:19.392457Z",
     "iopub.status.busy": "2021-12-04T19:14:19.391458Z",
     "iopub.status.idle": "2021-12-04T19:14:19.480055Z",
     "shell.execute_reply": "2021-12-04T19:14:19.480055Z"
    },
    "papermill": {
     "duration": 0.198598,
     "end_time": "2021-12-04T19:14:19.480055",
     "exception": false,
     "start_time": "2021-12-04T19:14:19.281457",
     "status": "completed"
    },
    "tags": []
   },
   "outputs": [
    {
     "name": "stdout",
     "output_type": "stream",
     "text": [
      "[05/Dec/2021 00:44:19] INFO - x variables: prev+sma2+sma5+sma10+sma20+ema12+ema26+sma2_diff+sma5_diff+sma10_diff+sma20_diff+ema12_diff+ema26_diff\n"
     ]
    }
   ],
   "source": [
    "x_variables = '+'.join(list(train.columns[1:-1]))\n",
    "logger.info('x variables: {}'.format(x_variables))"
   ]
  },
  {
   "cell_type": "code",
   "execution_count": 28,
   "id": "c0c3c131",
   "metadata": {
    "execution": {
     "iopub.execute_input": "2021-12-04T19:14:19.705220Z",
     "iopub.status.busy": "2021-12-04T19:14:19.705220Z",
     "iopub.status.idle": "2021-12-04T19:14:19.810745Z",
     "shell.execute_reply": "2021-12-04T19:14:19.810745Z"
    },
    "papermill": {
     "duration": 0.220645,
     "end_time": "2021-12-04T19:14:19.810745",
     "exception": false,
     "start_time": "2021-12-04T19:14:19.590100",
     "status": "completed"
    },
    "tags": []
   },
   "outputs": [],
   "source": [
    "results = smf.ols('adj_close ~ {}'.format(x_variables), data=train).fit()"
   ]
  },
  {
   "cell_type": "code",
   "execution_count": 29,
   "id": "cf04cb8f",
   "metadata": {
    "execution": {
     "iopub.execute_input": "2021-12-04T19:14:20.041745Z",
     "iopub.status.busy": "2021-12-04T19:14:20.041745Z",
     "iopub.status.idle": "2021-12-04T19:14:20.140792Z",
     "shell.execute_reply": "2021-12-04T19:14:20.140792Z"
    },
    "papermill": {
     "duration": 0.216046,
     "end_time": "2021-12-04T19:14:20.140792",
     "exception": false,
     "start_time": "2021-12-04T19:14:19.924746",
     "status": "completed"
    },
    "scrolled": false,
    "tags": []
   },
   "outputs": [
    {
     "name": "stdout",
     "output_type": "stream",
     "text": [
      "                            OLS Regression Results                            \n",
      "==============================================================================\n",
      "Dep. Variable:              adj_close   R-squared:                       0.975\n",
      "Model:                            OLS   Adj. R-squared:                  0.973\n",
      "Method:                 Least Squares   F-statistic:                     578.1\n",
      "Date:                Sun, 05 Dec 2021   Prob (F-statistic):          8.72e-147\n",
      "Time:                        00:44:20   Log-Likelihood:                -930.76\n",
      "No. Observations:                 207   AIC:                             1890.\n",
      "Df Residuals:                     193   BIC:                             1936.\n",
      "Df Model:                          13                                         \n",
      "Covariance Type:            nonrobust                                         \n",
      "==============================================================================\n",
      "                 coef    std err          t      P>|t|      [0.025      0.975]\n",
      "------------------------------------------------------------------------------\n",
      "Intercept   3041.1045     46.445     65.478      0.000    2949.500    3132.709\n",
      "prev         185.6646    495.152      0.375      0.708    -790.940    1162.269\n",
      "sma2         120.9202    854.229      0.142      0.888   -1563.903    1805.744\n",
      "sma5        1403.7465   1735.709      0.809      0.420   -2019.648    4827.141\n",
      "sma10         98.3506   2555.307      0.038      0.969   -4941.562    5138.264\n",
      "sma20       1331.1240   1713.684      0.777      0.438   -2048.829    4711.077\n",
      "ema12      -2706.4934   7031.946     -0.385      0.701   -1.66e+04    1.12e+04\n",
      "ema26       -249.6699    960.045     -0.260      0.795   -2143.197    1643.857\n",
      "sma2_diff   3179.1214   1.86e+04      0.171      0.864   -3.34e+04    3.98e+04\n",
      "sma5_diff   3.311e+04   3.84e+04      0.861      0.390   -4.27e+04    1.09e+05\n",
      "sma10_diff  5057.1708   5.81e+04      0.087      0.931    -1.1e+05     1.2e+05\n",
      "sma20_diff  3.614e+04   4.21e+04      0.859      0.392   -4.69e+04    1.19e+05\n",
      "ema12_diff -7.252e+04   1.64e+05     -0.442      0.659   -3.96e+05    2.51e+05\n",
      "ema26_diff -6761.1402   2.45e+04     -0.276      0.783   -5.51e+04    4.16e+04\n",
      "==============================================================================\n",
      "Omnibus:                       48.526   Durbin-Watson:                   2.011\n",
      "Prob(Omnibus):                  0.000   Jarque-Bera (JB):               99.612\n",
      "Skew:                          -1.116   Prob(JB):                     2.34e-22\n",
      "Kurtosis:                       5.563   Cond. No.                     3.07e+05\n",
      "==============================================================================\n",
      "\n",
      "Notes:\n",
      "[1] Standard Errors assume that the covariance matrix of the errors is correctly specified.\n",
      "[2] The condition number is large, 3.07e+05. This might indicate that there are\n",
      "strong multicollinearity or other numerical problems.\n"
     ]
    }
   ],
   "source": [
    "print(results.summary())"
   ]
  },
  {
   "cell_type": "markdown",
   "id": "dd5909cb",
   "metadata": {
    "papermill": {
     "duration": 0.106969,
     "end_time": "2021-12-04T19:14:20.357761",
     "exception": false,
     "start_time": "2021-12-04T19:14:20.250792",
     "status": "completed"
    },
    "tags": []
   },
   "source": [
    "### Drop label col"
   ]
  },
  {
   "cell_type": "code",
   "execution_count": 30,
   "id": "a0c8d13f",
   "metadata": {
    "execution": {
     "iopub.execute_input": "2021-12-04T19:14:20.587749Z",
     "iopub.status.busy": "2021-12-04T19:14:20.587749Z",
     "iopub.status.idle": "2021-12-04T19:14:20.673791Z",
     "shell.execute_reply": "2021-12-04T19:14:20.674793Z"
    },
    "papermill": {
     "duration": 0.202036,
     "end_time": "2021-12-04T19:14:20.675786",
     "exception": false,
     "start_time": "2021-12-04T19:14:20.473750",
     "status": "completed"
    },
    "tags": []
   },
   "outputs": [],
   "source": [
    "train.drop(columns=['adj_close'], inplace=True)\n",
    "val.drop(columns=['adj_close'], inplace=True)"
   ]
  },
  {
   "cell_type": "markdown",
   "id": "3e4bbdb5",
   "metadata": {
    "papermill": {
     "duration": 0.104955,
     "end_time": "2021-12-04T19:14:20.911635",
     "exception": false,
     "start_time": "2021-12-04T19:14:20.806680",
     "status": "completed"
    },
    "tags": []
   },
   "source": [
    "### Logistic Regression Coefficients"
   ]
  },
  {
   "cell_type": "code",
   "execution_count": 31,
   "id": "5283af66",
   "metadata": {
    "execution": {
     "iopub.execute_input": "2021-12-04T19:14:21.136824Z",
     "iopub.status.busy": "2021-12-04T19:14:21.135824Z",
     "iopub.status.idle": "2021-12-04T19:14:21.221875Z",
     "shell.execute_reply": "2021-12-04T19:14:21.222875Z"
    },
    "papermill": {
     "duration": 0.201048,
     "end_time": "2021-12-04T19:14:21.222875",
     "exception": false,
     "start_time": "2021-12-04T19:14:21.021827",
     "status": "completed"
    },
    "tags": []
   },
   "outputs": [],
   "source": [
    "y = train['label'].values\n",
    "X = train.drop(columns=['label'])"
   ]
  },
  {
   "cell_type": "code",
   "execution_count": 32,
   "id": "b337634c",
   "metadata": {
    "execution": {
     "iopub.execute_input": "2021-12-04T19:14:21.440875Z",
     "iopub.status.busy": "2021-12-04T19:14:21.440875Z",
     "iopub.status.idle": "2021-12-04T19:14:21.521876Z",
     "shell.execute_reply": "2021-12-04T19:14:21.521876Z"
    },
    "papermill": {
     "duration": 0.191963,
     "end_time": "2021-12-04T19:14:21.522891",
     "exception": false,
     "start_time": "2021-12-04T19:14:21.330928",
     "status": "completed"
    },
    "tags": []
   },
   "outputs": [],
   "source": [
    "X = add_constant(X)"
   ]
  },
  {
   "cell_type": "code",
   "execution_count": 33,
   "id": "e63a2ec5",
   "metadata": {
    "execution": {
     "iopub.execute_input": "2021-12-04T19:14:21.747874Z",
     "iopub.status.busy": "2021-12-04T19:14:21.747874Z",
     "iopub.status.idle": "2021-12-04T19:14:21.834698Z",
     "shell.execute_reply": "2021-12-04T19:14:21.834698Z"
    },
    "papermill": {
     "duration": 0.20378,
     "end_time": "2021-12-04T19:14:21.834698",
     "exception": false,
     "start_time": "2021-12-04T19:14:21.630918",
     "status": "completed"
    },
    "tags": []
   },
   "outputs": [],
   "source": [
    "logit = sm.Logit(y, X)"
   ]
  },
  {
   "cell_type": "code",
   "execution_count": 34,
   "id": "39b7e97c",
   "metadata": {
    "execution": {
     "iopub.execute_input": "2021-12-04T19:14:22.052839Z",
     "iopub.status.busy": "2021-12-04T19:14:22.051839Z",
     "iopub.status.idle": "2021-12-04T19:14:22.154134Z",
     "shell.execute_reply": "2021-12-04T19:14:22.154134Z"
    },
    "papermill": {
     "duration": 0.21334,
     "end_time": "2021-12-04T19:14:22.154134",
     "exception": false,
     "start_time": "2021-12-04T19:14:21.940794",
     "status": "completed"
    },
    "tags": []
   },
   "outputs": [
    {
     "name": "stdout",
     "output_type": "stream",
     "text": [
      "Warning: Maximum number of iterations has been exceeded.\n",
      "         Current function value: 1.780240\n",
      "         Iterations: 35\n",
      "                           Logit Regression Results                           \n",
      "==============================================================================\n",
      "Dep. Variable:                      y   No. Observations:                  207\n",
      "Model:                          Logit   Df Residuals:                      193\n",
      "Method:                           MLE   Df Model:                           13\n",
      "Date:                Sun, 05 Dec 2021   Pseudo R-squ.:                  -1.617\n",
      "Time:                        00:44:22   Log-Likelihood:                -368.51\n",
      "converged:                      False   LL-Null:                       -140.84\n",
      "Covariance Type:            nonrobust   LLR p-value:                     1.000\n",
      "==============================================================================\n",
      "                 coef    std err          z      P>|z|      [0.025      0.975]\n",
      "------------------------------------------------------------------------------\n",
      "const         64.3716     15.369      4.188      0.000      34.249      94.494\n",
      "prev        -596.4932    150.250     -3.970      0.000    -890.977    -302.009\n",
      "sma2       -1707.3596    337.404     -5.060      0.000   -2368.660   -1046.059\n",
      "sma5       -4526.4406    749.987     -6.035      0.000   -5996.388   -3056.493\n",
      "sma10      -7961.4803   1300.633     -6.121      0.000   -1.05e+04   -5412.286\n",
      "sma20      -4616.2349    770.437     -5.992      0.000   -6126.263   -3106.207\n",
      "ema12       2.175e+04   3548.673      6.128      0.000    1.48e+04    2.87e+04\n",
      "ema26      -2471.3916    424.812     -5.818      0.000   -3304.007   -1638.776\n",
      "sma2_diff  -3.704e+04   7310.689     -5.067      0.000   -5.14e+04   -2.27e+04\n",
      "sma5_diff  -1.001e+05   1.66e+04     -6.037      0.000   -1.33e+05   -6.76e+04\n",
      "sma10_diff -1.811e+05   2.96e+04     -6.120      0.000   -2.39e+05   -1.23e+05\n",
      "sma20_diff -1.128e+05   1.88e+04     -5.992      0.000    -1.5e+05   -7.59e+04\n",
      "ema12_diff  5.072e+05   8.28e+04      6.127      0.000    3.45e+05    6.69e+05\n",
      "ema26_diff -6.339e+04   1.09e+04     -5.815      0.000   -8.48e+04    -4.2e+04\n",
      "==============================================================================\n"
     ]
    },
    {
     "name": "stderr",
     "output_type": "stream",
     "text": [
      "D:\\Softwares\\miniconda3\\envs\\mlops\\lib\\site-packages\\statsmodels\\base\\model.py:604: ConvergenceWarning: Maximum Likelihood optimization failed to converge. Check mle_retvals\n",
      "  warnings.warn(\"Maximum Likelihood optimization failed to \"\n"
     ]
    }
   ],
   "source": [
    "result = logit.fit()\n",
    "print(result.summary())"
   ]
  },
  {
   "cell_type": "markdown",
   "id": "8271e12e",
   "metadata": {
    "papermill": {
     "duration": 0.129211,
     "end_time": "2021-12-04T19:14:22.412393",
     "exception": false,
     "start_time": "2021-12-04T19:14:22.283182",
     "status": "completed"
    },
    "tags": []
   },
   "source": [
    "### Train some basic models"
   ]
  },
  {
   "cell_type": "code",
   "execution_count": 35,
   "id": "e563d004",
   "metadata": {
    "execution": {
     "iopub.execute_input": "2021-12-04T19:14:22.649936Z",
     "iopub.status.busy": "2021-12-04T19:14:22.649936Z",
     "iopub.status.idle": "2021-12-04T19:14:22.746067Z",
     "shell.execute_reply": "2021-12-04T19:14:22.746067Z"
    },
    "papermill": {
     "duration": 0.213669,
     "end_time": "2021-12-04T19:14:22.747067",
     "exception": false,
     "start_time": "2021-12-04T19:14:22.533398",
     "status": "completed"
    },
    "tags": []
   },
   "outputs": [],
   "source": [
    "y_train = train['label'].values\n",
    "X_train = train.drop(columns='label').values\n",
    "\n",
    "y_val = val['label'].values\n",
    "X_val = val.drop(columns='label').values"
   ]
  },
  {
   "cell_type": "code",
   "execution_count": 36,
   "id": "bb821b5e",
   "metadata": {
    "execution": {
     "iopub.execute_input": "2021-12-04T19:14:22.985635Z",
     "iopub.status.busy": "2021-12-04T19:14:22.984636Z",
     "iopub.status.idle": "2021-12-04T19:14:24.209076Z",
     "shell.execute_reply": "2021-12-04T19:14:24.208075Z"
    },
    "papermill": {
     "duration": 1.342319,
     "end_time": "2021-12-04T19:14:24.209076",
     "exception": false,
     "start_time": "2021-12-04T19:14:22.866757",
     "status": "completed"
    },
    "tags": []
   },
   "outputs": [
    {
     "name": "stderr",
     "output_type": "stream",
     "text": [
      "2021/12/05 00:44:23 INFO mlflow.tracking.fluent: Experiment with name 'indices' does not exist. Creating a new experiment.\n"
     ]
    },
    {
     "name": "stdout",
     "output_type": "stream",
     "text": [
      "[05/Dec/2021 00:44:23] INFO - AUC: 0.303 | Recall: 0.889 | Precision: 0.444 | F1: 0.593\n"
     ]
    },
    {
     "name": "stdout",
     "output_type": "stream",
     "text": [
      "[05/Dec/2021 00:44:23] INFO - ROC curve saved to: ../artifact_dir/plots/roc_curve_Logistic Regression (auc = 0.30).png\n"
     ]
    },
    {
     "name": "stdout",
     "output_type": "stream",
     "text": [
      "[05/Dec/2021 00:44:23] INFO - Precision-recall curve saved to: ../artifact_dir/plots/precision_recall_Logistic Regression (prec = 0.44, recall = 0.89).png\n"
     ]
    },
    {
     "name": "stdout",
     "output_type": "stream",
     "text": [
      "[05/Dec/2021 00:44:23] INFO - Model saved to: ../artifact_dir/models/Logistic Regression.pickle\n"
     ]
    },
    {
     "data": {
      "image/png": "[encoded data removed]",
      "text/plain": [
       "<Figure size 360x360 with 1 Axes>"
      ]
     },
     "metadata": {
      "needs_background": "light"
     },
     "output_type": "display_data"
    },
    {
     "data": {
      "image/png": "[encoded data removed]",
      "text/plain": [
       "<Figure size 1080x360 with 1 Axes>"
      ]
     },
     "metadata": {
      "needs_background": "light"
     },
     "output_type": "display_data"
    }
   ],
   "source": [
    "# Logistic regression\n",
    "model_name = 'Logistic Regression'\n",
    "model = LogisticRegression(fit_intercept=False).fit(X_train, y_train)\n",
    "pred = model.predict_proba(X_val)[:, 1]\n",
    "log_mlflow(run_params, model, model_name, y_val, pred)"
   ]
  },
  {
   "cell_type": "code",
   "execution_count": 37,
   "id": "9418cf2b",
   "metadata": {
    "execution": {
     "iopub.execute_input": "2021-12-04T19:14:24.482933Z",
     "iopub.status.busy": "2021-12-04T19:14:24.481908Z",
     "iopub.status.idle": "2021-12-04T19:14:25.077421Z",
     "shell.execute_reply": "2021-12-04T19:14:25.077421Z"
    },
    "papermill": {
     "duration": 0.732018,
     "end_time": "2021-12-04T19:14:25.078420",
     "exception": false,
     "start_time": "2021-12-04T19:14:24.346402",
     "status": "completed"
    },
    "tags": []
   },
   "outputs": [
    {
     "name": "stdout",
     "output_type": "stream",
     "text": [
      "[05/Dec/2021 00:44:24] INFO - AUC: 0.707 | Recall: 1.000 | Precision: 0.450 | F1: 0.621\n"
     ]
    },
    {
     "name": "stdout",
     "output_type": "stream",
     "text": [
      "[05/Dec/2021 00:44:24] INFO - ROC curve saved to: ../artifact_dir/plots/roc_curve_Support Vector Classifier (auc = 0.71).png\n"
     ]
    },
    {
     "name": "stdout",
     "output_type": "stream",
     "text": [
      "[05/Dec/2021 00:44:24] INFO - Precision-recall curve saved to: ../artifact_dir/plots/precision_recall_Support Vector Classifier (prec = 0.45, recall = 1.00).png\n"
     ]
    },
    {
     "name": "stdout",
     "output_type": "stream",
     "text": [
      "[05/Dec/2021 00:44:24] INFO - Model saved to: ../artifact_dir/models/Support Vector Classifier.pickle\n"
     ]
    },
    {
     "data": {
      "image/png": "[encoded data removed]",
      "text/plain": [
       "<Figure size 360x360 with 1 Axes>"
      ]
     },
     "metadata": {
      "needs_background": "light"
     },
     "output_type": "display_data"
    },
    {
     "data": {
      "image/png": "[encoded data removed]",
      "text/plain": [
       "<Figure size 1080x360 with 1 Axes>"
      ]
     },
     "metadata": {
      "needs_background": "light"
     },
     "output_type": "display_data"
    }
   ],
   "source": [
    "# Support vector classifier\n",
    "model_name = 'Support Vector Classifier'\n",
    "model = SVC(gamma=2, C=1, probability=True).fit(X_train, y_train)\n",
    "pred = model.predict_proba(X_val)[:, 1]\n",
    "log_mlflow(run_params, model, model_name, y_val, pred)"
   ]
  },
  {
   "cell_type": "code",
   "execution_count": 38,
   "id": "1da17ece",
   "metadata": {
    "execution": {
     "iopub.execute_input": "2021-12-04T19:14:25.371422Z",
     "iopub.status.busy": "2021-12-04T19:14:25.370421Z",
     "iopub.status.idle": "2021-12-04T19:14:25.911040Z",
     "shell.execute_reply": "2021-12-04T19:14:25.911040Z"
    },
    "papermill": {
     "duration": 0.683615,
     "end_time": "2021-12-04T19:14:25.911040",
     "exception": false,
     "start_time": "2021-12-04T19:14:25.227425",
     "status": "completed"
    },
    "tags": []
   },
   "outputs": [
    {
     "name": "stdout",
     "output_type": "stream",
     "text": [
      "[05/Dec/2021 00:44:25] INFO - AUC: 0.480 | Recall: 0.333 | Precision: 0.429 | F1: 0.375\n"
     ]
    },
    {
     "name": "stdout",
     "output_type": "stream",
     "text": [
      "[05/Dec/2021 00:44:25] INFO - ROC curve saved to: ../artifact_dir/plots/roc_curve_K-nearest Neighbours (auc = 0.48).png\n"
     ]
    },
    {
     "name": "stdout",
     "output_type": "stream",
     "text": [
      "[05/Dec/2021 00:44:25] INFO - Precision-recall curve saved to: ../artifact_dir/plots/precision_recall_K-nearest Neighbours (prec = 0.43, recall = 0.33).png\n"
     ]
    },
    {
     "name": "stdout",
     "output_type": "stream",
     "text": [
      "[05/Dec/2021 00:44:25] INFO - Model saved to: ../artifact_dir/models/K-nearest Neighbours.pickle\n"
     ]
    },
    {
     "data": {
      "image/png": "[encoded data removed]",
      "text/plain": [
       "<Figure size 360x360 with 1 Axes>"
      ]
     },
     "metadata": {
      "needs_background": "light"
     },
     "output_type": "display_data"
    },
    {
     "data": {
      "image/png": "[encoded data removed]",
      "text/plain": [
       "<Figure size 1080x360 with 1 Axes>"
      ]
     },
     "metadata": {
      "needs_background": "light"
     },
     "output_type": "display_data"
    }
   ],
   "source": [
    "# K-neighbours\n",
    "model_name = 'K-nearest Neighbours'\n",
    "model = KNeighborsClassifier(5).fit(X_train, y_train)\n",
    "pred = model.predict_proba(X_val)[:, 1]\n",
    "log_mlflow(run_params, model, model_name, y_val, pred)"
   ]
  },
  {
   "cell_type": "code",
   "execution_count": 39,
   "id": "45144896",
   "metadata": {
    "execution": {
     "iopub.execute_input": "2021-12-04T19:14:26.214101Z",
     "iopub.status.busy": "2021-12-04T19:14:26.213102Z",
     "iopub.status.idle": "2021-12-04T19:14:26.844681Z",
     "shell.execute_reply": "2021-12-04T19:14:26.843685Z"
    },
    "papermill": {
     "duration": 0.791638,
     "end_time": "2021-12-04T19:14:26.844681",
     "exception": false,
     "start_time": "2021-12-04T19:14:26.053043",
     "status": "completed"
    },
    "tags": []
   },
   "outputs": [
    {
     "name": "stdout",
     "output_type": "stream",
     "text": [
      "[05/Dec/2021 00:44:26] INFO - AUC: 0.323 | Recall: 0.333 | Precision: 0.375 | F1: 0.353\n"
     ]
    },
    {
     "name": "stdout",
     "output_type": "stream",
     "text": [
      "[05/Dec/2021 00:44:26] INFO - ROC curve saved to: ../artifact_dir/plots/roc_curve_Gradient Boosting Machine (auc = 0.32).png\n"
     ]
    },
    {
     "name": "stdout",
     "output_type": "stream",
     "text": [
      "[05/Dec/2021 00:44:26] INFO - Precision-recall curve saved to: ../artifact_dir/plots/precision_recall_Gradient Boosting Machine (prec = 0.38, recall = 0.33).png\n"
     ]
    },
    {
     "name": "stdout",
     "output_type": "stream",
     "text": [
      "[05/Dec/2021 00:44:26] INFO - Model saved to: ../artifact_dir/models/Gradient Boosting Machine.pickle\n"
     ]
    },
    {
     "data": {
      "image/png": "[encoded data removed]",
      "text/plain": [
       "<Figure size 360x360 with 1 Axes>"
      ]
     },
     "metadata": {
      "needs_background": "light"
     },
     "output_type": "display_data"
    },
    {
     "data": {
      "image/png": "[encoded data removed]",
      "text/plain": [
       "<Figure size 1080x360 with 1 Axes>"
      ]
     },
     "metadata": {
      "needs_background": "light"
     },
     "output_type": "display_data"
    }
   ],
   "source": [
    "# Gradient Boosting\n",
    "model_name = 'Gradient Boosting Machine'\n",
    "model = GradientBoostingClassifier().fit(X_train, y_train)\n",
    "pred = model.predict_proba(X_val)[:, 1]\n",
    "log_mlflow(run_params, model, model_name, y_val, pred)"
   ]
  },
  {
   "cell_type": "code",
   "execution_count": 40,
   "id": "f6b546f1",
   "metadata": {
    "execution": {
     "iopub.execute_input": "2021-12-04T19:14:27.194218Z",
     "iopub.status.busy": "2021-12-04T19:14:27.193217Z",
     "iopub.status.idle": "2021-12-04T19:14:27.872859Z",
     "shell.execute_reply": "2021-12-04T19:14:27.871900Z"
    },
    "papermill": {
     "duration": 0.849183,
     "end_time": "2021-12-04T19:14:27.872859",
     "exception": false,
     "start_time": "2021-12-04T19:14:27.023676",
     "status": "completed"
    },
    "tags": []
   },
   "outputs": [
    {
     "name": "stdout",
     "output_type": "stream",
     "text": [
      "[05/Dec/2021 00:44:27] INFO - AUC: 0.460 | Recall: 0.333 | Precision: 0.375 | F1: 0.353\n"
     ]
    },
    {
     "name": "stdout",
     "output_type": "stream",
     "text": [
      "[05/Dec/2021 00:44:27] INFO - ROC curve saved to: ../artifact_dir/plots/roc_curve_Extra Trees (auc = 0.46).png\n"
     ]
    },
    {
     "name": "stdout",
     "output_type": "stream",
     "text": [
      "[05/Dec/2021 00:44:27] INFO - Precision-recall curve saved to: ../artifact_dir/plots/precision_recall_Extra Trees (prec = 0.38, recall = 0.33).png\n"
     ]
    },
    {
     "name": "stdout",
     "output_type": "stream",
     "text": [
      "[05/Dec/2021 00:44:27] INFO - Model saved to: ../artifact_dir/models/Extra Trees.pickle\n"
     ]
    },
    {
     "data": {
      "image/png": "[encoded data removed]",
      "text/plain": [
       "<Figure size 360x360 with 1 Axes>"
      ]
     },
     "metadata": {
      "needs_background": "light"
     },
     "output_type": "display_data"
    },
    {
     "data": {
      "image/png": "[encoded data removed]",
      "text/plain": [
       "<Figure size 1080x360 with 1 Axes>"
      ]
     },
     "metadata": {
      "needs_background": "light"
     },
     "output_type": "display_data"
    }
   ],
   "source": [
    "# Bagged trees\n",
    "model_name = 'Extra Trees'\n",
    "model = ExtraTreesClassifier().fit(X_train, y_train)\n",
    "pred = model.predict_proba(X_val)[:, 1]\n",
    "log_mlflow(run_params, model, model_name, y_val, pred)"
   ]
  },
  {
   "cell_type": "markdown",
   "id": "b2a48f35",
   "metadata": {
    "papermill": {
     "duration": 0.207797,
     "end_time": "2021-12-04T19:14:28.267247",
     "exception": false,
     "start_time": "2021-12-04T19:14:28.059450",
     "status": "completed"
    },
    "tags": []
   },
   "source": [
    "### Test loading model"
   ]
  },
  {
   "cell_type": "code",
   "execution_count": 41,
   "id": "03882642",
   "metadata": {
    "execution": {
     "iopub.execute_input": "2021-12-04T19:14:28.593306Z",
     "iopub.status.busy": "2021-12-04T19:14:28.593188Z",
     "iopub.status.idle": "2021-12-04T19:14:28.690470Z",
     "shell.execute_reply": "2021-12-04T19:14:28.690470Z"
    },
    "papermill": {
     "duration": 0.258288,
     "end_time": "2021-12-04T19:14:28.691470",
     "exception": false,
     "start_time": "2021-12-04T19:14:28.433182",
     "status": "completed"
    },
    "tags": []
   },
   "outputs": [],
   "source": [
    "model_name = 'Support Vector Classifier'\n",
    "check_model = load('{}/models/{}.pickle'.format(ARTIFACT_DIR, model_name))"
   ]
  },
  {
   "cell_type": "code",
   "execution_count": 42,
   "id": "0a41f524",
   "metadata": {
    "execution": {
     "iopub.execute_input": "2021-12-04T19:14:29.041576Z",
     "iopub.status.busy": "2021-12-04T19:14:29.040577Z",
     "iopub.status.idle": "2021-12-04T19:14:29.135574Z",
     "shell.execute_reply": "2021-12-04T19:14:29.135574Z"
    },
    "papermill": {
     "duration": 0.265521,
     "end_time": "2021-12-04T19:14:29.135574",
     "exception": false,
     "start_time": "2021-12-04T19:14:28.870053",
     "status": "completed"
    },
    "tags": []
   },
   "outputs": [
    {
     "data": {
      "text/plain": [
       "SVC(C=1, gamma=2, probability=True)"
      ]
     },
     "execution_count": 42,
     "metadata": {},
     "output_type": "execute_result"
    }
   ],
   "source": [
    "check_model"
   ]
  },
  {
   "cell_type": "code",
   "execution_count": 43,
   "id": "8ca02de9",
   "metadata": {
    "execution": {
     "iopub.execute_input": "2021-12-04T19:14:29.466618Z",
     "iopub.status.busy": "2021-12-04T19:14:29.466618Z",
     "iopub.status.idle": "2021-12-04T19:14:29.556577Z",
     "shell.execute_reply": "2021-12-04T19:14:29.556577Z"
    },
    "papermill": {
     "duration": 0.255964,
     "end_time": "2021-12-04T19:14:29.556577",
     "exception": false,
     "start_time": "2021-12-04T19:14:29.300613",
     "status": "completed"
    },
    "tags": []
   },
   "outputs": [],
   "source": [
    "pred = check_model.predict_proba(X_val)[:, 1]"
   ]
  },
  {
   "cell_type": "code",
   "execution_count": 44,
   "id": "f5723f8d",
   "metadata": {
    "execution": {
     "iopub.execute_input": "2021-12-04T19:14:29.892618Z",
     "iopub.status.busy": "2021-12-04T19:14:29.892618Z",
     "iopub.status.idle": "2021-12-04T19:14:29.979801Z",
     "shell.execute_reply": "2021-12-04T19:14:29.980797Z"
    },
    "papermill": {
     "duration": 0.252219,
     "end_time": "2021-12-04T19:14:29.980797",
     "exception": false,
     "start_time": "2021-12-04T19:14:29.728578",
     "status": "completed"
    },
    "tags": []
   },
   "outputs": [
    {
     "name": "stdout",
     "output_type": "stream",
     "text": [
      "[05/Dec/2021 00:44:29] INFO - AUC: 0.707 | Recall: 1.000 | Precision: 0.450 | F1: 0.621\n"
     ]
    },
    {
     "data": {
      "text/plain": [
       "(0.7070707070707071, 1.0, 0.45, 0.6206896551724138)"
      ]
     },
     "execution_count": 44,
     "metadata": {},
     "output_type": "execute_result"
    }
   ],
   "source": [
    "evaluate_binary(y_val, pred)"
   ]
  },
  {
   "cell_type": "code",
   "execution_count": null,
   "id": "28a12dac",
   "metadata": {
    "papermill": {
     "duration": 0.15052,
     "end_time": "2021-12-04T19:14:30.290315",
     "exception": false,
     "start_time": "2021-12-04T19:14:30.139795",
     "status": "completed"
    },
    "tags": []
   },
   "outputs": [],
   "source": []
  }
 ],
 "metadata": {
  "celltoolbar": "Tags",
  "interpreter": {
   "hash": "59e91c191c97324b2a36152b56cdd66e3729b4be830ea7b7f3cc1c1764fb3478"
  },
  "kernelspec": {
   "display_name": "Python 3",
   "language": "python",
   "name": "python3"
  },
  "language_info": {
   "codemirror_mode": {
    "name": "ipython",
    "version": 3
   },
   "file_extension": ".py",
   "mimetype": "text/x-python",
   "name": "python",
   "nbconvert_exporter": "python",
   "pygments_lexer": "ipython3",
   "version": "3.8.12"
  },
  "papermill": {
   "default_parameters": {},
   "duration": 31.304639,
   "end_time": "2021-12-04T19:14:31.184742",
   "environment_variables": {},
   "exception": null,
   "input_path": "basic.ipynb",
   "output_path": "../artifact_dir/notebooks/basic_SNP.ipynb",
   "parameters": {
    "INDEX": "SNP"
   },
   "start_time": "2021-12-04T19:13:59.880103",
   "version": "2.3.3"
  }
 },
 "nbformat": 4,
 "nbformat_minor": 5
}