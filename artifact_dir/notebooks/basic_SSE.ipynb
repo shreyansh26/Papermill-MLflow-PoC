{
 "cells": [
  {
   "cell_type": "code",
   "execution_count": 1,
   "id": "4dd1eae1",
   "metadata": {
    "execution": {
     "iopub.execute_input": "2021-12-04T19:15:00.236870Z",
     "iopub.status.busy": "2021-12-04T19:15:00.235870Z",
     "iopub.status.idle": "2021-12-04T19:15:00.274868Z",
     "shell.execute_reply": "2021-12-04T19:15:00.274868Z"
    },
    "papermill": {
     "duration": 0.15206,
     "end_time": "2021-12-04T19:15:00.274868",
     "exception": false,
     "start_time": "2021-12-04T19:15:00.122808",
     "status": "completed"
    },
    "tags": []
   },
   "outputs": [],
   "source": [
    "%load_ext autoreload\n",
    "%autoreload 2"
   ]
  },
  {
   "cell_type": "code",
   "execution_count": 2,
   "id": "2c36452b",
   "metadata": {
    "execution": {
     "iopub.execute_input": "2021-12-04T19:15:00.495862Z",
     "iopub.status.busy": "2021-12-04T19:15:00.495862Z",
     "iopub.status.idle": "2021-12-04T19:15:03.104274Z",
     "shell.execute_reply": "2021-12-04T19:15:03.105317Z"
    },
    "papermill": {
     "duration": 2.728446,
     "end_time": "2021-12-04T19:15:03.105317",
     "exception": false,
     "start_time": "2021-12-04T19:15:00.376871",
     "status": "completed"
    },
    "tags": []
   },
   "outputs": [],
   "source": [
    "import pandas as pd\n",
    "import matplotlib.pyplot as plt\n",
    "import statsmodels.api as sm\n",
    "import statsmodels.formula.api as smf\n",
    "from statsmodels.tools.tools import add_constant\n",
    "from sklearn.preprocessing import StandardScaler\n",
    "from sklearn.linear_model import LogisticRegression\n",
    "from sklearn.svm import SVC\n",
    "from sklearn.neighbors import KNeighborsClassifier\n",
    "from sklearn.ensemble import GradientBoostingClassifier, ExtraTreesClassifier\n",
    "from joblib import load\n",
    "\n",
    "from config import EXPERIMENT, RUN_NAME, ARTIFACT_DIR\n",
    "from logger import logger\n",
    "from mlflow_utils import evaluate_binary, log_mlflow"
   ]
  },
  {
   "cell_type": "code",
   "execution_count": 3,
   "id": "01c83221",
   "metadata": {
    "execution": {
     "iopub.execute_input": "2021-12-04T19:15:03.304930Z",
     "iopub.status.busy": "2021-12-04T19:15:03.303932Z",
     "iopub.status.idle": "2021-12-04T19:15:03.387429Z",
     "shell.execute_reply": "2021-12-04T19:15:03.388428Z"
    },
    "papermill": {
     "duration": 0.185154,
     "end_time": "2021-12-04T19:15:03.388428",
     "exception": false,
     "start_time": "2021-12-04T19:15:03.203274",
     "status": "completed"
    },
    "tags": [
     "parameters"
    ]
   },
   "outputs": [],
   "source": [
    "# Tag this cell as 'parameters'\n",
    "INDEX = 'SNP'"
   ]
  },
  {
   "cell_type": "code",
   "execution_count": 4,
   "id": "b4d5b5f4",
   "metadata": {
    "execution": {
     "iopub.execute_input": "2021-12-04T19:15:03.590569Z",
     "iopub.status.busy": "2021-12-04T19:15:03.589569Z",
     "iopub.status.idle": "2021-12-04T19:15:03.682536Z",
     "shell.execute_reply": "2021-12-04T19:15:03.681496Z"
    },
    "papermill": {
     "duration": 0.194181,
     "end_time": "2021-12-04T19:15:03.682536",
     "exception": false,
     "start_time": "2021-12-04T19:15:03.488355",
     "status": "completed"
    },
    "tags": [
     "injected-parameters"
    ]
   },
   "outputs": [],
   "source": [
    "# Parameters\n",
    "INDEX = \"SSE\"\n"
   ]
  },
  {
   "cell_type": "code",
   "execution_count": 5,
   "id": "df7628b7",
   "metadata": {
    "execution": {
     "iopub.execute_input": "2021-12-04T19:15:03.889391Z",
     "iopub.status.busy": "2021-12-04T19:15:03.889391Z",
     "iopub.status.idle": "2021-12-04T19:15:03.967392Z",
     "shell.execute_reply": "2021-12-04T19:15:03.967392Z"
    },
    "papermill": {
     "duration": 0.180238,
     "end_time": "2021-12-04T19:15:03.967392",
     "exception": false,
     "start_time": "2021-12-04T19:15:03.787154",
     "status": "completed"
    },
    "tags": []
   },
   "outputs": [],
   "source": [
    "# Wrap all this is a parameter dict\n",
    "run_params = {'experiment': EXPERIMENT,\n",
    "              'iteration': RUN_NAME,\n",
    "              'index': INDEX,\n",
    "              'artifact_dir': ARTIFACT_DIR}"
   ]
  },
  {
   "cell_type": "markdown",
   "id": "458d4472",
   "metadata": {
    "papermill": {
     "duration": 0.095,
     "end_time": "2021-12-04T19:15:04.158391",
     "exception": false,
     "start_time": "2021-12-04T19:15:04.063391",
     "status": "completed"
    },
    "tags": []
   },
   "source": [
    "### Import data"
   ]
  },
  {
   "cell_type": "code",
   "execution_count": 6,
   "id": "25775d20",
   "metadata": {
    "execution": {
     "iopub.execute_input": "2021-12-04T19:15:04.356391Z",
     "iopub.status.busy": "2021-12-04T19:15:04.355391Z",
     "iopub.status.idle": "2021-12-04T19:15:04.538840Z",
     "shell.execute_reply": "2021-12-04T19:15:04.538840Z"
    },
    "papermill": {
     "duration": 0.282449,
     "end_time": "2021-12-04T19:15:04.538840",
     "exception": false,
     "start_time": "2021-12-04T19:15:04.256391",
     "status": "completed"
    },
    "tags": []
   },
   "outputs": [],
   "source": [
    "df = pd.read_csv('../datadir/{}.csv'.format(INDEX))"
   ]
  },
  {
   "cell_type": "markdown",
   "id": "612220ef",
   "metadata": {
    "papermill": {
     "duration": 0.099183,
     "end_time": "2021-12-04T19:15:04.741385",
     "exception": false,
     "start_time": "2021-12-04T19:15:04.642202",
     "status": "completed"
    },
    "tags": []
   },
   "source": [
    "### Data prep"
   ]
  },
  {
   "cell_type": "code",
   "execution_count": 7,
   "id": "a9bc7352",
   "metadata": {
    "execution": {
     "iopub.execute_input": "2021-12-04T19:15:04.939105Z",
     "iopub.status.busy": "2021-12-04T19:15:04.938147Z",
     "iopub.status.idle": "2021-12-04T19:15:05.017104Z",
     "shell.execute_reply": "2021-12-04T19:15:05.017104Z"
    },
    "papermill": {
     "duration": 0.178155,
     "end_time": "2021-12-04T19:15:05.018103",
     "exception": false,
     "start_time": "2021-12-04T19:15:04.839948",
     "status": "completed"
    },
    "tags": []
   },
   "outputs": [],
   "source": [
    "df.columns = [col.lower().replace(' ', '_') for col in df.columns]"
   ]
  },
  {
   "cell_type": "code",
   "execution_count": 8,
   "id": "2791aed4",
   "metadata": {
    "execution": {
     "iopub.execute_input": "2021-12-04T19:15:05.213684Z",
     "iopub.status.busy": "2021-12-04T19:15:05.212685Z",
     "iopub.status.idle": "2021-12-04T19:15:05.302192Z",
     "shell.execute_reply": "2021-12-04T19:15:05.301142Z"
    },
    "papermill": {
     "duration": 0.187517,
     "end_time": "2021-12-04T19:15:05.302192",
     "exception": false,
     "start_time": "2021-12-04T19:15:05.114675",
     "status": "completed"
    },
    "tags": []
   },
   "outputs": [],
   "source": [
    "df.sort_values(by='date', ascending=True, inplace=True)  # Have to sort ascending for rolling to work correctly"
   ]
  },
  {
   "cell_type": "markdown",
   "id": "b8724e0e",
   "metadata": {
    "papermill": {
     "duration": 0.111002,
     "end_time": "2021-12-04T19:15:05.507144",
     "exception": false,
     "start_time": "2021-12-04T19:15:05.396142",
     "status": "completed"
    },
    "tags": []
   },
   "source": [
    "### Create basic features"
   ]
  },
  {
   "cell_type": "code",
   "execution_count": 9,
   "id": "65df6d81",
   "metadata": {
    "execution": {
     "iopub.execute_input": "2021-12-04T19:15:05.703141Z",
     "iopub.status.busy": "2021-12-04T19:15:05.703141Z",
     "iopub.status.idle": "2021-12-04T19:15:05.793672Z",
     "shell.execute_reply": "2021-12-04T19:15:05.792669Z"
    },
    "papermill": {
     "duration": 0.18853,
     "end_time": "2021-12-04T19:15:05.793672",
     "exception": false,
     "start_time": "2021-12-04T19:15:05.605142",
     "status": "completed"
    },
    "tags": []
   },
   "outputs": [],
   "source": [
    "df = df[['date', 'open', 'adj_close']].copy()"
   ]
  },
  {
   "cell_type": "code",
   "execution_count": 10,
   "id": "416fed1e",
   "metadata": {
    "execution": {
     "iopub.execute_input": "2021-12-04T19:15:05.994669Z",
     "iopub.status.busy": "2021-12-04T19:15:05.994669Z",
     "iopub.status.idle": "2021-12-04T19:15:06.076665Z",
     "shell.execute_reply": "2021-12-04T19:15:06.076665Z"
    },
    "papermill": {
     "duration": 0.183998,
     "end_time": "2021-12-04T19:15:06.076665",
     "exception": false,
     "start_time": "2021-12-04T19:15:05.892667",
     "status": "completed"
    },
    "tags": []
   },
   "outputs": [],
   "source": [
    "df['prev'] = df['adj_close'].shift(1)"
   ]
  },
  {
   "cell_type": "code",
   "execution_count": 11,
   "id": "f4977596",
   "metadata": {
    "execution": {
     "iopub.execute_input": "2021-12-04T19:15:06.277666Z",
     "iopub.status.busy": "2021-12-04T19:15:06.276678Z",
     "iopub.status.idle": "2021-12-04T19:15:06.363916Z",
     "shell.execute_reply": "2021-12-04T19:15:06.362920Z"
    },
    "papermill": {
     "duration": 0.18925,
     "end_time": "2021-12-04T19:15:06.364916",
     "exception": false,
     "start_time": "2021-12-04T19:15:06.175666",
     "status": "completed"
    },
    "tags": []
   },
   "outputs": [],
   "source": [
    "df['sma2'] = df['prev'].rolling(window=2).mean()\n",
    "df['sma5'] = df['prev'].rolling(window=5).mean()\n",
    "df['sma10'] = df['prev'].rolling(window=10).mean()\n",
    "df['sma20'] = df['prev'].rolling(window=20).mean()"
   ]
  },
  {
   "cell_type": "code",
   "execution_count": 12,
   "id": "3f1ee10b",
   "metadata": {
    "execution": {
     "iopub.execute_input": "2021-12-04T19:15:06.567978Z",
     "iopub.status.busy": "2021-12-04T19:15:06.567978Z",
     "iopub.status.idle": "2021-12-04T19:15:06.643785Z",
     "shell.execute_reply": "2021-12-04T19:15:06.643785Z"
    },
    "papermill": {
     "duration": 0.176341,
     "end_time": "2021-12-04T19:15:06.643785",
     "exception": false,
     "start_time": "2021-12-04T19:15:06.467444",
     "status": "completed"
    },
    "tags": []
   },
   "outputs": [],
   "source": [
    "assert round(df['prev'].tail(5).mean(), 4) == round(df['sma5'].tail(1).item(), 4), 'Expected sma5 to be same as mean of past 5 items'\n",
    "assert round(df['prev'].tail(10).mean(), 4) == round(df['sma10'].tail(1).item(), 4), 'Expected sma10 to be same as mean of past 10 items'\n",
    "assert round(df['prev'].tail(20).mean(), 4) == round(df['sma20'].tail(1).item(), 4), 'Expected sma20 to be same as mean of past 20 items'"
   ]
  },
  {
   "cell_type": "code",
   "execution_count": 13,
   "id": "75275aec",
   "metadata": {
    "execution": {
     "iopub.execute_input": "2021-12-04T19:15:06.843549Z",
     "iopub.status.busy": "2021-12-04T19:15:06.843549Z",
     "iopub.status.idle": "2021-12-04T19:15:06.942230Z",
     "shell.execute_reply": "2021-12-04T19:15:06.940230Z"
    },
    "papermill": {
     "duration": 0.199798,
     "end_time": "2021-12-04T19:15:06.943230",
     "exception": false,
     "start_time": "2021-12-04T19:15:06.743432",
     "status": "completed"
    },
    "tags": []
   },
   "outputs": [],
   "source": [
    "df['ema12'] = df['prev'].ewm(span=12, min_periods=12, adjust=False).mean()\n",
    "df['ema26'] = df['prev'].ewm(span=26, min_periods=26, adjust=False).mean()"
   ]
  },
  {
   "cell_type": "code",
   "execution_count": 14,
   "id": "fb2906a9",
   "metadata": {
    "execution": {
     "iopub.execute_input": "2021-12-04T19:15:07.160769Z",
     "iopub.status.busy": "2021-12-04T19:15:07.159769Z",
     "iopub.status.idle": "2021-12-04T19:15:07.242771Z",
     "shell.execute_reply": "2021-12-04T19:15:07.241774Z"
    },
    "papermill": {
     "duration": 0.187556,
     "end_time": "2021-12-04T19:15:07.243770",
     "exception": false,
     "start_time": "2021-12-04T19:15:07.056214",
     "status": "completed"
    },
    "tags": []
   },
   "outputs": [],
   "source": [
    "def difference(prev_price, moving_average):\n",
    "    return (prev_price - moving_average) / prev_price"
   ]
  },
  {
   "cell_type": "code",
   "execution_count": 15,
   "id": "ecc7e37b",
   "metadata": {
    "execution": {
     "iopub.execute_input": "2021-12-04T19:15:07.442768Z",
     "iopub.status.busy": "2021-12-04T19:15:07.442768Z",
     "iopub.status.idle": "2021-12-04T19:15:07.526790Z",
     "shell.execute_reply": "2021-12-04T19:15:07.526790Z"
    },
    "papermill": {
     "duration": 0.185021,
     "end_time": "2021-12-04T19:15:07.526790",
     "exception": false,
     "start_time": "2021-12-04T19:15:07.341769",
     "status": "completed"
    },
    "tags": []
   },
   "outputs": [],
   "source": [
    "for col in ['sma2', 'sma5', 'sma10', 'sma20', 'ema12', 'ema26']:\n",
    "    df['{}_diff'.format(col)] = difference(df['prev'], df[col])"
   ]
  },
  {
   "cell_type": "code",
   "execution_count": 16,
   "id": "f1405ee8",
   "metadata": {
    "execution": {
     "iopub.execute_input": "2021-12-04T19:15:07.736900Z",
     "iopub.status.busy": "2021-12-04T19:15:07.735920Z",
     "iopub.status.idle": "2021-12-04T19:15:07.822448Z",
     "shell.execute_reply": "2021-12-04T19:15:07.821408Z"
    },
    "papermill": {
     "duration": 0.191535,
     "end_time": "2021-12-04T19:15:07.822448",
     "exception": false,
     "start_time": "2021-12-04T19:15:07.630913",
     "status": "completed"
    },
    "tags": []
   },
   "outputs": [],
   "source": [
    "df.dropna(inplace=True)"
   ]
  },
  {
   "cell_type": "code",
   "execution_count": 17,
   "id": "84e98653",
   "metadata": {
    "execution": {
     "iopub.execute_input": "2021-12-04T19:15:08.022405Z",
     "iopub.status.busy": "2021-12-04T19:15:08.022405Z",
     "iopub.status.idle": "2021-12-04T19:15:08.108403Z",
     "shell.execute_reply": "2021-12-04T19:15:08.108403Z"
    },
    "papermill": {
     "duration": 0.187999,
     "end_time": "2021-12-04T19:15:08.108403",
     "exception": false,
     "start_time": "2021-12-04T19:15:07.920404",
     "status": "completed"
    },
    "tags": []
   },
   "outputs": [
    {
     "data": {
      "text/plain": [
       "(196, 16)"
      ]
     },
     "execution_count": 17,
     "metadata": {},
     "output_type": "execute_result"
    }
   ],
   "source": [
    "df.shape"
   ]
  },
  {
   "cell_type": "code",
   "execution_count": 18,
   "id": "88a4fac0",
   "metadata": {
    "execution": {
     "iopub.execute_input": "2021-12-04T19:15:08.311408Z",
     "iopub.status.busy": "2021-12-04T19:15:08.310403Z",
     "iopub.status.idle": "2021-12-04T19:15:08.393403Z",
     "shell.execute_reply": "2021-12-04T19:15:08.392406Z"
    },
    "papermill": {
     "duration": 0.186999,
     "end_time": "2021-12-04T19:15:08.393403",
     "exception": false,
     "start_time": "2021-12-04T19:15:08.206404",
     "status": "completed"
    },
    "tags": []
   },
   "outputs": [],
   "source": [
    "df.drop(columns=['date', 'open'], inplace=True)"
   ]
  },
  {
   "cell_type": "markdown",
   "id": "e80105b2",
   "metadata": {
    "papermill": {
     "duration": 0.102958,
     "end_time": "2021-12-04T19:15:08.605954",
     "exception": false,
     "start_time": "2021-12-04T19:15:08.502996",
     "status": "completed"
    },
    "tags": []
   },
   "source": [
    "### Create label"
   ]
  },
  {
   "cell_type": "code",
   "execution_count": 19,
   "id": "9901933c",
   "metadata": {
    "execution": {
     "iopub.execute_input": "2021-12-04T19:15:08.814955Z",
     "iopub.status.busy": "2021-12-04T19:15:08.814955Z",
     "iopub.status.idle": "2021-12-04T19:15:08.900954Z",
     "shell.execute_reply": "2021-12-04T19:15:08.899957Z"
    },
    "papermill": {
     "duration": 0.191,
     "end_time": "2021-12-04T19:15:08.900954",
     "exception": false,
     "start_time": "2021-12-04T19:15:08.709954",
     "status": "completed"
    },
    "tags": []
   },
   "outputs": [],
   "source": [
    "df['label'] = (df['adj_close'] > df['prev']).astype(int)"
   ]
  },
  {
   "cell_type": "markdown",
   "id": "7b2e6948",
   "metadata": {
    "papermill": {
     "duration": 0.096999,
     "end_time": "2021-12-04T19:15:09.097952",
     "exception": false,
     "start_time": "2021-12-04T19:15:09.000953",
     "status": "completed"
    },
    "tags": []
   },
   "source": [
    "### Train-val split"
   ]
  },
  {
   "cell_type": "code",
   "execution_count": 20,
   "id": "6600a842",
   "metadata": {
    "execution": {
     "iopub.execute_input": "2021-12-04T19:15:09.315249Z",
     "iopub.status.busy": "2021-12-04T19:15:09.315249Z",
     "iopub.status.idle": "2021-12-04T19:15:09.391245Z",
     "shell.execute_reply": "2021-12-04T19:15:09.390247Z"
    },
    "papermill": {
     "duration": 0.192756,
     "end_time": "2021-12-04T19:15:09.391245",
     "exception": false,
     "start_time": "2021-12-04T19:15:09.198489",
     "status": "completed"
    },
    "tags": []
   },
   "outputs": [],
   "source": [
    "# Keep most recent 20 days as validation set"
   ]
  },
  {
   "cell_type": "code",
   "execution_count": 21,
   "id": "43ea3270",
   "metadata": {
    "execution": {
     "iopub.execute_input": "2021-12-04T19:15:09.588753Z",
     "iopub.status.busy": "2021-12-04T19:15:09.588753Z",
     "iopub.status.idle": "2021-12-04T19:15:09.675450Z",
     "shell.execute_reply": "2021-12-04T19:15:09.675450Z"
    },
    "papermill": {
     "duration": 0.186064,
     "end_time": "2021-12-04T19:15:09.675450",
     "exception": false,
     "start_time": "2021-12-04T19:15:09.489386",
     "status": "completed"
    },
    "tags": []
   },
   "outputs": [
    {
     "name": "stdout",
     "output_type": "stream",
     "text": [
      "[05/Dec/2021 00:45:09] INFO - No. of days - Train: 176, Val: 20\n"
     ]
    }
   ],
   "source": [
    "validation_days = 20\n",
    "train = df.iloc[:-validation_days].copy()\n",
    "val = df.iloc[-validation_days:].copy()\n",
    "logger.info('No. of days - Train: {}, Val: {}'.format(train.shape[0], val.shape[0]))"
   ]
  },
  {
   "cell_type": "markdown",
   "id": "de62d396",
   "metadata": {
    "papermill": {
     "duration": 0.107819,
     "end_time": "2021-12-04T19:15:09.887539",
     "exception": false,
     "start_time": "2021-12-04T19:15:09.779720",
     "status": "completed"
    },
    "tags": []
   },
   "source": [
    "### Basic visualizations"
   ]
  },
  {
   "cell_type": "code",
   "execution_count": 22,
   "id": "60fd8fdb",
   "metadata": {
    "execution": {
     "iopub.execute_input": "2021-12-04T19:15:10.088280Z",
     "iopub.status.busy": "2021-12-04T19:15:10.087233Z",
     "iopub.status.idle": "2021-12-04T19:15:10.321012Z",
     "shell.execute_reply": "2021-12-04T19:15:10.321012Z"
    },
    "papermill": {
     "duration": 0.337734,
     "end_time": "2021-12-04T19:15:10.322012",
     "exception": false,
     "start_time": "2021-12-04T19:15:09.984278",
     "status": "completed"
    },
    "tags": []
   },
   "outputs": [
    {
     "data": {
      "text/plain": [
       "<matplotlib.legend.Legend at 0x2697ebba1f0>"
      ]
     },
     "execution_count": 22,
     "metadata": {},
     "output_type": "execute_result"
    },
    {
     "data": {
      "image/png": "[encoded data removed]",
      "text/plain": [
       "<Figure size 1080x360 with 1 Axes>"
      ]
     },
     "metadata": {
      "needs_background": "light"
     },
     "output_type": "display_data"
    }
   ],
   "source": [
    "plt.figure(figsize=(15, 5))\n",
    "plt.grid()\n",
    "plt.plot(train['adj_close'], label='price')\n",
    "plt.plot(train['sma20'], label='simple moving average 20')\n",
    "plt.plot(train['ema12'], label='exponential moving average 12')\n",
    "plt.plot(train['ema26'], label='exponential moving average 26')\n",
    "plt.legend()"
   ]
  },
  {
   "cell_type": "markdown",
   "id": "d38f408d",
   "metadata": {
    "papermill": {
     "duration": 0.101181,
     "end_time": "2021-12-04T19:15:10.526238",
     "exception": false,
     "start_time": "2021-12-04T19:15:10.425057",
     "status": "completed"
    },
    "tags": []
   },
   "source": [
    "### Feature transformations"
   ]
  },
  {
   "cell_type": "code",
   "execution_count": 23,
   "id": "e75cbe17",
   "metadata": {
    "execution": {
     "iopub.execute_input": "2021-12-04T19:15:10.736436Z",
     "iopub.status.busy": "2021-12-04T19:15:10.735435Z",
     "iopub.status.idle": "2021-12-04T19:15:10.811969Z",
     "shell.execute_reply": "2021-12-04T19:15:10.811969Z"
    },
    "papermill": {
     "duration": 0.183721,
     "end_time": "2021-12-04T19:15:10.811969",
     "exception": false,
     "start_time": "2021-12-04T19:15:10.628248",
     "status": "completed"
    },
    "tags": []
   },
   "outputs": [],
   "source": [
    "scaler = StandardScaler()"
   ]
  },
  {
   "cell_type": "code",
   "execution_count": 24,
   "id": "a4363e6c",
   "metadata": {
    "execution": {
     "iopub.execute_input": "2021-12-04T19:15:11.022569Z",
     "iopub.status.busy": "2021-12-04T19:15:11.022569Z",
     "iopub.status.idle": "2021-12-04T19:15:11.104602Z",
     "shell.execute_reply": "2021-12-04T19:15:11.103640Z"
    },
    "papermill": {
     "duration": 0.189032,
     "end_time": "2021-12-04T19:15:11.105600",
     "exception": false,
     "start_time": "2021-12-04T19:15:10.916568",
     "status": "completed"
    },
    "tags": []
   },
   "outputs": [],
   "source": [
    "COLS_TO_SCALE = ['prev', 'sma2', 'sma5', 'sma10', 'sma20', 'ema12', 'ema26']"
   ]
  },
  {
   "cell_type": "code",
   "execution_count": 25,
   "id": "03852153",
   "metadata": {
    "execution": {
     "iopub.execute_input": "2021-12-04T19:15:11.314466Z",
     "iopub.status.busy": "2021-12-04T19:15:11.314466Z",
     "iopub.status.idle": "2021-12-04T19:15:11.407485Z",
     "shell.execute_reply": "2021-12-04T19:15:11.406488Z"
    },
    "papermill": {
     "duration": 0.199074,
     "end_time": "2021-12-04T19:15:11.408484",
     "exception": false,
     "start_time": "2021-12-04T19:15:11.209410",
     "status": "completed"
    },
    "tags": []
   },
   "outputs": [
    {
     "data": {
      "text/plain": [
       "StandardScaler()"
      ]
     },
     "execution_count": 25,
     "metadata": {},
     "output_type": "execute_result"
    }
   ],
   "source": [
    "scaler.fit(train[COLS_TO_SCALE])"
   ]
  },
  {
   "cell_type": "code",
   "execution_count": 26,
   "id": "1fb811d6",
   "metadata": {
    "execution": {
     "iopub.execute_input": "2021-12-04T19:15:11.639421Z",
     "iopub.status.busy": "2021-12-04T19:15:11.639421Z",
     "iopub.status.idle": "2021-12-04T19:15:11.735661Z",
     "shell.execute_reply": "2021-12-04T19:15:11.734667Z"
    },
    "papermill": {
     "duration": 0.202202,
     "end_time": "2021-12-04T19:15:11.735661",
     "exception": false,
     "start_time": "2021-12-04T19:15:11.533459",
     "status": "completed"
    },
    "tags": []
   },
   "outputs": [],
   "source": [
    "train[COLS_TO_SCALE] = scaler.transform(train[COLS_TO_SCALE])\n",
    "val[COLS_TO_SCALE] = scaler.transform(val[COLS_TO_SCALE])"
   ]
  },
  {
   "cell_type": "markdown",
   "id": "1ea62275",
   "metadata": {
    "papermill": {
     "duration": 0.106906,
     "end_time": "2021-12-04T19:15:11.946623",
     "exception": false,
     "start_time": "2021-12-04T19:15:11.839717",
     "status": "completed"
    },
    "tags": []
   },
   "source": [
    "### Linear regression coefficients"
   ]
  },
  {
   "cell_type": "code",
   "execution_count": 27,
   "id": "cf7bfa85",
   "metadata": {
    "execution": {
     "iopub.execute_input": "2021-12-04T19:15:12.158380Z",
     "iopub.status.busy": "2021-12-04T19:15:12.157378Z",
     "iopub.status.idle": "2021-12-04T19:15:12.242426Z",
     "shell.execute_reply": "2021-12-04T19:15:12.243420Z"
    },
    "papermill": {
     "duration": 0.193794,
     "end_time": "2021-12-04T19:15:12.243420",
     "exception": false,
     "start_time": "2021-12-04T19:15:12.049626",
     "status": "completed"
    },
    "tags": []
   },
   "outputs": [
    {
     "name": "stdout",
     "output_type": "stream",
     "text": [
      "[05/Dec/2021 00:45:12] INFO - x variables: prev+sma2+sma5+sma10+sma20+ema12+ema26+sma2_diff+sma5_diff+sma10_diff+sma20_diff+ema12_diff+ema26_diff\n"
     ]
    }
   ],
   "source": [
    "x_variables = '+'.join(list(train.columns[1:-1]))\n",
    "logger.info('x variables: {}'.format(x_variables))"
   ]
  },
  {
   "cell_type": "code",
   "execution_count": 28,
   "id": "9186bd7f",
   "metadata": {
    "execution": {
     "iopub.execute_input": "2021-12-04T19:15:12.463812Z",
     "iopub.status.busy": "2021-12-04T19:15:12.463812Z",
     "iopub.status.idle": "2021-12-04T19:15:12.566818Z",
     "shell.execute_reply": "2021-12-04T19:15:12.565772Z"
    },
    "papermill": {
     "duration": 0.21103,
     "end_time": "2021-12-04T19:15:12.566818",
     "exception": false,
     "start_time": "2021-12-04T19:15:12.355788",
     "status": "completed"
    },
    "tags": []
   },
   "outputs": [],
   "source": [
    "results = smf.ols('adj_close ~ {}'.format(x_variables), data=train).fit()"
   ]
  },
  {
   "cell_type": "code",
   "execution_count": 29,
   "id": "15751cb2",
   "metadata": {
    "execution": {
     "iopub.execute_input": "2021-12-04T19:15:12.780127Z",
     "iopub.status.busy": "2021-12-04T19:15:12.779125Z",
     "iopub.status.idle": "2021-12-04T19:15:12.869459Z",
     "shell.execute_reply": "2021-12-04T19:15:12.868459Z"
    },
    "papermill": {
     "duration": 0.19839,
     "end_time": "2021-12-04T19:15:12.870459",
     "exception": false,
     "start_time": "2021-12-04T19:15:12.672069",
     "status": "completed"
    },
    "scrolled": false,
    "tags": []
   },
   "outputs": [
    {
     "name": "stdout",
     "output_type": "stream",
     "text": [
      "                            OLS Regression Results                            \n",
      "==============================================================================\n",
      "Dep. Variable:              adj_close   R-squared:                       0.893\n",
      "Model:                            OLS   Adj. R-squared:                  0.884\n",
      "Method:                 Least Squares   F-statistic:                     103.5\n",
      "Date:                Sun, 05 Dec 2021   Prob (F-statistic):           2.54e-71\n",
      "Time:                        00:45:12   Log-Likelihood:                -855.62\n",
      "No. Observations:                 176   AIC:                             1739.\n",
      "Df Residuals:                     162   BIC:                             1784.\n",
      "Df Model:                          13                                         \n",
      "Covariance Type:            nonrobust                                         \n",
      "==============================================================================\n",
      "                 coef    std err          t      P>|t|      [0.025      0.975]\n",
      "------------------------------------------------------------------------------\n",
      "Intercept   2924.4790     22.476    130.116      0.000    2880.095    2968.863\n",
      "prev          51.7749    391.078      0.132      0.895    -720.493     824.043\n",
      "sma2        -268.4319    680.929     -0.394      0.694   -1613.074    1076.210\n",
      "sma5        -710.1362   1302.442     -0.545      0.586   -3282.090    1861.818\n",
      "sma10         74.6603   1466.141      0.051      0.959   -2820.551    2969.872\n",
      "sma20      -2916.3745   1459.818     -1.998      0.047   -5799.100     -33.649\n",
      "ema12       2327.7305   4406.236      0.528      0.598   -6373.333     1.1e+04\n",
      "ema26       1218.2854    610.235      1.996      0.048      13.245    2423.326\n",
      "sma2_diff  -8100.5363   2.04e+04     -0.396      0.692   -4.85e+04    3.23e+04\n",
      "sma5_diff  -2.111e+04   3.96e+04     -0.533      0.595   -9.94e+04    5.71e+04\n",
      "sma10_diff  1595.0238   4.58e+04      0.035      0.972   -8.89e+04    9.21e+04\n",
      "sma20_diff -9.907e+04   4.98e+04     -1.988      0.048   -1.97e+05    -683.478\n",
      "ema12_diff  7.967e+04   1.51e+05      0.529      0.597   -2.18e+05    3.77e+05\n",
      "ema26_diff  4.833e+04   2.44e+04      1.981      0.049     144.548    9.65e+04\n",
      "==============================================================================\n",
      "Omnibus:                       75.100   Durbin-Watson:                   2.022\n",
      "Prob(Omnibus):                  0.000   Jarque-Bera (JB):              579.388\n",
      "Skew:                          -1.354   Prob(JB):                    1.54e-126\n",
      "Kurtosis:                      11.466   Cond. No.                     1.70e+05\n",
      "==============================================================================\n",
      "\n",
      "Notes:\n",
      "[1] Standard Errors assume that the covariance matrix of the errors is correctly specified.\n",
      "[2] The condition number is large, 1.7e+05. This might indicate that there are\n",
      "strong multicollinearity or other numerical problems.\n"
     ]
    }
   ],
   "source": [
    "print(results.summary())"
   ]
  },
  {
   "cell_type": "markdown",
   "id": "914b5408",
   "metadata": {
    "papermill": {
     "duration": 0.106999,
     "end_time": "2021-12-04T19:15:13.082412",
     "exception": false,
     "start_time": "2021-12-04T19:15:12.975413",
     "status": "completed"
    },
    "tags": []
   },
   "source": [
    "### Drop label col"
   ]
  },
  {
   "cell_type": "code",
   "execution_count": 30,
   "id": "a212b6ed",
   "metadata": {
    "execution": {
     "iopub.execute_input": "2021-12-04T19:15:13.296411Z",
     "iopub.status.busy": "2021-12-04T19:15:13.295411Z",
     "iopub.status.idle": "2021-12-04T19:15:13.383931Z",
     "shell.execute_reply": "2021-12-04T19:15:13.383931Z"
    },
    "papermill": {
     "duration": 0.195523,
     "end_time": "2021-12-04T19:15:13.383931",
     "exception": false,
     "start_time": "2021-12-04T19:15:13.188408",
     "status": "completed"
    },
    "tags": []
   },
   "outputs": [],
   "source": [
    "train.drop(columns=['adj_close'], inplace=True)\n",
    "val.drop(columns=['adj_close'], inplace=True)"
   ]
  },
  {
   "cell_type": "markdown",
   "id": "c372e847",
   "metadata": {
    "papermill": {
     "duration": 0.10694,
     "end_time": "2021-12-04T19:15:13.596823",
     "exception": false,
     "start_time": "2021-12-04T19:15:13.489883",
     "status": "completed"
    },
    "tags": []
   },
   "source": [
    "### Logistic Regression Coefficients"
   ]
  },
  {
   "cell_type": "code",
   "execution_count": 31,
   "id": "a54fe0f3",
   "metadata": {
    "execution": {
     "iopub.execute_input": "2021-12-04T19:15:13.819954Z",
     "iopub.status.busy": "2021-12-04T19:15:13.819954Z",
     "iopub.status.idle": "2021-12-04T19:15:13.899003Z",
     "shell.execute_reply": "2021-12-04T19:15:13.899003Z"
    },
    "papermill": {
     "duration": 0.199783,
     "end_time": "2021-12-04T19:15:13.899003",
     "exception": false,
     "start_time": "2021-12-04T19:15:13.699220",
     "status": "completed"
    },
    "tags": []
   },
   "outputs": [],
   "source": [
    "y = train['label'].values\n",
    "X = train.drop(columns=['label'])"
   ]
  },
  {
   "cell_type": "code",
   "execution_count": 32,
   "id": "db16914c",
   "metadata": {
    "execution": {
     "iopub.execute_input": "2021-12-04T19:15:14.115771Z",
     "iopub.status.busy": "2021-12-04T19:15:14.115771Z",
     "iopub.status.idle": "2021-12-04T19:15:14.202815Z",
     "shell.execute_reply": "2021-12-04T19:15:14.202815Z"
    },
    "papermill": {
     "duration": 0.197014,
     "end_time": "2021-12-04T19:15:14.202815",
     "exception": false,
     "start_time": "2021-12-04T19:15:14.005801",
     "status": "completed"
    },
    "tags": []
   },
   "outputs": [],
   "source": [
    "X = add_constant(X)"
   ]
  },
  {
   "cell_type": "code",
   "execution_count": 33,
   "id": "75bb024a",
   "metadata": {
    "execution": {
     "iopub.execute_input": "2021-12-04T19:15:14.417816Z",
     "iopub.status.busy": "2021-12-04T19:15:14.416771Z",
     "iopub.status.idle": "2021-12-04T19:15:14.506307Z",
     "shell.execute_reply": "2021-12-04T19:15:14.506307Z"
    },
    "papermill": {
     "duration": 0.196533,
     "end_time": "2021-12-04T19:15:14.506307",
     "exception": false,
     "start_time": "2021-12-04T19:15:14.309774",
     "status": "completed"
    },
    "tags": []
   },
   "outputs": [],
   "source": [
    "logit = sm.Logit(y, X)"
   ]
  },
  {
   "cell_type": "code",
   "execution_count": 34,
   "id": "671a69c0",
   "metadata": {
    "execution": {
     "iopub.execute_input": "2021-12-04T19:15:14.720307Z",
     "iopub.status.busy": "2021-12-04T19:15:14.719307Z",
     "iopub.status.idle": "2021-12-04T19:15:14.823562Z",
     "shell.execute_reply": "2021-12-04T19:15:14.822606Z"
    },
    "papermill": {
     "duration": 0.21116,
     "end_time": "2021-12-04T19:15:14.823562",
     "exception": false,
     "start_time": "2021-12-04T19:15:14.612402",
     "status": "completed"
    },
    "tags": []
   },
   "outputs": [
    {
     "name": "stdout",
     "output_type": "stream",
     "text": [
      "Warning: Maximum number of iterations has been exceeded.\n",
      "         Current function value: 6.339588\n",
      "         Iterations: 35\n",
      "                           Logit Regression Results                           \n",
      "==============================================================================\n",
      "Dep. Variable:                      y   No. Observations:                  176\n",
      "Model:                          Logit   Df Residuals:                      162\n",
      "Method:                           MLE   Df Model:                           13\n",
      "Date:                Sun, 05 Dec 2021   Pseudo R-squ.:                  -8.150\n",
      "Time:                        00:45:14   Log-Likelihood:                -1115.8\n",
      "converged:                      False   LL-Null:                       -121.95\n",
      "Covariance Type:            nonrobust   LLR p-value:                     1.000\n",
      "==============================================================================\n",
      "                 coef    std err          z      P>|z|      [0.025      0.975]\n",
      "------------------------------------------------------------------------------\n",
      "const          4.0141      3.637      1.104      0.270      -3.114      11.143\n",
      "prev        1216.5266    277.864      4.378      0.000     671.923    1761.131\n",
      "sma2        2234.5034    501.123      4.459      0.000    1252.321    3216.686\n",
      "sma5         1.04e+04   2327.373      4.468      0.000    5837.130     1.5e+04\n",
      "sma10       1.346e+04   2999.902      4.487      0.000    7580.365    1.93e+04\n",
      "sma20       9081.8511   2027.160      4.480      0.000    5108.690    1.31e+04\n",
      "ema12      -3.768e+04   8402.472     -4.484      0.000   -5.41e+04   -2.12e+04\n",
      "ema26       3325.1577    751.728      4.423      0.000    1851.797    4798.518\n",
      "sma2_diff   6.722e+04   1.51e+04      4.463      0.000    3.77e+04    9.67e+04\n",
      "sma5_diff   3.132e+05   7.01e+04      4.470      0.000    1.76e+05     4.5e+05\n",
      "sma10_diff  4.142e+05   9.23e+04      4.488      0.000    2.33e+05    5.95e+05\n",
      "sma20_diff  3.088e+05   6.89e+04      4.480      0.000    1.74e+05    4.44e+05\n",
      "ema12_diff -1.272e+06   2.84e+05     -4.486      0.000   -1.83e+06   -7.16e+05\n",
      "ema26_diff  1.325e+05   2.99e+04      4.428      0.000    7.39e+04    1.91e+05\n",
      "==============================================================================\n",
      "\n",
      "Possibly complete quasi-separation: A fraction 0.14 of observations can be\n",
      "perfectly predicted. This might indicate that there is complete\n",
      "quasi-separation. In this case some parameters will not be identified.\n"
     ]
    },
    {
     "name": "stderr",
     "output_type": "stream",
     "text": [
      "D:\\Softwares\\miniconda3\\envs\\mlops\\lib\\site-packages\\statsmodels\\base\\model.py:604: ConvergenceWarning: Maximum Likelihood optimization failed to converge. Check mle_retvals\n",
      "  warnings.warn(\"Maximum Likelihood optimization failed to \"\n"
     ]
    }
   ],
   "source": [
    "result = logit.fit()\n",
    "print(result.summary())"
   ]
  },
  {
   "cell_type": "markdown",
   "id": "c38f13f9",
   "metadata": {
    "papermill": {
     "duration": 0.109998,
     "end_time": "2021-12-04T19:15:15.043560",
     "exception": false,
     "start_time": "2021-12-04T19:15:14.933562",
     "status": "completed"
    },
    "tags": []
   },
   "source": [
    "### Train some basic models"
   ]
  },
  {
   "cell_type": "code",
   "execution_count": 35,
   "id": "ab5edc6f",
   "metadata": {
    "execution": {
     "iopub.execute_input": "2021-12-04T19:15:15.260738Z",
     "iopub.status.busy": "2021-12-04T19:15:15.260738Z",
     "iopub.status.idle": "2021-12-04T19:15:15.350111Z",
     "shell.execute_reply": "2021-12-04T19:15:15.350111Z"
    },
    "papermill": {
     "duration": 0.198537,
     "end_time": "2021-12-04T19:15:15.350111",
     "exception": false,
     "start_time": "2021-12-04T19:15:15.151574",
     "status": "completed"
    },
    "tags": []
   },
   "outputs": [],
   "source": [
    "y_train = train['label'].values\n",
    "X_train = train.drop(columns='label').values\n",
    "\n",
    "y_val = val['label'].values\n",
    "X_val = val.drop(columns='label').values"
   ]
  },
  {
   "cell_type": "code",
   "execution_count": 36,
   "id": "8040d16a",
   "metadata": {
    "execution": {
     "iopub.execute_input": "2021-12-04T19:15:15.575671Z",
     "iopub.status.busy": "2021-12-04T19:15:15.574671Z",
     "iopub.status.idle": "2021-12-04T19:15:16.198328Z",
     "shell.execute_reply": "2021-12-04T19:15:16.200358Z"
    },
    "papermill": {
     "duration": 0.749635,
     "end_time": "2021-12-04T19:15:16.200358",
     "exception": false,
     "start_time": "2021-12-04T19:15:15.450723",
     "status": "completed"
    },
    "tags": []
   },
   "outputs": [
    {
     "name": "stdout",
     "output_type": "stream",
     "text": [
      "[05/Dec/2021 00:45:15] INFO - AUC: 0.833 | Recall: 0.429 | Precision: 1.000 | F1: 0.600\n"
     ]
    },
    {
     "name": "stdout",
     "output_type": "stream",
     "text": [
      "[05/Dec/2021 00:45:15] INFO - ROC curve saved to: ../artifact_dir/plots/roc_curve_Logistic Regression (auc = 0.83).png\n"
     ]
    },
    {
     "name": "stdout",
     "output_type": "stream",
     "text": [
      "[05/Dec/2021 00:45:15] INFO - Precision-recall curve saved to: ../artifact_dir/plots/precision_recall_Logistic Regression (prec = 1.00, recall = 0.43).png\n"
     ]
    },
    {
     "name": "stdout",
     "output_type": "stream",
     "text": [
      "[05/Dec/2021 00:45:15] INFO - Model saved to: ../artifact_dir/models/Logistic Regression.pickle\n"
     ]
    },
    {
     "data": {
      "image/png": "[encoded data removed]",
      "text/plain": [
       "<Figure size 360x360 with 1 Axes>"
      ]
     },
     "metadata": {
      "needs_background": "light"
     },
     "output_type": "display_data"
    },
    {
     "data": {
      "image/png": "[encoded data removed]",
      "text/plain": [
       "<Figure size 1080x360 with 1 Axes>"
      ]
     },
     "metadata": {
      "needs_background": "light"
     },
     "output_type": "display_data"
    }
   ],
   "source": [
    "# Logistic regression\n",
    "model_name = 'Logistic Regression'\n",
    "model = LogisticRegression(fit_intercept=False).fit(X_train, y_train)\n",
    "pred = model.predict_proba(X_val)[:, 1]\n",
    "log_mlflow(run_params, model, model_name, y_val, pred)"
   ]
  },
  {
   "cell_type": "code",
   "execution_count": 37,
   "id": "3ceb7ed8",
   "metadata": {
    "execution": {
     "iopub.execute_input": "2021-12-04T19:15:16.441005Z",
     "iopub.status.busy": "2021-12-04T19:15:16.441005Z",
     "iopub.status.idle": "2021-12-04T19:15:17.011553Z",
     "shell.execute_reply": "2021-12-04T19:15:17.011553Z"
    },
    "papermill": {
     "duration": 0.696239,
     "end_time": "2021-12-04T19:15:17.011553",
     "exception": false,
     "start_time": "2021-12-04T19:15:16.315314",
     "status": "completed"
    },
    "tags": []
   },
   "outputs": [
    {
     "name": "stdout",
     "output_type": "stream",
     "text": [
      "[05/Dec/2021 00:45:16] INFO - AUC: 0.762 | Recall: 0.571 | Precision: 0.889 | F1: 0.696\n"
     ]
    },
    {
     "name": "stdout",
     "output_type": "stream",
     "text": [
      "[05/Dec/2021 00:45:16] INFO - ROC curve saved to: ../artifact_dir/plots/roc_curve_Support Vector Classifier (auc = 0.76).png\n"
     ]
    },
    {
     "name": "stdout",
     "output_type": "stream",
     "text": [
      "[05/Dec/2021 00:45:16] INFO - Precision-recall curve saved to: ../artifact_dir/plots/precision_recall_Support Vector Classifier (prec = 0.89, recall = 0.57).png\n"
     ]
    },
    {
     "name": "stdout",
     "output_type": "stream",
     "text": [
      "[05/Dec/2021 00:45:16] INFO - Model saved to: ../artifact_dir/models/Support Vector Classifier.pickle\n"
     ]
    },
    {
     "data": {
      "image/png": "[encoded data removed]",
      "text/plain": [
       "<Figure size 360x360 with 1 Axes>"
      ]
     },
     "metadata": {
      "needs_background": "light"
     },
     "output_type": "display_data"
    },
    {
     "data": {
      "image/png": "[encoded data removed]",
      "text/plain": [
       "<Figure size 1080x360 with 1 Axes>"
      ]
     },
     "metadata": {
      "needs_background": "light"
     },
     "output_type": "display_data"
    }
   ],
   "source": [
    "# Support vector classifier\n",
    "model_name = 'Support Vector Classifier'\n",
    "model = SVC(gamma=2, C=1, probability=True).fit(X_train, y_train)\n",
    "pred = model.predict_proba(X_val)[:, 1]\n",
    "log_mlflow(run_params, model, model_name, y_val, pred)"
   ]
  },
  {
   "cell_type": "code",
   "execution_count": 38,
   "id": "fdff0597",
   "metadata": {
    "execution": {
     "iopub.execute_input": "2021-12-04T19:15:17.331109Z",
     "iopub.status.busy": "2021-12-04T19:15:17.330110Z",
     "iopub.status.idle": "2021-12-04T19:15:17.846420Z",
     "shell.execute_reply": "2021-12-04T19:15:17.845462Z"
    },
    "papermill": {
     "duration": 0.672309,
     "end_time": "2021-12-04T19:15:17.846420",
     "exception": false,
     "start_time": "2021-12-04T19:15:17.174111",
     "status": "completed"
    },
    "tags": []
   },
   "outputs": [
    {
     "name": "stdout",
     "output_type": "stream",
     "text": [
      "[05/Dec/2021 00:45:17] INFO - AUC: 0.690 | Recall: 0.714 | Precision: 0.833 | F1: 0.769\n"
     ]
    },
    {
     "name": "stdout",
     "output_type": "stream",
     "text": [
      "[05/Dec/2021 00:45:17] INFO - ROC curve saved to: ../artifact_dir/plots/roc_curve_K-nearest Neighbours (auc = 0.69).png\n"
     ]
    },
    {
     "name": "stdout",
     "output_type": "stream",
     "text": [
      "[05/Dec/2021 00:45:17] INFO - Precision-recall curve saved to: ../artifact_dir/plots/precision_recall_K-nearest Neighbours (prec = 0.83, recall = 0.71).png\n"
     ]
    },
    {
     "name": "stdout",
     "output_type": "stream",
     "text": [
      "[05/Dec/2021 00:45:17] INFO - Model saved to: ../artifact_dir/models/K-nearest Neighbours.pickle\n"
     ]
    },
    {
     "data": {
      "image/png": "[encoded data removed]",
      "text/plain": [
       "<Figure size 360x360 with 1 Axes>"
      ]
     },
     "metadata": {
      "needs_background": "light"
     },
     "output_type": "display_data"
    },
    {
     "data": {
      "image/png": "[encoded data removed]",
      "text/plain": [
       "<Figure size 1080x360 with 1 Axes>"
      ]
     },
     "metadata": {
      "needs_background": "light"
     },
     "output_type": "display_data"
    }
   ],
   "source": [
    "# K-neighbours\n",
    "model_name = 'K-nearest Neighbours'\n",
    "model = KNeighborsClassifier(5).fit(X_train, y_train)\n",
    "pred = model.predict_proba(X_val)[:, 1]\n",
    "log_mlflow(run_params, model, model_name, y_val, pred)"
   ]
  },
  {
   "cell_type": "code",
   "execution_count": 39,
   "id": "fdfea5c0",
   "metadata": {
    "execution": {
     "iopub.execute_input": "2021-12-04T19:15:18.147420Z",
     "iopub.status.busy": "2021-12-04T19:15:18.146418Z",
     "iopub.status.idle": "2021-12-04T19:15:19.422962Z",
     "shell.execute_reply": "2021-12-04T19:15:19.422962Z"
    },
    "papermill": {
     "duration": 1.427546,
     "end_time": "2021-12-04T19:15:19.422962",
     "exception": false,
     "start_time": "2021-12-04T19:15:17.995416",
     "status": "completed"
    },
    "tags": []
   },
   "outputs": [
    {
     "name": "stdout",
     "output_type": "stream",
     "text": [
      "[05/Dec/2021 00:45:18] INFO - AUC: 0.690 | Recall: 0.429 | Precision: 1.000 | F1: 0.600\n"
     ]
    },
    {
     "name": "stdout",
     "output_type": "stream",
     "text": [
      "[05/Dec/2021 00:45:18] INFO - ROC curve saved to: ../artifact_dir/plots/roc_curve_Gradient Boosting Machine (auc = 0.69).png\n"
     ]
    },
    {
     "name": "stdout",
     "output_type": "stream",
     "text": [
      "[05/Dec/2021 00:45:19] INFO - Precision-recall curve saved to: ../artifact_dir/plots/precision_recall_Gradient Boosting Machine (prec = 1.00, recall = 0.43).png\n"
     ]
    },
    {
     "name": "stdout",
     "output_type": "stream",
     "text": [
      "[05/Dec/2021 00:45:19] INFO - Model saved to: ../artifact_dir/models/Gradient Boosting Machine.pickle\n"
     ]
    },
    {
     "data": {
      "image/png": "[encoded data removed]",
      "text/plain": [
       "<Figure size 360x360 with 1 Axes>"
      ]
     },
     "metadata": {
      "needs_background": "light"
     },
     "output_type": "display_data"
    },
    {
     "data": {
      "image/png": "[encoded data removed]",
      "text/plain": [
       "<Figure size 1080x360 with 1 Axes>"
      ]
     },
     "metadata": {
      "needs_background": "light"
     },
     "output_type": "display_data"
    }
   ],
   "source": [
    "# Gradient Boosting\n",
    "model_name = 'Gradient Boosting Machine'\n",
    "model = GradientBoostingClassifier().fit(X_train, y_train)\n",
    "pred = model.predict_proba(X_val)[:, 1]\n",
    "log_mlflow(run_params, model, model_name, y_val, pred)"
   ]
  },
  {
   "cell_type": "code",
   "execution_count": 40,
   "id": "99402b3a",
   "metadata": {
    "execution": {
     "iopub.execute_input": "2021-12-04T19:15:19.751663Z",
     "iopub.status.busy": "2021-12-04T19:15:19.750663Z",
     "iopub.status.idle": "2021-12-04T19:15:20.423637Z",
     "shell.execute_reply": "2021-12-04T19:15:20.423637Z"
    },
    "papermill": {
     "duration": 0.83615,
     "end_time": "2021-12-04T19:15:20.423637",
     "exception": false,
     "start_time": "2021-12-04T19:15:19.587487",
     "status": "completed"
    },
    "tags": []
   },
   "outputs": [
    {
     "name": "stdout",
     "output_type": "stream",
     "text": [
      "[05/Dec/2021 00:45:19] INFO - AUC: 0.756 | Recall: 0.500 | Precision: 0.778 | F1: 0.609\n"
     ]
    },
    {
     "name": "stdout",
     "output_type": "stream",
     "text": [
      "[05/Dec/2021 00:45:20] INFO - ROC curve saved to: ../artifact_dir/plots/roc_curve_Extra Trees (auc = 0.76).png\n"
     ]
    },
    {
     "name": "stdout",
     "output_type": "stream",
     "text": [
      "[05/Dec/2021 00:45:20] INFO - Precision-recall curve saved to: ../artifact_dir/plots/precision_recall_Extra Trees (prec = 0.78, recall = 0.50).png\n"
     ]
    },
    {
     "name": "stdout",
     "output_type": "stream",
     "text": [
      "[05/Dec/2021 00:45:20] INFO - Model saved to: ../artifact_dir/models/Extra Trees.pickle\n"
     ]
    },
    {
     "data": {
      "image/png": "[encoded data removed]",
      "text/plain": [
       "<Figure size 360x360 with 1 Axes>"
      ]
     },
     "metadata": {
      "needs_background": "light"
     },
     "output_type": "display_data"
    },
    {
     "data": {
      "image/png": "[encoded data removed]",
      "text/plain": [
       "<Figure size 1080x360 with 1 Axes>"
      ]
     },
     "metadata": {
      "needs_background": "light"
     },
     "output_type": "display_data"
    }
   ],
   "source": [
    "# Bagged trees\n",
    "model_name = 'Extra Trees'\n",
    "model = ExtraTreesClassifier().fit(X_train, y_train)\n",
    "pred = model.predict_proba(X_val)[:, 1]\n",
    "log_mlflow(run_params, model, model_name, y_val, pred)"
   ]
  },
  {
   "cell_type": "markdown",
   "id": "88d79334",
   "metadata": {
    "papermill": {
     "duration": 0.183569,
     "end_time": "2021-12-04T19:15:20.771176",
     "exception": false,
     "start_time": "2021-12-04T19:15:20.587607",
     "status": "completed"
    },
    "tags": []
   },
   "source": [
    "### Test loading model"
   ]
  },
  {
   "cell_type": "code",
   "execution_count": 41,
   "id": "af5aaacb",
   "metadata": {
    "execution": {
     "iopub.execute_input": "2021-12-04T19:15:21.128300Z",
     "iopub.status.busy": "2021-12-04T19:15:21.127300Z",
     "iopub.status.idle": "2021-12-04T19:15:21.217344Z",
     "shell.execute_reply": "2021-12-04T19:15:21.217344Z"
    },
    "papermill": {
     "duration": 0.25817,
     "end_time": "2021-12-04T19:15:21.217344",
     "exception": false,
     "start_time": "2021-12-04T19:15:20.959174",
     "status": "completed"
    },
    "tags": []
   },
   "outputs": [],
   "source": [
    "model_name = 'Support Vector Classifier'\n",
    "check_model = load('{}/models/{}.pickle'.format(ARTIFACT_DIR, model_name))"
   ]
  },
  {
   "cell_type": "code",
   "execution_count": 42,
   "id": "40c1ac88",
   "metadata": {
    "execution": {
     "iopub.execute_input": "2021-12-04T19:15:21.622344Z",
     "iopub.status.busy": "2021-12-04T19:15:21.621302Z",
     "iopub.status.idle": "2021-12-04T19:15:21.719302Z",
     "shell.execute_reply": "2021-12-04T19:15:21.719302Z"
    },
    "papermill": {
     "duration": 0.280998,
     "end_time": "2021-12-04T19:15:21.719302",
     "exception": false,
     "start_time": "2021-12-04T19:15:21.438304",
     "status": "completed"
    },
    "tags": []
   },
   "outputs": [
    {
     "data": {
      "text/plain": [
       "SVC(C=1, gamma=2, probability=True)"
      ]
     },
     "execution_count": 42,
     "metadata": {},
     "output_type": "execute_result"
    }
   ],
   "source": [
    "check_model"
   ]
  },
  {
   "cell_type": "code",
   "execution_count": 43,
   "id": "cc11670d",
   "metadata": {
    "execution": {
     "iopub.execute_input": "2021-12-04T19:15:22.128177Z",
     "iopub.status.busy": "2021-12-04T19:15:22.128177Z",
     "iopub.status.idle": "2021-12-04T19:15:22.224181Z",
     "shell.execute_reply": "2021-12-04T19:15:22.223184Z"
    },
    "papermill": {
     "duration": 0.296007,
     "end_time": "2021-12-04T19:15:22.224181",
     "exception": false,
     "start_time": "2021-12-04T19:15:21.928174",
     "status": "completed"
    },
    "tags": []
   },
   "outputs": [],
   "source": [
    "pred = check_model.predict_proba(X_val)[:, 1]"
   ]
  },
  {
   "cell_type": "code",
   "execution_count": 44,
   "id": "3baff6d0",
   "metadata": {
    "execution": {
     "iopub.execute_input": "2021-12-04T19:15:22.535175Z",
     "iopub.status.busy": "2021-12-04T19:15:22.535175Z",
     "iopub.status.idle": "2021-12-04T19:15:22.627887Z",
     "shell.execute_reply": "2021-12-04T19:15:22.627887Z"
    },
    "papermill": {
     "duration": 0.241712,
     "end_time": "2021-12-04T19:15:22.628930",
     "exception": false,
     "start_time": "2021-12-04T19:15:22.387218",
     "status": "completed"
    },
    "tags": []
   },
   "outputs": [
    {
     "name": "stdout",
     "output_type": "stream",
     "text": [
      "[05/Dec/2021 00:45:22] INFO - AUC: 0.762 | Recall: 0.571 | Precision: 0.889 | F1: 0.696\n"
     ]
    },
    {
     "data": {
      "text/plain": [
       "(0.7619047619047619,\n",
       " 0.5714285714285714,\n",
       " 0.8888888888888888,\n",
       " 0.6956521739130435)"
      ]
     },
     "execution_count": 44,
     "metadata": {},
     "output_type": "execute_result"
    }
   ],
   "source": [
    "evaluate_binary(y_val, pred)"
   ]
  },
  {
   "cell_type": "code",
   "execution_count": null,
   "id": "4089ef64",
   "metadata": {
    "papermill": {
     "duration": 0.141095,
     "end_time": "2021-12-04T19:15:22.917964",
     "exception": false,
     "start_time": "2021-12-04T19:15:22.776869",
     "status": "completed"
    },
    "tags": []
   },
   "outputs": [],
   "source": []
  }
 ],
 "metadata": {
  "celltoolbar": "Tags",
  "interpreter": {
   "hash": "59e91c191c97324b2a36152b56cdd66e3729b4be830ea7b7f3cc1c1764fb3478"
  },
  "kernelspec": {
   "display_name": "Python 3",
   "language": "python",
   "name": "python3"
  },
  "language_info": {
   "codemirror_mode": {
    "name": "ipython",
    "version": 3
   },
   "file_extension": ".py",
   "mimetype": "text/x-python",
   "name": "python",
   "nbconvert_exporter": "python",
   "pygments_lexer": "ipython3",
   "version": "3.8.12"
  },
  "papermill": {
   "default_parameters": {},
   "duration": 25.163343,
   "end_time": "2021-12-04T19:15:23.398242",
   "environment_variables": {},
   "exception": null,
   "input_path": "basic.ipynb",
   "output_path": "../artifact_dir/notebooks/basic_SSE.ipynb",
   "parameters": {
    "INDEX": "SSE"
   },
   "start_time": "2021-12-04T19:14:58.234899",
   "version": "2.3.3"
  }
 },
 "nbformat": 4,
 "nbformat_minor": 5
}