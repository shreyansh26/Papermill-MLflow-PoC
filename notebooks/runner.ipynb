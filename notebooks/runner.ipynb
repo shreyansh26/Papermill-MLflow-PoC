{
 "cells": [
  {
   "cell_type": "code",
   "execution_count": 1,
   "metadata": {},
   "outputs": [],
   "source": [
    "import papermill as pm\n",
    "from logger import logger"
   ]
  },
  {
   "cell_type": "markdown",
   "metadata": {},
   "source": [
    "## Iterate through indices and execute each notebook\n"
   ]
  },
  {
   "cell_type": "code",
   "execution_count": 2,
   "metadata": {},
   "outputs": [
    {
     "name": "stdout",
     "output_type": "stream",
     "text": [
      "[05/Dec/2021 00:43:59] INFO - Running notebook for: SNP\n",
      "[05/Dec/2021 00:43:59] INFO - Input Notebook:  basic.ipynb\n",
      "[05/Dec/2021 00:43:59] INFO - Output Notebook: ../artifact_dir/notebooks/basic_SNP.ipynb\n",
      "[05/Dec/2021 00:43:59] INFO - Generating grammar tables from D:\\Softwares\\miniconda3\\envs\\mlops\\lib\\site-packages\\blib2to3\\Grammar.txt\n",
      "[05/Dec/2021 00:43:59] INFO - Writing grammar tables to C:\\Users\\shrey\\AppData\\Local\\black\\black\\Cache\\21.11b1\\Grammar3.8.12.final.0.pickle\n",
      "[05/Dec/2021 00:43:59] INFO - Writing failed: [Errno 2] No such file or directory: 'C:\\\\Users\\\\shrey\\\\AppData\\\\Local\\\\black\\\\black\\\\Cache\\\\21.11b1\\\\tmpeea309in'\n",
      "[05/Dec/2021 00:43:59] INFO - Generating grammar tables from D:\\Softwares\\miniconda3\\envs\\mlops\\lib\\site-packages\\blib2to3\\PatternGrammar.txt\n",
      "[05/Dec/2021 00:43:59] INFO - Writing grammar tables to C:\\Users\\shrey\\AppData\\Local\\black\\black\\Cache\\21.11b1\\PatternGrammar3.8.12.final.0.pickle\n",
      "[05/Dec/2021 00:43:59] INFO - Writing failed: [Errno 2] No such file or directory: 'C:\\\\Users\\\\shrey\\\\AppData\\\\Local\\\\black\\\\black\\\\Cache\\\\21.11b1\\\\tmpce3lxc3u'\n"
     ]
    },
    {
     "name": "stderr",
     "output_type": "stream",
     "text": [
      "Executing:   0%|          | 0/57 [00:00<?, ?cell/s]"
     ]
    },
    {
     "name": "stdout",
     "output_type": "stream",
     "text": [
      "[05/Dec/2021 00:44:02] INFO - Executing notebook with kernel: python3\n"
     ]
    },
    {
     "name": "stderr",
     "output_type": "stream",
     "text": [
      "Executing: 100%|██████████| 57/57 [00:31<00:00,  1.82cell/s]\n"
     ]
    },
    {
     "name": "stdout",
     "output_type": "stream",
     "text": [
      "[05/Dec/2021 00:44:31] INFO - Running notebook for: GOLD\n",
      "[05/Dec/2021 00:44:31] INFO - Input Notebook:  basic.ipynb\n",
      "[05/Dec/2021 00:44:31] INFO - Output Notebook: ../artifact_dir/notebooks/basic_GOLD.ipynb\n"
     ]
    },
    {
     "name": "stderr",
     "output_type": "stream",
     "text": [
      "Executing:   0%|          | 0/57 [00:00<?, ?cell/s]"
     ]
    },
    {
     "name": "stdout",
     "output_type": "stream",
     "text": [
      "[05/Dec/2021 00:44:33] INFO - Executing notebook with kernel: python3\n"
     ]
    },
    {
     "name": "stderr",
     "output_type": "stream",
     "text": [
      "Executing: 100%|██████████| 57/57 [00:26<00:00,  2.18cell/s]\n"
     ]
    },
    {
     "name": "stdout",
     "output_type": "stream",
     "text": [
      "[05/Dec/2021 00:44:58] INFO - Running notebook for: SSE\n",
      "[05/Dec/2021 00:44:58] INFO - Input Notebook:  basic.ipynb\n",
      "[05/Dec/2021 00:44:58] INFO - Output Notebook: ../artifact_dir/notebooks/basic_SSE.ipynb\n"
     ]
    },
    {
     "name": "stderr",
     "output_type": "stream",
     "text": [
      "Executing:   0%|          | 0/57 [00:00<?, ?cell/s]"
     ]
    },
    {
     "name": "stdout",
     "output_type": "stream",
     "text": [
      "[05/Dec/2021 00:45:00] INFO - Executing notebook with kernel: python3\n"
     ]
    },
    {
     "name": "stderr",
     "output_type": "stream",
     "text": [
      "Executing: 100%|██████████| 57/57 [00:25<00:00,  2.27cell/s]\n"
     ]
    },
    {
     "name": "stdout",
     "output_type": "stream",
     "text": [
      "[05/Dec/2021 00:45:23] INFO - Running notebook for: HANGSENG\n",
      "[05/Dec/2021 00:45:23] INFO - Input Notebook:  basic.ipynb\n",
      "[05/Dec/2021 00:45:23] INFO - Output Notebook: ../artifact_dir/notebooks/basic_HANGSENG.ipynb\n"
     ]
    },
    {
     "name": "stderr",
     "output_type": "stream",
     "text": [
      "Executing:   0%|          | 0/57 [00:00<?, ?cell/s]"
     ]
    },
    {
     "name": "stdout",
     "output_type": "stream",
     "text": [
      "[05/Dec/2021 00:45:25] INFO - Executing notebook with kernel: python3\n"
     ]
    },
    {
     "name": "stderr",
     "output_type": "stream",
     "text": [
      "Executing: 100%|██████████| 57/57 [00:25<00:00,  2.25cell/s]\n"
     ]
    },
    {
     "name": "stdout",
     "output_type": "stream",
     "text": [
      "[05/Dec/2021 00:45:49] INFO - Running notebook for: NIKKEI\n",
      "[05/Dec/2021 00:45:49] INFO - Input Notebook:  basic.ipynb\n",
      "[05/Dec/2021 00:45:49] INFO - Output Notebook: ../artifact_dir/notebooks/basic_NIKKEI.ipynb\n"
     ]
    },
    {
     "name": "stderr",
     "output_type": "stream",
     "text": [
      "Executing:   0%|          | 0/57 [00:00<?, ?cell/s]"
     ]
    },
    {
     "name": "stdout",
     "output_type": "stream",
     "text": [
      "[05/Dec/2021 00:45:51] INFO - Executing notebook with kernel: python3\n"
     ]
    },
    {
     "name": "stderr",
     "output_type": "stream",
     "text": [
      "Executing: 100%|██████████| 57/57 [00:25<00:00,  2.22cell/s]\n"
     ]
    }
   ],
   "source": [
    "for index in ['SNP', 'GOLD', 'SSE', 'HANGSENG', 'NIKKEI']:\n",
    "    logger.info('Running notebook for: {}'.format(index))\n",
    "    pm.execute_notebook(input_path='basic.ipynb', \n",
    "                        output_path='../artifact_dir/notebooks/basic_{}.ipynb'.format(index),\n",
    "                        parameters={'INDEX': index})"
   ]
  },
  {
   "cell_type": "code",
   "execution_count": null,
   "metadata": {},
   "outputs": [],
   "source": []
  }
 ],
 "metadata": {
  "interpreter": {
   "hash": "59e91c191c97324b2a36152b56cdd66e3729b4be830ea7b7f3cc1c1764fb3478"
  },
  "kernelspec": {
   "display_name": "Python 3.8.12 64-bit ('mlops': conda)",
   "language": "python",
   "name": "python3"
  },
  "language_info": {
   "codemirror_mode": {
    "name": "ipython",
    "version": 3
   },
   "file_extension": ".py",
   "mimetype": "text/x-python",
   "name": "python",
   "nbconvert_exporter": "python",
   "pygments_lexer": "ipython3",
   "version": "3.8.12"
  },
  "orig_nbformat": 4
 },
 "nbformat": 4,
 "nbformat_minor": 2
}
